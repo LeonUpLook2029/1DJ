{
  "nbformat": 4,
  "nbformat_minor": 0,
  "metadata": {
    "colab": {
      "provenance": [],
      "collapsed_sections": [],
      "include_colab_link": true
    },
    "kernelspec": {
      "name": "python3",
      "display_name": "Python 3"
    },
    "language_info": {
      "name": "python"
    }
  },
  "cells": [
    {
      "cell_type": "markdown",
      "metadata": {
        "id": "view-in-github",
        "colab_type": "text"
      },
      "source": [
        "<a href=\"https://colab.research.google.com/github/LeonUpLook2029/1DJ/blob/master/9_8_%D0%94%D0%BE%D0%BC%D0%B0%D1%88%D0%BD%D0%B5%D0%B5_%D0%B7%D0%B0%D0%B4%D0%B0%D0%BD%D0%B8%D0%B5.ipynb\" target=\"_parent\"><img src=\"https://colab.research.google.com/assets/colab-badge.svg\" alt=\"Open In Colab\"/></a>"
      ]
    },
    {
      "cell_type": "markdown",
      "metadata": {
        "id": "I3cIqq1_avyx"
      },
      "source": [
        "# Функции. Домашнее задание\n",
        "\n",
        "В домашнем задании есть обязательные и дополнительные задачи.\n",
        "\n",
        "*Обязательные задачи* нужно сделать, чтобы проверить, что вы действительно усвоили материал модуля. Они обязательны к загрузке на проверку преподавателю.\n",
        "\n",
        "*Дополнительные задачи* для тех, кто чувствует, что нужно ещё немного потренироваться и порешать задачки по программированию. Вы также можете загрузить их на проверку преподавателю и получить по ним обратную связь.\n",
        "\n",
        "Удачи!\n"
      ]
    },
    {
      "cell_type": "markdown",
      "metadata": {
        "id": "TaxnMjUDcPku"
      },
      "source": [
        "---"
      ]
    },
    {
      "cell_type": "markdown",
      "metadata": {
        "id": "mF7WQFldayeZ"
      },
      "source": [
        "**Цели домашнего задания:**\n",
        "1. Научиться декомпозировать код с помощью функций.\n",
        "2. Попрактиковаться в использовании встроенных функций и методов.\n",
        "3. Проверить понимание и умение работать с рекурсивными функциями.\n",
        "4. Отработать обработку текстовых данных.\n",
        "\n"
      ]
    },
    {
      "cell_type": "markdown",
      "metadata": {
        "id": "qrO7Cn2EeUP9"
      },
      "source": [
        "**Что входит в домашнее задание:**\n",
        "1. *Обязательные задачи*:\n",
        "- Конвертация валют.\n",
        "- Обработка анкет.\n",
        "- Факториал.\n",
        "- Палиндром\n",
        "\n",
        "2. *Дополнительные задачи*:\n",
        "- Количество цифр в числе.\n",
        "- Количество отличников и двоечников.\n",
        "- Калькулятор.\n",
        "\n"
      ]
    },
    {
      "cell_type": "markdown",
      "metadata": {
        "id": "JyaO4C1veWzM"
      },
      "source": [
        "**Критерии оценки:**\n",
        "- программа выдаёт верный ответ на разных наборах входных данных;\n",
        "- код читабелен: переменным даны осмысленные названия, отступы и правила расстановки пробелов соблюдены;\n",
        "- код соответствует принципу DRY и декомпозирован с помощью функций.\n",
        "\n",
        "\n",
        "**Как отправить задание на проверку**\n",
        "\n",
        "Выполните задачи, сохраните изменения при помощи опции Save and Checkpoint из вкладки меню File или кнопки Save and Checkpoint на панели инструментов. Отправьте через форму на платформе итоговый файл Jupyter Notebook (в формате .ipynb) или ссылку на него."
      ]
    },
    {
      "cell_type": "markdown",
      "metadata": {
        "id": "qSDMGVxpbOMM"
      },
      "source": [
        "\n",
        "\n",
        "---\n",
        "\n",
        "\n",
        "\n",
        "---\n",
        "\n"
      ]
    },
    {
      "cell_type": "markdown",
      "metadata": {
        "id": "6m31Ptr8tFdp"
      },
      "source": [
        "**Обязательные задачи**"
      ]
    },
    {
      "cell_type": "markdown",
      "metadata": {
        "id": "1nI8YsZQ8xvq"
      },
      "source": [
        "*Задача 1. Конвертация валют*\n",
        "\n",
        "Напишите функцию `rub_to_currency`, которая переводит деньги в рублях в одну из двух валют: USD или CNY. У функции должно быть два входных параметра:\n",
        "1. `rub_amount` — деньги в рублях;\n",
        "2.  `currency` — валюта, в которую нужно совершить перевод. Если второй параметр не указан, по умолчанию следует считать его равным USD.\n",
        "\n",
        "На выходе функция должна вывести на экран, сколько рублей было дано в начале и сколько денег получилось в заданной валюте. В случае с китайским юанем также нужно вывести промежуточное значение в долларах. Если на вход в `currency` приходит невалидное значение, нужно вывести на экран сообщение: «Расчёт не может быть совершён».\n",
        "\n",
        "Декомпозируйте данную задачу на несколько функций.\n",
        "\n",
        "Проверьте, что функция `rub_to_currency` в последующих ячейках отработала верно."
      ]
    },
    {
      "cell_type": "code",
      "metadata": {
        "id": "u1pxlf7BDNa4"
      },
      "source": [
        "# Создайте вспомогательные функции для перевода в доллар и китайский юань\n",
        "# Считайте курс доллара к рублю следующим: 1USD = 70,99RUB, курс доллара к юаню: 1USD = 6,44CNY\n",
        "def rub_to_usd(rub):\n",
        "    rate = rub/70.99\n",
        "    return rate\n",
        "def rub_to_cny(rub):\n",
        "    rate = rub/6,44\n",
        "    return rate\n"
      ],
      "execution_count": null,
      "outputs": []
    },
    {
      "cell_type": "code",
      "metadata": {
        "id": "HBAVvL_-qSCC"
      },
      "source": [
        "def rub_to_currency(rub_amount, currency='USD'):\n",
        "    # функция без return\n",
        "    if currency == 'USD' or currency == '':\n",
        "        print(f'было:{rub_amount}RUB, стало:{rub_to_usd(rub_amount)}USD')\n",
        "    elif currency == 'CNY':\n",
        "        print(f'было:{rub_amount}RUB, стало:{rub_to_cny(rub_amount)}CNY')\n",
        "    else:\n",
        "        print('Расчёт не может быть совершён')\n"
      ],
      "execution_count": null,
      "outputs": []
    },
    {
      "cell_type": "code",
      "metadata": {
        "colab": {
          "base_uri": "https://localhost:8080/"
        },
        "id": "Yjg-saciqofS",
        "outputId": "313aaa0e-d13c-4e72-f33d-721d5d439d1b"
      },
      "source": [
        "rub_to_currency(7200, 'USD')"
      ],
      "execution_count": null,
      "outputs": [
        {
          "output_type": "stream",
          "name": "stdout",
          "text": [
            "было:7200RUB, стало:101.4227355965629USD\n"
          ]
        }
      ]
    },
    {
      "cell_type": "code",
      "metadata": {
        "colab": {
          "base_uri": "https://localhost:8080/"
        },
        "id": "Q7CjbrYeGWdV",
        "outputId": "77cb6d9a-995a-43a5-a832-e2c222da37e8"
      },
      "source": [
        "rub_to_currency(7200, 'CNY')"
      ],
      "execution_count": null,
      "outputs": [
        {
          "output_type": "stream",
          "name": "stdout",
          "text": [
            "было:7200RUB, стало:(1200.0, 44)CNY\n"
          ]
        }
      ]
    },
    {
      "cell_type": "code",
      "metadata": {
        "colab": {
          "base_uri": "https://localhost:8080/"
        },
        "id": "YdeDa2mkGfx1",
        "outputId": "c1979842-8466-4982-e045-893b4c17e491"
      },
      "source": [
        "rub_to_currency(7200, 'EUR')"
      ],
      "execution_count": null,
      "outputs": [
        {
          "output_type": "stream",
          "name": "stdout",
          "text": [
            "Расчёт не может быть совершён\n"
          ]
        }
      ]
    },
    {
      "cell_type": "code",
      "metadata": {
        "colab": {
          "base_uri": "https://localhost:8080/"
        },
        "id": "vdPKCHseAFLZ",
        "outputId": "887ed233-2474-4d32-920b-918ea762f933"
      },
      "source": [
        "rub_to_currency(7200)"
      ],
      "execution_count": null,
      "outputs": [
        {
          "output_type": "stream",
          "name": "stdout",
          "text": [
            "было:7200RUB, стало:101.4227355965629USD\n"
          ]
        }
      ]
    },
    {
      "cell_type": "markdown",
      "metadata": {
        "id": "1YIw6X35mR5U"
      },
      "source": [
        "*Задача 2. Обработка анкет*\n",
        "\n",
        "Вам выгрузили список с анкетами потенциальных клиентов, которые заинтересовались покупкой подписки на здоровую еду. Вам нужно обработать эти значения и сказать, какие анкеты подходят (а какие нет) для дальнейшего обзвона колл-центром.\n",
        "\n",
        "Условия, которым должна удовлетворять анкета:\n",
        "* Есть контактная информация: номер телефона.\n",
        "* Контактный номер начинается либо с восьмёрки, либо с семёрки и состоит из десяти символов.\n",
        "* Город проживания: Москва.\n",
        "\n",
        "Пример анкеты выглядит следующим образом: `name=Аня,phone=8800234 , city=москва`. Заметьте, в значениях параметров городов, имён, номеров телефонов могут встретиться лишние пробелы. Попробуйте удалить их с помощью метода `replace`.\n"
      ]
    },
    {
      "cell_type": "code",
      "metadata": {
        "colab": {
          "base_uri": "https://localhost:8080/"
        },
        "id": "t_BdijwS72m2",
        "outputId": "78a7582a-a68f-4c79-9027-c0e04a974055"
      },
      "source": [
        "# Метод replace заменяет все вхождения строки, указанной первым аргументом, на строку, указанную вторым аргументом\n",
        "\n",
        "# Замена восклицательного знака на пустоту\n",
        "print('!!!aaaa'.replace('!',''))\n",
        "# Замена а на вопросительный знак\n",
        "print('!!!aaaa'.replace('a','?'))\n",
        "# Замена двух восклицательных знаков на вопросительный\n",
        "print('!!!aaaa'.replace('!!','?'))"
      ],
      "execution_count": null,
      "outputs": [
        {
          "output_type": "stream",
          "name": "stdout",
          "text": [
            "aaaa\n",
            "!!!????\n",
            "?!aaaa\n"
          ]
        }
      ]
    },
    {
      "cell_type": "code",
      "metadata": {
        "id": "bQFctEmbrezu"
      },
      "source": [
        "applications = [\n",
        "         'name=Аня,phone=8800234 ,city=москва',\n",
        "         'name=КОЛЯ,phone=8800900871 ,city=МОСКВА',\n",
        "         'name=Валентина,phone=7950900871 ,city=волгоград',\n",
        "         'name=,phone=7999901871,city=москва',\n",
        "         'name=Иван,phone=7999901871,city=москва',\n",
        "         'name=Инга,phone=,city=москва'\n",
        "\n",
        "] "
      ],
      "execution_count": null,
      "outputs": []
    },
    {
      "cell_type": "code",
      "metadata": {
        "id": "pLEy-WBWswti"
      },
      "source": [
        "# функция проверки валидности номера\n",
        "def check_phone(phone):\n",
        "  #Ваш код здесь\n",
        "\n",
        "# функция проверки города\n",
        "def check_city(city):\n",
        "  #Ваш код здесь\n",
        "\n",
        "# функция проверки одной анкеты\n",
        "def check_application(application):\n",
        "  #Ваш код здесь"
      ],
      "execution_count": null,
      "outputs": []
    },
    {
      "cell_type": "code",
      "metadata": {
        "id": "Cd5SqD6cset6"
      },
      "source": [
        "# функция проверки списка анкет\n",
        "def find_valid_applications(applications):\n",
        "  #Ваш код здесь"
      ],
      "execution_count": null,
      "outputs": []
    },
    {
      "cell_type": "markdown",
      "metadata": {
        "id": "F8ISsSdO8hL8"
      },
      "source": [
        "Результат функции должен быть напечатан на экран в следующем виде:"
      ]
    },
    {
      "cell_type": "code",
      "metadata": {
        "colab": {
          "base_uri": "https://localhost:8080/"
        },
        "id": "S7JfnKlE2k8n",
        "outputId": "ac071921-5f07-4b32-e8bd-0655302074ff"
      },
      "source": [
        "find_valid_applications(applications)"
      ],
      "execution_count": null,
      "outputs": [
        {
          "output_type": "stream",
          "name": "stdout",
          "text": [
            "name=Аня,phone=8800234 ,city=москва --- False\n",
            "name=КОЛЯ,phone=8800900871 ,city=МОСКВА --- True\n",
            "name=Валентина,phone=7950900871 ,city=волгоград --- False\n",
            "name=,phone=7999901871,city=москва --- True\n",
            "name=Иван,phone=7999901871,city=москва --- True\n",
            "name=Инга,phone=,city=москва --- False\n"
          ]
        }
      ]
    },
    {
      "cell_type": "markdown",
      "metadata": {
        "id": "c3X805npAhXG"
      },
      "source": [
        "*Задача 3. Факториал*\n",
        "\n",
        "Факториалом числа n называется произведение всех натуральных чисел от 1 до n.\n",
        "\n",
        "\n",
        "\n",
        "> n! = 1 \\* 2 \\*...\\* n\n",
        "\n",
        "> 3! = 1 \\* 2 \\* 3 = 6\n",
        "\n",
        "> 0! = 1\n",
        "\n",
        "Напишите рекурсивную функцию нахождения факториала, где входным параметром является одно единственное число — n. Проверьте, что функция в последующих ячейках отработала верно.\n",
        "\n",
        "\n",
        "\n",
        "\n",
        "\n",
        "\n",
        "\n"
      ]
    },
    {
      "cell_type": "code",
      "metadata": {
        "id": "qD9afK3cC2GY"
      },
      "source": [
        "# Ваш код здесь\n",
        "def factorial(n):\n",
        "    if n == 0:\n",
        "        return 1\n",
        "    else:\n",
        "        print(factorial(n-1), n)\n",
        "        return factorial(n-1)*n"
      ],
      "execution_count": null,
      "outputs": []
    },
    {
      "cell_type": "code",
      "metadata": {
        "colab": {
          "base_uri": "https://localhost:8080/"
        },
        "id": "w1WpXrpCCta8",
        "outputId": "3a48dc37-b0eb-46df-ede1-fdfc847394f7"
      },
      "source": [
        "factorial(1)"
      ],
      "execution_count": null,
      "outputs": [
        {
          "output_type": "stream",
          "name": "stdout",
          "text": [
            "1 1\n"
          ]
        },
        {
          "output_type": "execute_result",
          "data": {
            "text/plain": [
              "1"
            ]
          },
          "metadata": {},
          "execution_count": 16
        }
      ]
    },
    {
      "cell_type": "code",
      "metadata": {
        "colab": {
          "base_uri": "https://localhost:8080/"
        },
        "id": "5ZE9XanICvZJ",
        "outputId": "e587a118-67a6-439a-f113-bf5fdeb67fbd"
      },
      "source": [
        "factorial(0)"
      ],
      "execution_count": null,
      "outputs": [
        {
          "output_type": "execute_result",
          "data": {
            "text/plain": [
              "1"
            ]
          },
          "metadata": {},
          "execution_count": 17
        }
      ]
    },
    {
      "cell_type": "code",
      "metadata": {
        "colab": {
          "base_uri": "https://localhost:8080/"
        },
        "id": "oGZg0EDkCw6H",
        "outputId": "d5a78177-2940-4f39-8e60-7844f05e1446"
      },
      "source": [
        "factorial(4)"
      ],
      "execution_count": null,
      "outputs": [
        {
          "output_type": "stream",
          "name": "stdout",
          "text": [
            "1 1\n",
            "1 2\n",
            "1 1\n",
            "2 3\n",
            "1 1\n",
            "1 2\n",
            "1 1\n",
            "6 4\n",
            "1 1\n",
            "1 2\n",
            "1 1\n",
            "2 3\n",
            "1 1\n",
            "1 2\n",
            "1 1\n"
          ]
        },
        {
          "output_type": "execute_result",
          "data": {
            "text/plain": [
              "24"
            ]
          },
          "metadata": {},
          "execution_count": 18
        }
      ]
    },
    {
      "cell_type": "markdown",
      "metadata": {
        "id": "Bit-nevse14o"
      },
      "source": [
        "*Задача 4. Палиндром*\n",
        "\n",
        "Палиндромом называется такое слово (или фраза), которое слева направо и справа налево читается одинаково. Нужно написать рекурсивную функцию, которая будет возвращать `True`, если слово палиндром, и `False`, если нет.\n",
        "\n",
        "Будем считать, что пустая строка также является палиндромом.\n",
        "\n",
        "Решение должно работать на строках без знаков препинания. Проверьте, что функция в последующих ячейках отработала верно.\n",
        "\n"
      ]
    },
    {
      "cell_type": "code",
      "metadata": {
        "id": "IHePFicik7Ih"
      },
      "source": [
        "def palindrom(text):\n",
        "  # Ваш код здесь"
      ],
      "execution_count": null,
      "outputs": []
    },
    {
      "cell_type": "code",
      "metadata": {
        "colab": {
          "base_uri": "https://localhost:8080/"
        },
        "id": "YAZcDrWRitX6",
        "outputId": "0424530f-c352-4902-b5aa-332603fefcd6"
      },
      "source": [
        "palindrom('saippuakivikauppias')"
      ],
      "execution_count": null,
      "outputs": [
        {
          "output_type": "execute_result",
          "data": {
            "text/plain": [
              "True"
            ]
          },
          "metadata": {},
          "execution_count": 21
        }
      ]
    },
    {
      "cell_type": "code",
      "metadata": {
        "colab": {
          "base_uri": "https://localhost:8080/"
        },
        "id": "mGGspj3Fivdk",
        "outputId": "47e70b6d-5b48-46dc-9f9f-75b7ad60b2d1"
      },
      "source": [
        "palindrom('murmur')"
      ],
      "execution_count": null,
      "outputs": [
        {
          "output_type": "execute_result",
          "data": {
            "text/plain": [
              "False"
            ]
          },
          "metadata": {},
          "execution_count": 22
        }
      ]
    },
    {
      "cell_type": "code",
      "metadata": {
        "colab": {
          "base_uri": "https://localhost:8080/"
        },
        "id": "5Nw0wTEPiwYV",
        "outputId": "7ee7f468-f42e-4417-faf4-a8a5262614f1"
      },
      "source": [
        "palindrom('В резерв')"
      ],
      "execution_count": null,
      "outputs": [
        {
          "output_type": "execute_result",
          "data": {
            "text/plain": [
              "True"
            ]
          },
          "metadata": {},
          "execution_count": 23
        }
      ]
    },
    {
      "cell_type": "code",
      "metadata": {
        "colab": {
          "base_uri": "https://localhost:8080/"
        },
        "id": "Kb9qX0ZDjaWu",
        "outputId": "3cd76a92-48af-48af-cdaa-038d7c219cf8"
      },
      "source": [
        "palindrom('Sator Arepo tenet opera rotas')"
      ],
      "execution_count": null,
      "outputs": [
        {
          "output_type": "execute_result",
          "data": {
            "text/plain": [
              "True"
            ]
          },
          "metadata": {},
          "execution_count": 24
        }
      ]
    },
    {
      "cell_type": "markdown",
      "metadata": {
        "id": "FzHBlVyLDJCI"
      },
      "source": [
        "\n",
        "\n",
        "---\n",
        "\n",
        "\n",
        "\n",
        "---\n",
        "\n"
      ]
    },
    {
      "cell_type": "markdown",
      "metadata": {
        "id": "urJcsE1JDEjB"
      },
      "source": [
        "**Дополнительные задачи**"
      ]
    },
    {
      "cell_type": "markdown",
      "metadata": {
        "id": "VEgXwB5SH0LL"
      },
      "source": [
        "*Задача 5. Количество цифр в числе*\n",
        "\n",
        "Напишите функцию, которая рассчитывает количество цифр в целом числе, приходящем ей на вход.\n",
        "\n",
        "Рассмотрите два способа решения данной задачи: через строковые переменные и без использования строковых переменных.\n",
        "\n",
        "**Пример:**\n",
        "<br>\n",
        "Input: `n = 1234567` \n",
        "<br>\n",
        "Output: `7`"
      ]
    },
    {
      "cell_type": "code",
      "metadata": {
        "id": "IOxO5n6dwPWy",
        "outputId": "929d908a-d91c-4828-860a-dbc5313045fd",
        "colab": {
          "base_uri": "https://localhost:8080/"
        }
      },
      "source": [
        "# со строковой переменной\n",
        "def sum_number(num):\n",
        "  str_num = str(num)\n",
        "  suma = 0\n",
        "  for sum_n in str_num:\n",
        "    suma +=int(sum_n)\n",
        "  return suma\n",
        "\n",
        "print(sum_number(120))"
      ],
      "execution_count": 1,
      "outputs": [
        {
          "output_type": "stream",
          "name": "stdout",
          "text": [
            "3\n"
          ]
        }
      ]
    },
    {
      "cell_type": "code",
      "source": [
        "# без строковой переменной\n",
        "def sum_number(num):\n",
        "    suma = 0\n",
        "    while num > 0:\n",
        "        tmp = num % 10\n",
        "        suma = suma + tmp\n",
        "    #убрать десяток\n",
        "        num = num // 10\n",
        "    return suma\n",
        "\n",
        "print(sum_number(12042))"
      ],
      "metadata": {
        "id": "1xUNwszyTR30",
        "outputId": "0521cad4-4c15-4e46-bed1-9ed3c8ccbf59",
        "colab": {
          "base_uri": "https://localhost:8080/"
        }
      },
      "execution_count": null,
      "outputs": [
        {
          "output_type": "stream",
          "name": "stdout",
          "text": [
            "9\n"
          ]
        }
      ]
    },
    {
      "cell_type": "markdown",
      "metadata": {
        "id": "Uf-63ipMwTrs"
      },
      "source": [
        "*Задача 6. Количество отличников и двоечников*\n",
        "\n",
        "Дан список, в каждом элементе которого лежат оценки за финальный экзамен по русскому языку по одному классу. Найдите количество сдавших (оценка >= 3) и не сдавших (оценка < 3) экзамен в каждом классе, а также выведите результативность класса.\n",
        "\n",
        "Результативность класса считается по следующей логике:\n",
        "* если количество оценок 4 и 5 в классе > 95%, результативность отличная;\n",
        "* если количество оценок 4 и 5 в классе < 30%, результативность плохая;\n",
        "* в остальных случаях результативность средняя.\n",
        "\n",
        "Декомпозируйте задачу с помощью функций. Добавьте возможность менять пороги результативности с помощью входных параметров.\n"
      ]
    },
    {
      "cell_type": "code",
      "metadata": {
        "id": "aVeAgJbCyJeP"
      },
      "source": [
        "scores = [\n",
        "          [2, 4, 4, 5, 2, 3, 3, 1, 1],\n",
        "          [3, 4, 2, 3, 3, 1, 5, 2, 4],\n",
        "          [5, 3, 3, 4, 3, 2, 3, 5],\n",
        "          [4, 2, 2, 4, 2],\n",
        "          [4, 3, 3, 3, 3, 3, 3],\n",
        "          [2, 1, 5, 3, 5, 5],\n",
        "          [4, 4, 4, 4, 5, 5],\n",
        "          [4, 1, 3, 4, 1, 1]\n",
        "]\n",
        "\n",
        "def sum_pass(mark):\n",
        "    value = 0\n",
        "    \n",
        "    for n in mark:\n",
        "        if int(n) >= 3:\n",
        "            value += 1\n",
        "    return value\n",
        "\n",
        "\n",
        "def sum_not_pass(mark):\n",
        "    value = 0\n",
        "    for n in mark:\n",
        "        if int(n) < 3:\n",
        "            value += 1\n",
        "    return value\n",
        "\n",
        "\n",
        "def sum_4_5(mark):\n",
        "    value = 0\n",
        "    for n in mark:\n",
        "        if int(n) >= 4:\n",
        "            value += 1\n",
        "    return value\n",
        "\n",
        "\n",
        "\n",
        "def get_info(est):\n",
        "    rating1 = int(input('Введите нижний порог результативности в %:'))/100\n",
        "    rating2 = int(input('Введите верхний порог результативности в %:'))/100\n",
        "    for class_n in est:\n",
        "        \n",
        "        # количество оценок 4 и 5 в классе\n",
        "        info_4_5 = sum_4_5(class_n)\n",
        "        info_sum = len(class_n)\n",
        "\n",
        "        if info_4_5/info_sum < rating1:\n",
        "            #Итог по классу:Плохо\n",
        "            info_rating = 'Плохо'\n",
        "        elif info_4_5/info_sum > rating2:\n",
        "            #Итог по классу:Отлично\n",
        "            info_rating = 'Отлично'\n",
        "        else:\n",
        "            #Итог по классу:Удовлетворительно\n",
        "            info_rating = 'Удовлетворительно'\n",
        "        print(f'Количество сдавших:{sum_pass(class_n)}, Количество проваливших:{sum_not_pass(class_n)}, Итог по классу:{info_rating}') \n"
      ],
      "execution_count": 21,
      "outputs": []
    },
    {
      "cell_type": "code",
      "metadata": {
        "colab": {
          "base_uri": "https://localhost:8080/"
        },
        "id": "sTzCQqo336Z-",
        "outputId": "91a5e015-c09c-4dc8-b6be-a85728331d8c"
      },
      "source": [
        "# Пример вывода\n",
        "\n",
        "get_info(scores)"
      ],
      "execution_count": 22,
      "outputs": [
        {
          "output_type": "stream",
          "name": "stdout",
          "text": [
            "Введите нижний порог результативности в %:30\n",
            "Введите верхний порог результативности в %:95\n",
            "Количество сдавших:5, Количество проваливших:4, Итог по классу:Удовлетворительно\n",
            "Количество сдавших:6, Количество проваливших:3, Итог по классу:Удовлетворительно\n",
            "Количество сдавших:7, Количество проваливших:1, Итог по классу:Удовлетворительно\n",
            "Количество сдавших:2, Количество проваливших:3, Итог по классу:Удовлетворительно\n",
            "Количество сдавших:7, Количество проваливших:0, Итог по классу:Плохо\n",
            "Количество сдавших:4, Количество проваливших:2, Итог по классу:Удовлетворительно\n",
            "Количество сдавших:6, Количество проваливших:0, Итог по классу:Отлично\n",
            "Количество сдавших:3, Количество проваливших:3, Итог по классу:Удовлетворительно\n"
          ]
        }
      ]
    },
    {
      "cell_type": "markdown",
      "metadata": {
        "id": "HYOZFVZ6Dz3t"
      },
      "source": [
        "*Задача 7. Калькулятор*\n",
        "\n",
        "На вход в ваш калькулятор из стандартного ввода приходит выражение, в котором есть только числа и операции сложения и умножения.\n",
        "\n",
        "Нужно написать функцию, которая обрабатывает входную строку и выдаёт результат выражения на выходе.\n",
        "\n",
        "Используйте декомпозицию с помощью функций. Проверьте, что последующие ячейки отработали верно.\n",
        "\n",
        "\n"
      ]
    },
    {
      "cell_type": "code",
      "metadata": {
        "id": "HAdvG7CVBwv3"
      },
      "source": [
        "# Ваш код здесь"
      ],
      "execution_count": null,
      "outputs": []
    },
    {
      "cell_type": "code",
      "metadata": {
        "colab": {
          "base_uri": "https://localhost:8080/"
        },
        "id": "IuEVDkewAXs8",
        "outputId": "7ac5117f-cbc4-403b-b731-bb49f577e658"
      },
      "source": [
        "expression = '1+2*4*5+7*10*11'\n",
        "extract_expression(expression)"
      ],
      "execution_count": null,
      "outputs": [
        {
          "output_type": "execute_result",
          "data": {
            "text/plain": [
              "811"
            ]
          },
          "metadata": {},
          "execution_count": 33
        }
      ]
    },
    {
      "cell_type": "code",
      "metadata": {
        "colab": {
          "base_uri": "https://localhost:8080/"
        },
        "id": "e2M3A0VqAcZM",
        "outputId": "7d0bfb16-927e-4049-effb-627a1c189f7d"
      },
      "source": [
        "extract_expression('1+2+3+10')"
      ],
      "execution_count": null,
      "outputs": [
        {
          "output_type": "execute_result",
          "data": {
            "text/plain": [
              "16"
            ]
          },
          "metadata": {},
          "execution_count": 34
        }
      ]
    },
    {
      "cell_type": "code",
      "metadata": {
        "colab": {
          "base_uri": "https://localhost:8080/"
        },
        "id": "KexrzLZdCCa6",
        "outputId": "7aa32915-3993-428e-e989-ede347b722f0"
      },
      "source": [
        "extract_expression('1*2*10')"
      ],
      "execution_count": null,
      "outputs": [
        {
          "output_type": "execute_result",
          "data": {
            "text/plain": [
              "20"
            ]
          },
          "metadata": {},
          "execution_count": 35
        }
      ]
    },
    {
      "cell_type": "code",
      "metadata": {
        "id": "IcmxuRHwCGzK"
      },
      "source": [],
      "execution_count": null,
      "outputs": []
    }
  ]
}