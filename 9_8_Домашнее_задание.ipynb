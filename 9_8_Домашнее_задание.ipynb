{
  "nbformat": 4,
  "nbformat_minor": 0,
  "metadata": {
    "colab": {
      "provenance": [],
      "collapsed_sections": [],
      "include_colab_link": true
    },
    "kernelspec": {
      "name": "python3",
      "display_name": "Python 3"
    },
    "language_info": {
      "name": "python"
    }
  },
  "cells": [
    {
      "cell_type": "markdown",
      "metadata": {
        "id": "view-in-github",
        "colab_type": "text"
      },
      "source": [
        "<a href=\"https://colab.research.google.com/github/LeonUpLook2029/1DJ/blob/master/9_8_%D0%94%D0%BE%D0%BC%D0%B0%D1%88%D0%BD%D0%B5%D0%B5_%D0%B7%D0%B0%D0%B4%D0%B0%D0%BD%D0%B8%D0%B5.ipynb\" target=\"_parent\"><img src=\"https://colab.research.google.com/assets/colab-badge.svg\" alt=\"Open In Colab\"/></a>"
      ]
    },
    {
      "cell_type": "markdown",
      "metadata": {
        "id": "I3cIqq1_avyx"
      },
      "source": [
        "# Функции. Домашнее задание\n",
        "\n",
        "В домашнем задании есть обязательные и дополнительные задачи.\n",
        "\n",
        "*Обязательные задачи* нужно сделать, чтобы проверить, что вы действительно усвоили материал модуля. Они обязательны к загрузке на проверку преподавателю.\n",
        "\n",
        "*Дополнительные задачи* для тех, кто чувствует, что нужно ещё немного потренироваться и порешать задачки по программированию. Вы также можете загрузить их на проверку преподавателю и получить по ним обратную связь.\n",
        "\n",
        "Удачи!\n"
      ]
    },
    {
      "cell_type": "markdown",
      "metadata": {
        "id": "TaxnMjUDcPku"
      },
      "source": [
        "---"
      ]
    },
    {
      "cell_type": "markdown",
      "metadata": {
        "id": "mF7WQFldayeZ"
      },
      "source": [
        "**Цели домашнего задания:**\n",
        "1. Научиться декомпозировать код с помощью функций.\n",
        "2. Попрактиковаться в использовании встроенных функций и методов.\n",
        "3. Проверить понимание и умение работать с рекурсивными функциями.\n",
        "4. Отработать обработку текстовых данных.\n",
        "\n"
      ]
    },
    {
      "cell_type": "markdown",
      "metadata": {
        "id": "qrO7Cn2EeUP9"
      },
      "source": [
        "**Что входит в домашнее задание:**\n",
        "1. *Обязательные задачи*:\n",
        "- Конвертация валют.\n",
        "- Обработка анкет.\n",
        "- Факториал.\n",
        "- Палиндром\n",
        "\n",
        "2. *Дополнительные задачи*:\n",
        "- Количество цифр в числе.\n",
        "- Количество отличников и двоечников.\n",
        "- Калькулятор.\n",
        "\n"
      ]
    },
    {
      "cell_type": "markdown",
      "metadata": {
        "id": "JyaO4C1veWzM"
      },
      "source": [
        "**Критерии оценки:**\n",
        "- программа выдаёт верный ответ на разных наборах входных данных;\n",
        "- код читабелен: переменным даны осмысленные названия, отступы и правила расстановки пробелов соблюдены;\n",
        "- код соответствует принципу DRY и декомпозирован с помощью функций.\n",
        "\n",
        "\n",
        "**Как отправить задание на проверку**\n",
        "\n",
        "Выполните задачи, сохраните изменения при помощи опции Save and Checkpoint из вкладки меню File или кнопки Save and Checkpoint на панели инструментов. Отправьте через форму на платформе итоговый файл Jupyter Notebook (в формате .ipynb) или ссылку на него."
      ]
    },
    {
      "cell_type": "markdown",
      "metadata": {
        "id": "qSDMGVxpbOMM"
      },
      "source": [
        "\n",
        "\n",
        "---\n",
        "\n",
        "\n",
        "\n",
        "---\n",
        "\n"
      ]
    },
    {
      "cell_type": "markdown",
      "metadata": {
        "id": "6m31Ptr8tFdp"
      },
      "source": [
        "**Обязательные задачи**"
      ]
    },
    {
      "cell_type": "markdown",
      "metadata": {
        "id": "1nI8YsZQ8xvq"
      },
      "source": [
        "*Задача 1. Конвертация валют*\n",
        "\n",
        "Напишите функцию `rub_to_currency`, которая переводит деньги в рублях в одну из двух валют: USD или CNY. У функции должно быть два входных параметра:\n",
        "1. `rub_amount` — деньги в рублях;\n",
        "2.  `currency` — валюта, в которую нужно совершить перевод. Если второй параметр не указан, по умолчанию следует считать его равным USD.\n",
        "\n",
        "На выходе функция должна вывести на экран, сколько рублей было дано в начале и сколько денег получилось в заданной валюте. В случае с китайским юанем также нужно вывести промежуточное значение в долларах. Если на вход в `currency` приходит невалидное значение, нужно вывести на экран сообщение: «Расчёт не может быть совершён».\n",
        "\n",
        "Декомпозируйте данную задачу на несколько функций.\n",
        "\n",
        "Проверьте, что функция `rub_to_currency` в последующих ячейках отработала верно."
      ]
    },
    {
      "cell_type": "code",
      "metadata": {
        "id": "u1pxlf7BDNa4"
      },
      "source": [
        "# Создайте вспомогательные функции для перевода в доллар и китайский юань\n",
        "# Считайте курс доллара к рублю следующим: 1USD = 70,99RUB, курс доллара к юаню: 1USD = 6,44CNY\n",
        "def rub_to_usd(rub):\n",
        "    rate = rub/70.99\n",
        "    return rate\n",
        "def rub_to_cny(rub):\n",
        "    rate = rub/6,44\n",
        "    return rate\n"
      ],
      "execution_count": null,
      "outputs": []
    },
    {
      "cell_type": "code",
      "metadata": {
        "id": "HBAVvL_-qSCC"
      },
      "source": [
        "def rub_to_currency(rub_amount, currency='USD'):\n",
        "    # функция без return\n",
        "    if currency == 'USD' or currency == '':\n",
        "        print(f'было:{rub_amount}RUB, стало:{rub_to_usd(rub_amount)}USD')\n",
        "    elif currency == 'CNY':\n",
        "        print(f'было:{rub_amount}RUB, стало:{rub_to_cny(rub_amount)}CNY')\n",
        "    else:\n",
        "        print('Расчёт не может быть совершён')\n"
      ],
      "execution_count": null,
      "outputs": []
    },
    {
      "cell_type": "code",
      "metadata": {
        "colab": {
          "base_uri": "https://localhost:8080/",
          "height": 166
        },
        "id": "Yjg-saciqofS",
        "outputId": "4cd64b7d-13d8-472c-845f-d964e6b85a27"
      },
      "source": [
        "rub_to_currency(7200, 'USD')"
      ],
      "execution_count": 1,
      "outputs": [
        {
          "output_type": "error",
          "ename": "NameError",
          "evalue": "ignored",
          "traceback": [
            "\u001b[0;31m---------------------------------------------------------------------------\u001b[0m",
            "\u001b[0;31mNameError\u001b[0m                                 Traceback (most recent call last)",
            "\u001b[0;32m<ipython-input-1-ccfe23d8b2c5>\u001b[0m in \u001b[0;36m<module>\u001b[0;34m\u001b[0m\n\u001b[0;32m----> 1\u001b[0;31m \u001b[0mrub_to_currency\u001b[0m\u001b[0;34m(\u001b[0m\u001b[0;36m7200\u001b[0m\u001b[0;34m,\u001b[0m \u001b[0;34m'USD'\u001b[0m\u001b[0;34m)\u001b[0m\u001b[0;34m\u001b[0m\u001b[0;34m\u001b[0m\u001b[0m\n\u001b[0m",
            "\u001b[0;31mNameError\u001b[0m: name 'rub_to_currency' is not defined"
          ]
        }
      ]
    },
    {
      "cell_type": "code",
      "metadata": {
        "colab": {
          "base_uri": "https://localhost:8080/"
        },
        "id": "Q7CjbrYeGWdV",
        "outputId": "77cb6d9a-995a-43a5-a832-e2c222da37e8"
      },
      "source": [
        "rub_to_currency(7200, 'CNY')"
      ],
      "execution_count": null,
      "outputs": [
        {
          "output_type": "stream",
          "name": "stdout",
          "text": [
            "было:7200RUB, стало:(1200.0, 44)CNY\n"
          ]
        }
      ]
    },
    {
      "cell_type": "code",
      "metadata": {
        "colab": {
          "base_uri": "https://localhost:8080/"
        },
        "id": "YdeDa2mkGfx1",
        "outputId": "c1979842-8466-4982-e045-893b4c17e491"
      },
      "source": [
        "rub_to_currency(7200, 'EUR')"
      ],
      "execution_count": null,
      "outputs": [
        {
          "output_type": "stream",
          "name": "stdout",
          "text": [
            "Расчёт не может быть совершён\n"
          ]
        }
      ]
    },
    {
      "cell_type": "code",
      "metadata": {
        "colab": {
          "base_uri": "https://localhost:8080/"
        },
        "id": "vdPKCHseAFLZ",
        "outputId": "887ed233-2474-4d32-920b-918ea762f933"
      },
      "source": [
        "rub_to_currency(7200)"
      ],
      "execution_count": null,
      "outputs": [
        {
          "output_type": "stream",
          "name": "stdout",
          "text": [
            "было:7200RUB, стало:101.4227355965629USD\n"
          ]
        }
      ]
    },
    {
      "cell_type": "markdown",
      "metadata": {
        "id": "1YIw6X35mR5U"
      },
      "source": [
        "*Задача 2. Обработка анкет*\n",
        "\n",
        "Вам выгрузили список с анкетами потенциальных клиентов, которые заинтересовались покупкой подписки на здоровую еду. Вам нужно обработать эти значения и сказать, какие анкеты подходят (а какие нет) для дальнейшего обзвона колл-центром.\n",
        "\n",
        "Условия, которым должна удовлетворять анкета:\n",
        "* Есть контактная информация: номер телефона.\n",
        "* Контактный номер начинается либо с восьмёрки, либо с семёрки и состоит из десяти символов.\n",
        "* Город проживания: Москва.\n",
        "\n",
        "Пример анкеты выглядит следующим образом: `name=Аня,phone=8800234 , city=москва`. Заметьте, в значениях параметров городов, имён, номеров телефонов могут встретиться лишние пробелы. Попробуйте удалить их с помощью метода `replace`.\n"
      ]
    },
    {
      "cell_type": "code",
      "metadata": {
        "colab": {
          "base_uri": "https://localhost:8080/"
        },
        "id": "t_BdijwS72m2",
        "outputId": "95fbf53e-155e-4961-a6a8-8e793c93bc78"
      },
      "source": [
        "# Метод replace заменяет все вхождения строки, указанной первым аргументом, на строку, указанную вторым аргументом\n",
        "\n",
        "# Замена восклицательного знака на пустоту\n",
        "print('!!!aaaa'.replace('!',''))\n",
        "# Замена а на вопросительный знак\n",
        "print('!!!aaaa'.replace('a','?'))\n",
        "# Замена двух восклицательных знаков на вопросительный\n",
        "print('!!!aaaa'.replace('!!','?'))"
      ],
      "execution_count": 2,
      "outputs": [
        {
          "output_type": "stream",
          "name": "stdout",
          "text": [
            "aaaa\n",
            "!!!????\n",
            "?!aaaa\n"
          ]
        }
      ]
    },
    {
      "cell_type": "code",
      "metadata": {
        "id": "bQFctEmbrezu"
      },
      "source": [
        "applications = [\n",
        "         'name=Аня,phone=8800234 ,city=москва',\n",
        "         'name=КОЛЯ,phone=8800900871 ,city=МОСКВА',\n",
        "         'name=Валентина,phone=7950900871 ,city=волгоград',\n",
        "         'name=,phone=7999901871,city=москва',\n",
        "         'name=Иван,phone=7999901871,city=москва',\n",
        "         'name=Инга,phone=,city=москва'\n",
        "\n",
        "] "
      ],
      "execution_count": 11,
      "outputs": []
    },
    {
      "cell_type": "code",
      "metadata": {
        "id": "pLEy-WBWswti"
      },
      "source": [
        "fl_phone = False\n",
        "fl_city = False\n",
        "fl_application = False\n",
        "\n",
        "# функция проверки валидности номера:\n",
        "def check_phone(phone):\n",
        "# Контактный номер начинается либо с восьмёрки, либо с семёрки и состоит из десяти символов\n",
        "    tmp_phone = phone.replace(' ','') # удаляем лишние пробелы\n",
        "    if tmp_phone == '':\n",
        "        return False\n",
        "    else:\n",
        "        phone = int(tmp_phone[0]) # извлекаем первое число!! а если нет его?\n",
        "\n",
        "        if (phone == 8 or phone == 7) and len(tmp_phone) == 10:\n",
        "            fl_phone = True\n",
        "            return fl_phone\n",
        "\n",
        "        else:\n",
        "            fl_phone = False\n",
        "            return fl_phone\n",
        "\n",
        "# функция проверки города\n",
        "def check_city(city):\n",
        "#Город проживания: Москва\n",
        "    tmp_city = city.replace(' ','') # удаляем лишние пробелы\n",
        "    city = tmp_city.lower() # переводим все в нижний регистр\n",
        "\n",
        "    if city == 'москва':\n",
        "        fl_city = True\n",
        "        return fl_city\n",
        "    else:\n",
        "        fl_city = False\n",
        "        return fl_city\n",
        "\n",
        "\n",
        "# функция проверки одной анкеты\n",
        "def check_application(application):\n",
        "    # извлечь phone от \"phone=\" + 6 до \",city\"\n",
        "    phone = application[(application.find('phone=')+6):application.find(',city')]\n",
        "    #print(phone)\n",
        "    # извлечь city от последнего \"=\" до конца\n",
        "    city = application[application.rfind('='):]\n",
        "    #print(city)\n",
        "    if check_phone(phone) and check_city(city):\n",
        "\n",
        "        return True\n",
        "    else:\n",
        "        return False"
      ],
      "execution_count": 15,
      "outputs": []
    },
    {
      "cell_type": "code",
      "metadata": {
        "id": "Cd5SqD6cset6"
      },
      "source": [
        "# функция проверки списка анкет\n",
        "def find_valid_applications(applications):\n",
        "    for date in applications:\n",
        "        print(f'{date} --- {check_application(date)}')"
      ],
      "execution_count": 12,
      "outputs": []
    },
    {
      "cell_type": "markdown",
      "metadata": {
        "id": "F8ISsSdO8hL8"
      },
      "source": [
        "Результат функции должен быть напечатан на экран в следующем виде:"
      ]
    },
    {
      "cell_type": "code",
      "metadata": {
        "colab": {
          "base_uri": "https://localhost:8080/"
        },
        "id": "S7JfnKlE2k8n",
        "outputId": "2a3716b0-f907-4060-b6bd-58b86f4ef28d"
      },
      "source": [
        "find_valid_applications(applications)"
      ],
      "execution_count": 16,
      "outputs": [
        {
          "output_type": "stream",
          "name": "stdout",
          "text": [
            "name=Аня,phone=8800234 ,city=москва --- False\n",
            "name=КОЛЯ,phone=8800900871 ,city=МОСКВА --- False\n",
            "name=Валентина,phone=7950900871 ,city=волгоград --- False\n",
            "name=,phone=7999901871,city=москва --- False\n",
            "name=Иван,phone=7999901871,city=москва --- False\n",
            "name=Инга,phone=,city=москва --- False\n"
          ]
        }
      ]
    },
    {
      "cell_type": "markdown",
      "metadata": {
        "id": "c3X805npAhXG"
      },
      "source": [
        "*Задача 3. Факториал*\n",
        "\n",
        "Факториалом числа n называется произведение всех натуральных чисел от 1 до n.\n",
        "\n",
        "\n",
        "\n",
        "> n! = 1 \\* 2 \\*...\\* n\n",
        "\n",
        "> 3! = 1 \\* 2 \\* 3 = 6\n",
        "\n",
        "> 0! = 1\n",
        "\n",
        "Напишите рекурсивную функцию нахождения факториала, где входным параметром является одно единственное число — n. Проверьте, что функция в последующих ячейках отработала верно.\n",
        "\n",
        "\n",
        "\n",
        "\n",
        "\n",
        "\n",
        "\n"
      ]
    },
    {
      "cell_type": "code",
      "metadata": {
        "id": "qD9afK3cC2GY"
      },
      "source": [
        "# Ваш код здесь\n",
        "def factorial(n):\n",
        "    if n == 0:\n",
        "        return 1\n",
        "    else:\n",
        "        print(factorial(n-1), n)\n",
        "        return factorial(n-1)*n"
      ],
      "execution_count": null,
      "outputs": []
    },
    {
      "cell_type": "code",
      "metadata": {
        "colab": {
          "base_uri": "https://localhost:8080/"
        },
        "id": "w1WpXrpCCta8",
        "outputId": "3a48dc37-b0eb-46df-ede1-fdfc847394f7"
      },
      "source": [
        "factorial(1)"
      ],
      "execution_count": null,
      "outputs": [
        {
          "output_type": "stream",
          "name": "stdout",
          "text": [
            "1 1\n"
          ]
        },
        {
          "output_type": "execute_result",
          "data": {
            "text/plain": [
              "1"
            ]
          },
          "metadata": {},
          "execution_count": 16
        }
      ]
    },
    {
      "cell_type": "code",
      "metadata": {
        "colab": {
          "base_uri": "https://localhost:8080/"
        },
        "id": "5ZE9XanICvZJ",
        "outputId": "e587a118-67a6-439a-f113-bf5fdeb67fbd"
      },
      "source": [
        "factorial(0)"
      ],
      "execution_count": null,
      "outputs": [
        {
          "output_type": "execute_result",
          "data": {
            "text/plain": [
              "1"
            ]
          },
          "metadata": {},
          "execution_count": 17
        }
      ]
    },
    {
      "cell_type": "code",
      "metadata": {
        "colab": {
          "base_uri": "https://localhost:8080/"
        },
        "id": "oGZg0EDkCw6H",
        "outputId": "d5a78177-2940-4f39-8e60-7844f05e1446"
      },
      "source": [
        "factorial(4)"
      ],
      "execution_count": null,
      "outputs": [
        {
          "output_type": "stream",
          "name": "stdout",
          "text": [
            "1 1\n",
            "1 2\n",
            "1 1\n",
            "2 3\n",
            "1 1\n",
            "1 2\n",
            "1 1\n",
            "6 4\n",
            "1 1\n",
            "1 2\n",
            "1 1\n",
            "2 3\n",
            "1 1\n",
            "1 2\n",
            "1 1\n"
          ]
        },
        {
          "output_type": "execute_result",
          "data": {
            "text/plain": [
              "24"
            ]
          },
          "metadata": {},
          "execution_count": 18
        }
      ]
    },
    {
      "cell_type": "markdown",
      "metadata": {
        "id": "Bit-nevse14o"
      },
      "source": [
        "*Задача 4. Палиндром*\n",
        "\n",
        "Палиндромом называется такое слово (или фраза), которое слева направо и справа налево читается одинаково. Нужно написать рекурсивную функцию, которая будет возвращать `True`, если слово палиндром, и `False`, если нет.\n",
        "\n",
        "Будем считать, что пустая строка также является палиндромом.\n",
        "\n",
        "Решение должно работать на строках без знаков препинания. Проверьте, что функция в последующих ячейках отработала верно.\n",
        "\n"
      ]
    },
    {
      "cell_type": "code",
      "metadata": {
        "id": "IHePFicik7Ih"
      },
      "source": [
        "def palindrom(tet):\n",
        "\n",
        "    tet1 = tet.lower()\n",
        "    tet = tet1.replace(' ','')\n",
        "    \n",
        "    print(tet)\n",
        "    tet_res = tet[::-1]\n",
        "    if tet == tet_res:\n",
        "        print(\"True\")\n",
        "    else:\n",
        "        print(\"False\")\n",
        "\n"
      ],
      "execution_count": null,
      "outputs": []
    },
    {
      "cell_type": "code",
      "metadata": {
        "colab": {
          "base_uri": "https://localhost:8080/"
        },
        "id": "YAZcDrWRitX6",
        "outputId": "784bcc11-05df-48ae-a90e-69776c1e8cfc"
      },
      "source": [
        "palindrom('saippuakivikauppias')"
      ],
      "execution_count": null,
      "outputs": [
        {
          "output_type": "stream",
          "name": "stdout",
          "text": [
            "True\n"
          ]
        }
      ]
    },
    {
      "cell_type": "code",
      "metadata": {
        "colab": {
          "base_uri": "https://localhost:8080/"
        },
        "id": "mGGspj3Fivdk",
        "outputId": "4439e9bf-0fc0-4fbd-f253-e7c045f30099"
      },
      "source": [
        "palindrom('murmur')"
      ],
      "execution_count": null,
      "outputs": [
        {
          "output_type": "stream",
          "name": "stdout",
          "text": [
            "False\n"
          ]
        }
      ]
    },
    {
      "cell_type": "code",
      "metadata": {
        "colab": {
          "base_uri": "https://localhost:8080/"
        },
        "id": "5Nw0wTEPiwYV",
        "outputId": "84c587fb-1b74-4859-881d-b1ab9de8db0a"
      },
      "source": [
        "palindrom('В резерв')"
      ],
      "execution_count": null,
      "outputs": [
        {
          "output_type": "stream",
          "name": "stdout",
          "text": [
            "врезерв\n",
            "True\n"
          ]
        }
      ]
    },
    {
      "cell_type": "code",
      "metadata": {
        "colab": {
          "base_uri": "https://localhost:8080/"
        },
        "id": "Kb9qX0ZDjaWu",
        "outputId": "be0cc98f-7817-4ec4-8349-3820328a6a2d"
      },
      "source": [
        "palindrom('Sator Arepo tenet opera rotas')"
      ],
      "execution_count": null,
      "outputs": [
        {
          "output_type": "stream",
          "name": "stdout",
          "text": [
            "satorarepotenetoperarotas\n",
            "True\n"
          ]
        }
      ]
    },
    {
      "cell_type": "markdown",
      "metadata": {
        "id": "FzHBlVyLDJCI"
      },
      "source": [
        "\n",
        "\n",
        "---\n",
        "\n",
        "\n",
        "\n",
        "---\n",
        "\n"
      ]
    },
    {
      "cell_type": "markdown",
      "metadata": {
        "id": "urJcsE1JDEjB"
      },
      "source": [
        "**Дополнительные задачи**"
      ]
    },
    {
      "cell_type": "markdown",
      "metadata": {
        "id": "VEgXwB5SH0LL"
      },
      "source": [
        "*Задача 5. Количество цифр в числе*\n",
        "\n",
        "Напишите функцию, которая рассчитывает количество цифр в целом числе, приходящем ей на вход.\n",
        "\n",
        "Рассмотрите два способа решения данной задачи: через строковые переменные и без использования строковых переменных.\n",
        "\n",
        "**Пример:**\n",
        "<br>\n",
        "Input: `n = 1234567` \n",
        "<br>\n",
        "Output: `7`"
      ]
    },
    {
      "cell_type": "code",
      "metadata": {
        "id": "IOxO5n6dwPWy",
        "outputId": "7f0cbe71-9147-436b-9da5-af07b2e57be7",
        "colab": {
          "base_uri": "https://localhost:8080/"
        }
      },
      "source": [
        "# со строковой переменной\n",
        "def sum_number(num):\n",
        "  str_num = str(num)\n",
        "  suma = 0\n",
        "  for sum_n in str_num:\n",
        "    suma +=int(sum_n)\n",
        "  return suma\n",
        "\n",
        "print(sum_number(120))"
      ],
      "execution_count": null,
      "outputs": [
        {
          "output_type": "stream",
          "name": "stdout",
          "text": [
            "3\n"
          ]
        }
      ]
    },
    {
      "cell_type": "code",
      "source": [
        "# без строковой переменной\n",
        "def sum_number(num):\n",
        "    suma = 0\n",
        "    while num > 0:\n",
        "        tmp = num % 10\n",
        "        suma = suma + tmp\n",
        "    #убрать десяток\n",
        "        num = num // 10\n",
        "    return suma\n",
        "\n",
        "print(sum_number(12042))"
      ],
      "metadata": {
        "id": "1xUNwszyTR30",
        "outputId": "0521cad4-4c15-4e46-bed1-9ed3c8ccbf59",
        "colab": {
          "base_uri": "https://localhost:8080/"
        }
      },
      "execution_count": null,
      "outputs": [
        {
          "output_type": "stream",
          "name": "stdout",
          "text": [
            "9\n"
          ]
        }
      ]
    },
    {
      "cell_type": "markdown",
      "metadata": {
        "id": "Uf-63ipMwTrs"
      },
      "source": [
        "*Задача 6. Количество отличников и двоечников*\n",
        "\n",
        "Дан список, в каждом элементе которого лежат оценки за финальный экзамен по русскому языку по одному классу. Найдите количество сдавших (оценка >= 3) и не сдавших (оценка < 3) экзамен в каждом классе, а также выведите результативность класса.\n",
        "\n",
        "Результативность класса считается по следующей логике:\n",
        "* если количество оценок 4 и 5 в классе > 95%, результативность отличная;\n",
        "* если количество оценок 4 и 5 в классе < 30%, результативность плохая;\n",
        "* в остальных случаях результативность средняя.\n",
        "\n",
        "Декомпозируйте задачу с помощью функций. Добавьте возможность менять пороги результативности с помощью входных параметров.\n"
      ]
    },
    {
      "cell_type": "code",
      "metadata": {
        "id": "aVeAgJbCyJeP"
      },
      "source": [
        "scores = [\n",
        "          [2, 4, 4, 5, 2, 3, 3, 1, 1],\n",
        "          [3, 4, 2, 3, 3, 1, 5, 2, 4],\n",
        "          [5, 3, 3, 4, 3, 2, 3, 5],\n",
        "          [4, 2, 2, 4, 2],\n",
        "          [4, 3, 3, 3, 3, 3, 3],\n",
        "          [2, 1, 5, 3, 5, 5],\n",
        "          [4, 4, 4, 4, 5, 5],\n",
        "          [4, 1, 3, 4, 1, 1]\n",
        "]\n",
        "\n",
        "def sum_pass(mark):\n",
        "    value = 0\n",
        "    \n",
        "    for n in mark:\n",
        "        if int(n) >= 3:\n",
        "            value += 1\n",
        "    return value\n",
        "\n",
        "\n",
        "def sum_not_pass(mark):\n",
        "    value = 0\n",
        "    for n in mark:\n",
        "        if int(n) < 3:\n",
        "            value += 1\n",
        "    return value\n",
        "\n",
        "\n",
        "def sum_4_5(mark):\n",
        "    value = 0\n",
        "    for n in mark:\n",
        "        if int(n) >= 4:\n",
        "            value += 1\n",
        "    return value\n",
        "\n",
        "\n",
        "\n",
        "def get_info(est):\n",
        "    rating1 = int(input('Введите нижний порог результативности в %:'))/100\n",
        "    rating2 = int(input('Введите верхний порог результативности в %:'))/100\n",
        "    for class_n in est:\n",
        "        \n",
        "        # количество оценок 4 и 5 в классе\n",
        "        info_4_5 = sum_4_5(class_n)\n",
        "        info_sum = len(class_n)\n",
        "\n",
        "        if info_4_5/info_sum < rating1:\n",
        "            #Итог по классу:Плохо\n",
        "            info_rating = 'Плохо'\n",
        "        elif info_4_5/info_sum > rating2:\n",
        "            #Итог по классу:Отлично\n",
        "            info_rating = 'Отлично'\n",
        "        else:\n",
        "            #Итог по классу:Удовлетворительно\n",
        "            info_rating = 'Удовлетворительно'\n",
        "        print(f'Количество сдавших:{sum_pass(class_n)}, Количество проваливших:{sum_not_pass(class_n)}, Итог по классу:{info_rating}') \n"
      ],
      "execution_count": null,
      "outputs": []
    },
    {
      "cell_type": "code",
      "metadata": {
        "colab": {
          "base_uri": "https://localhost:8080/"
        },
        "id": "sTzCQqo336Z-",
        "outputId": "91a5e015-c09c-4dc8-b6be-a85728331d8c"
      },
      "source": [
        "# Пример вывода\n",
        "\n",
        "get_info(scores)"
      ],
      "execution_count": null,
      "outputs": [
        {
          "output_type": "stream",
          "name": "stdout",
          "text": [
            "Введите нижний порог результативности в %:30\n",
            "Введите верхний порог результативности в %:95\n",
            "Количество сдавших:5, Количество проваливших:4, Итог по классу:Удовлетворительно\n",
            "Количество сдавших:6, Количество проваливших:3, Итог по классу:Удовлетворительно\n",
            "Количество сдавших:7, Количество проваливших:1, Итог по классу:Удовлетворительно\n",
            "Количество сдавших:2, Количество проваливших:3, Итог по классу:Удовлетворительно\n",
            "Количество сдавших:7, Количество проваливших:0, Итог по классу:Плохо\n",
            "Количество сдавших:4, Количество проваливших:2, Итог по классу:Удовлетворительно\n",
            "Количество сдавших:6, Количество проваливших:0, Итог по классу:Отлично\n",
            "Количество сдавших:3, Количество проваливших:3, Итог по классу:Удовлетворительно\n"
          ]
        }
      ]
    },
    {
      "cell_type": "markdown",
      "metadata": {
        "id": "HYOZFVZ6Dz3t"
      },
      "source": [
        "*Задача 7. Калькулятор*\n",
        "\n",
        "На вход в ваш калькулятор из стандартного ввода приходит выражение, в котором есть только числа и операции сложения и умножения.\n",
        "\n",
        "Нужно написать функцию, которая обрабатывает входную строку и выдаёт результат выражения на выходе.\n",
        "\n",
        "Используйте декомпозицию с помощью функций. Проверьте, что последующие ячейки отработали верно.\n",
        "\n",
        "\n"
      ]
    },
    {
      "cell_type": "code",
      "metadata": {
        "id": "HAdvG7CVBwv3"
      },
      "source": [
        "def separator_num(num):\n",
        "    tmp_num = ''\n",
        "    for i in range(0,len(num)):\n",
        "        if num[i].isdigit():\n",
        "            tmp_num += num[i]\n",
        "        else:\n",
        "            tmp_num +=','\n",
        "    # in list\n",
        "    list_num = tmp_num.split(',')\n",
        "    return list_num\n",
        "\n",
        "def separator_sign(num):\n",
        "    sign = ''\n",
        "    for i in range(0,len(num)):\n",
        "        \n",
        "        if not num[i].isdigit():\n",
        "            sign += num[i]\n",
        "    # in list\n",
        "    list_sign = list(sign)\n",
        "    return list_sign\n",
        "\n",
        "def extract_expression(express):\n",
        "    num = separator_num(express)\n",
        "    sign = separator_sign(express)\n",
        "    total = 0\n",
        "\n",
        "# list.count(x) Возвращает количество элементов со значением x\n",
        "# list.index(x, [start [, end]]) Возвращает положение первого элемента со значением x (при этом поиск ведется от start до end)\n",
        "# list.pop([i])\tУдаляет i-ый элемент и возвращает его. Если индекс не указан, удаляется последний элемент\n",
        "\n",
        "# сначало числа перемножаются\n",
        "    for i in range(0,sign.count('*')):\n",
        "        ind = sign.index('*')\n",
        "        print(num, ind, num[ind], num[ind+1])\n",
        "        tmp = int(num[ind]) * int(num[ind+1])\n",
        "        print(tmp, num[ind])\n",
        "        num[ind] = str(tmp)  # num заменяем на произведение\n",
        "        print(num)\n",
        "        print(num.pop(ind+1)) # удаляем * из списка num\n",
        "        print(num)\n",
        "        sign.pop(ind) # удаляем * из списка символов\n",
        "    print(num)\n",
        "    # просто складываются\n",
        "    for n in num:\n",
        "        total += int(n)\n",
        "    print(total)\n",
        "    #return total\n",
        "\n",
        "\n",
        "\n",
        "# + or *\n",
        "    # total = int(num[0])\n",
        "    # for i in range(0,len(sign)):\n",
        "    #     if sign[i] == '+':\n",
        "    #         total += int(num[i+1])\n",
        "    #     elif sign[i] == '*':\n",
        "    #         total *= int(num[i+1])\n",
        "\n",
        "\n",
        "    # print(total)\n",
        "\n"
      ],
      "execution_count": null,
      "outputs": []
    },
    {
      "cell_type": "code",
      "metadata": {
        "colab": {
          "base_uri": "https://localhost:8080/"
        },
        "id": "IuEVDkewAXs8",
        "outputId": "19c03ce8-9439-4e83-b9e9-08a58d1fd5c9"
      },
      "source": [
        "expression = '1+2*4*5+7*10*11'\n",
        "extract_expression(expression)"
      ],
      "execution_count": null,
      "outputs": [
        {
          "output_type": "stream",
          "name": "stdout",
          "text": [
            "['1', '2', '4', '5', '7', '10', '11'] 1 2 4\n",
            "8 2\n",
            "['1', '8', '4', '5', '7', '10', '11']\n",
            "4\n",
            "['1', '8', '5', '7', '10', '11']\n",
            "['1', '8', '5', '7', '10', '11'] 1 8 5\n",
            "40 8\n",
            "['1', '40', '5', '7', '10', '11']\n",
            "5\n",
            "['1', '40', '7', '10', '11']\n",
            "['1', '40', '7', '10', '11'] 2 7 10\n",
            "70 7\n",
            "['1', '40', '70', '10', '11']\n",
            "10\n",
            "['1', '40', '70', '11']\n",
            "['1', '40', '70', '11'] 2 70 11\n",
            "770 70\n",
            "['1', '40', '770', '11']\n",
            "11\n",
            "['1', '40', '770']\n",
            "['1', '40', '770']\n",
            "811\n"
          ]
        }
      ]
    },
    {
      "cell_type": "code",
      "metadata": {
        "colab": {
          "base_uri": "https://localhost:8080/"
        },
        "id": "e2M3A0VqAcZM",
        "outputId": "38ded4c3-3037-4474-ffa4-78850dd6f091"
      },
      "source": [
        "extract_expression('1+2+3+10')"
      ],
      "execution_count": null,
      "outputs": [
        {
          "output_type": "stream",
          "name": "stdout",
          "text": [
            "['1', '2', '3', '10']\n",
            "16\n"
          ]
        }
      ]
    },
    {
      "cell_type": "code",
      "metadata": {
        "colab": {
          "base_uri": "https://localhost:8080/"
        },
        "id": "KexrzLZdCCa6",
        "outputId": "7b39354a-4dc7-4333-8196-64b180273fe6"
      },
      "source": [
        "extract_expression('1+3*2+3*10')"
      ],
      "execution_count": null,
      "outputs": [
        {
          "output_type": "stream",
          "name": "stdout",
          "text": [
            "['1', '3', '2', '3', '10'] 1 3 2\n",
            "6 3\n",
            "['1', '6', '2', '3', '10']\n",
            "2\n",
            "['1', '6', '3', '10']\n",
            "['1', '6', '3', '10'] 2 3 10\n",
            "30 3\n",
            "['1', '6', '30', '10']\n",
            "10\n",
            "['1', '6', '30']\n",
            "['1', '6', '30']\n",
            "37\n"
          ]
        }
      ]
    },
    {
      "cell_type": "code",
      "metadata": {
        "id": "IcmxuRHwCGzK",
        "colab": {
          "base_uri": "https://localhost:8080/"
        },
        "outputId": "03b1b223-b044-4ea2-dac1-70ca3a514795"
      },
      "source": [
        "f = ['12','33']\n",
        "f.pop(0)\n",
        "print(f)"
      ],
      "execution_count": null,
      "outputs": [
        {
          "output_type": "stream",
          "name": "stdout",
          "text": [
            "['33']\n"
          ]
        }
      ]
    }
  ]
}