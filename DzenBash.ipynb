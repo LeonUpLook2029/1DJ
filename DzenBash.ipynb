{
  "nbformat": 4,
  "nbformat_minor": 0,
  "metadata": {
    "colab": {
      "provenance": [],
      "authorship_tag": "ABX9TyNsaLzwpxJTWTPLwi8cZtRR",
      "include_colab_link": true
    },
    "kernelspec": {
      "name": "python3",
      "display_name": "Python 3"
    },
    "language_info": {
      "name": "python"
    }
  },
  "cells": [
    {
      "cell_type": "markdown",
      "metadata": {
        "id": "view-in-github",
        "colab_type": "text"
      },
      "source": [
        "<a href=\"https://colab.research.google.com/github/LeonUpLook2029/1DJ/blob/master/DzenBash.ipynb\" target=\"_parent\"><img src=\"https://colab.research.google.com/assets/colab-badge.svg\" alt=\"Open In Colab\"/></a>"
      ]
    },
    {
      "cell_type": "code",
      "execution_count": null,
      "metadata": {
        "id": "dehVuVCOBzpE"
      },
      "outputs": [],
      "source": []
    },
    {
      "cell_type": "markdown",
      "source": [
        "BASH"
      ],
      "metadata": {
        "id": "gitlYcOqB1-n"
      }
    },
    {
      "cell_type": "code",
      "source": [
        "!pwd\n"
      ],
      "metadata": {
        "colab": {
          "base_uri": "https://localhost:8080/"
        },
        "id": "nNbGvCHNE_Vn",
        "outputId": "8e556b6c-d09d-4493-f2bf-4cff7a073fce"
      },
      "execution_count": 1,
      "outputs": [
        {
          "output_type": "stream",
          "name": "stdout",
          "text": [
            "/content\n"
          ]
        }
      ]
    },
    {
      "cell_type": "code",
      "source": [
        "pip install cowsay"
      ],
      "metadata": {
        "colab": {
          "base_uri": "https://localhost:8080/"
        },
        "id": "k_8iIbsNFdBj",
        "outputId": "1bc77d1e-a973-4a16-91b6-e18bcd7d9e37"
      },
      "execution_count": 3,
      "outputs": [
        {
          "output_type": "stream",
          "name": "stdout",
          "text": [
            "Looking in indexes: https://pypi.org/simple, https://us-python.pkg.dev/colab-wheels/public/simple/\n",
            "Collecting cowsay\n",
            "  Downloading cowsay-5.0.tar.gz (25 kB)\n",
            "Building wheels for collected packages: cowsay\n",
            "  Building wheel for cowsay (setup.py) ... \u001b[?25l\u001b[?25hdone\n",
            "  Created wheel for cowsay: filename=cowsay-5.0-py2.py3-none-any.whl size=25724 sha256=6e14453b046d3ee5bf70b6624b5ea9441237cf77bd7cefa8910039f68750d93c\n",
            "  Stored in directory: /root/.cache/pip/wheels/64/ae/fe/f16b584bc50cebd8fc7eb1fa69e96abf8b9024114517874952\n",
            "Successfully built cowsay\n",
            "Installing collected packages: cowsay\n",
            "Successfully installed cowsay-5.0\n"
          ]
        }
      ]
    },
    {
      "cell_type": "code",
      "source": [
        "import cowsay"
      ],
      "metadata": {
        "id": "2vYuPpa_FVyt"
      },
      "execution_count": 4,
      "outputs": []
    },
    {
      "cell_type": "code",
      "source": [
        "import math\n",
        "\n",
        "cowsay.cow(str(math.pi))"
      ],
      "metadata": {
        "colab": {
          "base_uri": "https://localhost:8080/"
        },
        "id": "VhJlofdVFnw7",
        "outputId": "7e2f6461-89e5-4d1c-e2eb-96568d716fbd"
      },
      "execution_count": 5,
      "outputs": [
        {
          "output_type": "stream",
          "name": "stdout",
          "text": [
            "  _________________\n",
            "| 3.141592653589793 |\n",
            "  =================\n",
            "                 \\\n",
            "                  \\\n",
            "                    ^__^\n",
            "                    (oo)\\_______\n",
            "                    (__)\\       )\\/\\\n",
            "                        ||----w |\n",
            "                        ||     ||\n"
          ]
        }
      ]
    },
    {
      "cell_type": "code",
      "source": [
        "cowsay.cow('Ура, получилось!')"
      ],
      "metadata": {
        "colab": {
          "base_uri": "https://localhost:8080/"
        },
        "id": "9gOpn20DGWNS",
        "outputId": "92c5baf8-afdd-4f0e-e7ef-0d711a257940"
      },
      "execution_count": 6,
      "outputs": [
        {
          "output_type": "stream",
          "name": "stdout",
          "text": [
            "  ________________\n",
            "| Ура, получилось! |\n",
            "  ================\n",
            "                \\\n",
            "                 \\\n",
            "                   ^__^\n",
            "                   (oo)\\_______\n",
            "                   (__)\\       )\\/\\\n",
            "                       ||----w |\n",
            "                       ||     ||\n"
          ]
        }
      ]
    },
    {
      "cell_type": "markdown",
      "source": [
        "cowsay.cow('Ура, получилось!')"
      ],
      "metadata": {
        "id": "uJyZUf_XGHcK"
      }
    }
  ]
}