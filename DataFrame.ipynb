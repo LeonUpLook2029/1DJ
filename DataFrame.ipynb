{
  "nbformat": 4,
  "nbformat_minor": 0,
  "metadata": {
    "colab": {
      "provenance": [],
      "authorship_tag": "ABX9TyOw79YDEsZa9BF4J/dUZA2T",
      "include_colab_link": true
    },
    "kernelspec": {
      "name": "python3",
      "display_name": "Python 3"
    },
    "language_info": {
      "name": "python"
    }
  },
  "cells": [
    {
      "cell_type": "markdown",
      "metadata": {
        "id": "view-in-github",
        "colab_type": "text"
      },
      "source": [
        "<a href=\"https://colab.research.google.com/github/LeonUpLook2029/1DJ/blob/master/DataFrame.ipynb\" target=\"_parent\"><img src=\"https://colab.research.google.com/assets/colab-badge.svg\" alt=\"Open In Colab\"/></a>"
      ]
    },
    {
      "cell_type": "code",
      "execution_count": 1,
      "metadata": {
        "id": "2qV_pMSXJUNg"
      },
      "outputs": [],
      "source": [
        "import pandas as pd"
      ]
    },
    {
      "cell_type": "code",
      "source": [
        "#Создание датафрейма из матрицы\n",
        "data = [['Tomsk', 70],\n",
        "        ['Omsk', 55]]\n",
        "df = pd.DataFrame(data, columns=['city', 'code']) #columns — названия колонок\n",
        "\n"
      ],
      "metadata": {
        "id": "zxSADRY-JrIq"
      },
      "execution_count": 2,
      "outputs": []
    },
    {
      "cell_type": "code",
      "source": [
        "#из списка словарей\n",
        "data = [{'city': 'Tomsk', 'code': 70},\n",
        "        {'city': 'Omsk', 'code': 55}]\n",
        "df = pd.DataFrame(data)\n",
        "\n"
      ],
      "metadata": {
        "id": "AbV4XIdtJuYT"
      },
      "execution_count": 3,
      "outputs": []
    },
    {
      "cell_type": "code",
      "source": [
        "#из Series\n",
        "df = pd.DataFrame({'city': pd.Series(['Tomsk', 'Omsk']),\n",
        "                  'code': pd.Series([70, 55])})\n",
        "\n",
        "df['city'] #обращение к столбцу ‘city’\n",
        "\n",
        "pd.Series(['Tomsk', 'Omsk'], name='city') #создание объекта типа Series"
      ],
      "metadata": {
        "colab": {
          "base_uri": "https://localhost:8080/"
        },
        "id": "5NklJAgZJ2RL",
        "outputId": "b9ff1b24-d98a-4e26-c84d-3198a6f424e0"
      },
      "execution_count": 4,
      "outputs": [
        {
          "output_type": "execute_result",
          "data": {
            "text/plain": [
              "0    Tomsk\n",
              "1     Omsk\n",
              "Name: city, dtype: object"
            ]
          },
          "metadata": {},
          "execution_count": 4
        }
      ]
    }
  ]
}