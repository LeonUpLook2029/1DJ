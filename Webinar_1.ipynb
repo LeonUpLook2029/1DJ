{
  "cells": [
    {
      "cell_type": "markdown",
      "metadata": {
        "id": "view-in-github",
        "colab_type": "text"
      },
      "source": [
        "<a href=\"https://colab.research.google.com/github/LeonUpLook2029/1DJ/blob/master/Webinar_1.ipynb\" target=\"_parent\"><img src=\"https://colab.research.google.com/assets/colab-badge.svg\" alt=\"Open In Colab\"/></a>"
      ]
    },
    {
      "cell_type": "code",
      "execution_count": 1,
      "id": "4b66cd4d",
      "metadata": {
        "id": "4b66cd4d"
      },
      "outputs": [],
      "source": [
        "import requests\n",
        "from bs4 import BeautifulSoup\n",
        "import time"
      ]
    },
    {
      "cell_type": "code",
      "execution_count": 2,
      "id": "80fa581b",
      "metadata": {
        "colab": {
          "base_uri": "https://localhost:8080/",
          "height": 35
        },
        "id": "80fa581b",
        "outputId": "eecfed93-6373-4b9a-d22f-b9dd69df8c76"
      },
      "outputs": [
        {
          "output_type": "execute_result",
          "data": {
            "text/plain": [
              "'4.6.3'"
            ],
            "application/vnd.google.colaboratory.intrinsic+json": {
              "type": "string"
            }
          },
          "metadata": {},
          "execution_count": 2
        }
      ],
      "source": [
        "import bs4\n",
        "bs4.__version__"
      ]
    },
    {
      "cell_type": "code",
      "execution_count": null,
      "id": "8d0bca73",
      "metadata": {
        "id": "8d0bca73"
      },
      "outputs": [],
      "source": [
        "# !pip install bs4  для Jupiter ? pip install beautifulsoup4 для Colab"
      ]
    },
    {
      "cell_type": "code",
      "execution_count": 3,
      "id": "c4420478",
      "metadata": {
        "id": "c4420478"
      },
      "outputs": [],
      "source": [
        "def replace_all(text, to_replace):\n",
        "    '''уборка мусора из текста'''\n",
        "    for i in to_replace:\n",
        "        text = text.replace(i, ' ')\n",
        "    return text"
      ]
    },
    {
      "cell_type": "markdown",
      "id": "f93a25fe",
      "metadata": {
        "id": "f93a25fe"
      },
      "source": [
        "# Парсим песни"
      ]
    },
    {
      "cell_type": "code",
      "source": [
        "# поиск нужного тэга на др. страницы\n"
      ],
      "metadata": {
        "id": "ugaqf_9xYPLs"
      },
      "id": "ugaqf_9xYPLs",
      "execution_count": null,
      "outputs": []
    },
    {
      "cell_type": "code",
      "execution_count": null,
      "metadata": {
        "scrolled": true,
        "colab": {
          "base_uri": "https://localhost:8080/"
        },
        "outputId": "210f74c7-c8df-46a7-bca2-fb2ea0347ac8",
        "id": "zaIG2LCaYWQJ"
      },
      "outputs": [
        {
          "output_type": "execute_result",
          "data": {
            "text/plain": [
              "[<span>Трек дня:</span>,\n",
              " <span>Назад</span>,\n",
              " <span>1</span>,\n",
              " <span>Евровидение 2021</span>]"
            ]
          },
          "metadata": {},
          "execution_count": 4
        }
      ],
      "source": [
        "url = \"https://text-you.ru/songs/григорий+лепс.html\"\n",
        "# 3 list -> -2 -3\n",
        "\n",
        "songs_list = requests.get(url) #загружаем страничку HTML\n",
        "# songs_list.status_code # проверка правильного ваполнения запроса\n",
        "    \n",
        "songs_soup = BeautifulSoup(songs_list.content, \"html.parser\") #парсим данные в нужном виде\n",
        "# выдает не тот span! для определения даты песни нужно загрузить страницу с ее содержанием!  там есть дата \n",
        "songs_soup.find_all('span') # поиск нужного ТЭГА\n",
        "\n"
      ],
      "id": "zaIG2LCaYWQJ"
    },
    {
      "cell_type": "code",
      "source": [],
      "metadata": {
        "id": "qD_rb28oY_cX"
      },
      "id": "qD_rb28oY_cX",
      "execution_count": null,
      "outputs": []
    },
    {
      "cell_type": "code",
      "execution_count": 4,
      "metadata": {
        "scrolled": true,
        "colab": {
          "base_uri": "https://localhost:8080/"
        },
        "outputId": "6563f8fd-61e8-445e-9c46-03b9f743aeaa",
        "id": "ek1Gboc3ZCj8"
      },
      "outputs": [
        {
          "output_type": "stream",
          "name": "stdout",
          "text": [
            "<a href=\"/rus_text_pesni/17682-grigorijj-leps-ja-stanu-vodopadom.html\">Я стану водопадом<i class=\"go_text\"></i></a>\n",
            "<a href=\"/rus_text_pesni/17682-grigorijj-leps-ja-stanu-vodopadom.html\">Читать текст</a>\n",
            "<a href=\"/rus_text_pesni/11733-grigorijj-leps-zima.html\">Зима<i class=\"go_text\"></i></a>\n",
            "<a href=\"/rus_text_pesni/11733-grigorijj-leps-zima.html\">Читать текст</a>\n",
            "<a href=\"/rus_text_pesni/4557-grigorijj-leps-natali.html\">Натали<i class=\"go_text\"></i></a>\n",
            "<a href=\"/rus_text_pesni/4557-grigorijj-leps-natali.html\">Читать текст</a>\n",
            "<a href=\"/rus_text_pesni/14487-grigorijj-leps-spasibo-rebjata.html\">Спасибо, ребята<i class=\"go_text\"></i></a>\n",
            "<a href=\"/rus_text_pesni/14487-grigorijj-leps-spasibo-rebjata.html\">Читать текст</a>\n",
            "<a href=\"/rus_text_pesni/10162-grigorijj-leps-ona.html\">Она<i class=\"go_text\"></i></a>\n",
            "<a href=\"/rus_text_pesni/10162-grigorijj-leps-ona.html\">Читать текст</a>\n",
            "<a href=\"/rus_text_pesni/4560-grigorijj-leps-labirint.html\">Лабиринт<i class=\"go_text\"></i></a>\n",
            "<a href=\"/rus_text_pesni/4560-grigorijj-leps-labirint.html\">Читать текст</a>\n",
            "<a href=\"/rus_text_pesni/4569-grigorijj-leps-rjumka-vodki-na-stole.html\">Рюмка водки на столе<i class=\"go_text\"></i></a>\n",
            "<a href=\"/rus_text_pesni/4569-grigorijj-leps-rjumka-vodki-na-stole.html\">Читать текст</a>\n",
            "<a href=\"/rus_text_pesni/11557-grigorijj-leps-nastojashhaja-zhenshhina.html\">Настоящая Женщина<i class=\"go_text\"></i></a>\n",
            "<a href=\"/rus_text_pesni/11557-grigorijj-leps-nastojashhaja-zhenshhina.html\">Читать текст</a>\n",
            "<a href=\"/rus_text_pesni/21665-grigorijj-leps-ja-schastlivyjj.html\">Я счастливый<i class=\"go_text\"></i></a>\n",
            "<a href=\"/rus_text_pesni/21665-grigorijj-leps-ja-schastlivyjj.html\">Читать текст</a>\n",
            "<a href=\"/rus_text_pesni/38642-grigorijj-leps-ja-podnimaju-ruki.html\">Я поднимаю руки<i class=\"go_text\"></i></a>\n",
            "<a href=\"/rus_text_pesni/38642-grigorijj-leps-ja-podnimaju-ruki.html\">Читать текст</a>\n",
            "<a href=\"/rus_text_pesni/4559-grigorijj-leps-vjuga.html\">Вьюга<i class=\"go_text\"></i></a>\n",
            "<a href=\"/rus_text_pesni/4559-grigorijj-leps-vjuga.html\">Читать текст</a>\n",
            "<a href=\"/rus_text_pesni/10159-grigorijj-leps-bozhe-kak-dolgo.html\">Боже, как долго<i class=\"go_text\"></i></a>\n",
            "<a href=\"/rus_text_pesni/10159-grigorijj-leps-bozhe-kak-dolgo.html\">Читать текст</a>\n",
            "<a href=\"/rus_text_pesni/4558-grigorijj-leps-ja-tebja-ne-ljublju.html\">Я тебя не люблю<i class=\"go_text\"></i></a>\n",
            "<a href=\"/rus_text_pesni/4558-grigorijj-leps-ja-tebja-ne-ljublju.html\">Читать текст</a>\n",
            "<a href=\"/rus_text_pesni/27924-grigorijj-leps-gospodi-dajj-mne-sil.html\">Господи, дай мне сил<i class=\"go_text\"></i></a>\n",
            "<a href=\"/rus_text_pesni/27924-grigorijj-leps-gospodi-dajj-mne-sil.html\">Читать текст</a>\n",
            "<a href=\"/rus_text_pesni/22663-grigorijj-leps-ja-vernu-tebja.html\">Я Верну Тебя<i class=\"go_text\"></i></a>\n",
            "<a href=\"/rus_text_pesni/22663-grigorijj-leps-ja-vernu-tebja.html\">Читать текст</a>\n",
            "<a href=\"/rus_text_pesni/4556-grigorijj-leps-rasskazhi.html\">Расскажи<i class=\"go_text\"></i></a>\n",
            "<a href=\"/rus_text_pesni/4556-grigorijj-leps-rasskazhi.html\">Читать текст</a>\n",
            "<a href=\"/rus_text_pesni/23848-grigorijj-leps-staryjj-chjort.html\">Старый Чёрт<i class=\"go_text\"></i></a>\n",
            "<a href=\"/rus_text_pesni/23848-grigorijj-leps-staryjj-chjort.html\">Читать текст</a>\n",
            "<a href=\"/rus_text_pesni/21320-grigorijj-leps-london.html\">Лондон<i class=\"go_text\"></i></a>\n",
            "<a href=\"/rus_text_pesni/21320-grigorijj-leps-london.html\">Читать текст</a>\n",
            "<a href=\"/rus_text_pesni/4561-grigorijj-leps-parus.html\">Парус<i class=\"go_text\"></i></a>\n",
            "<a href=\"/rus_text_pesni/4561-grigorijj-leps-parus.html\">Читать текст</a>\n",
            "<a href=\"/rus_text_pesni/4555-grigorijj-leps-ne-zhdi-menja-i-slava.html\">Не жди меня (и Слава)<i class=\"go_text\"></i></a>\n",
            "<a href=\"/rus_text_pesni/4555-grigorijj-leps-ne-zhdi-menja-i-slava.html\">Читать текст</a>\n",
            "<a href=\"/rus_text_pesni/4562-grigorijj-leps-ukhodi-krasivo.html\">Уходи красиво<i class=\"go_text\"></i></a>\n",
            "<a href=\"/rus_text_pesni/4562-grigorijj-leps-ukhodi-krasivo.html\">Читать текст</a>\n",
            "<a href=\"/rus_text_pesni/10167-grigorijj-leps-rokovaja-ljubov.html\">Роковая любовь<i class=\"go_text\"></i></a>\n",
            "<a href=\"/rus_text_pesni/10167-grigorijj-leps-rokovaja-ljubov.html\">Читать текст</a>\n",
            "<a href=\"/rus_text_pesni/4563-grigorijj-leps-berega.html\">Берега<i class=\"go_text\"></i></a>\n",
            "<a href=\"/rus_text_pesni/4563-grigorijj-leps-berega.html\">Читать текст</a>\n",
            "<a href=\"/rus_text_pesni/44645-grigorijj-leps-snega.html\">Снега<i class=\"go_text\"></i></a>\n",
            "<a href=\"/rus_text_pesni/44645-grigorijj-leps-snega.html\">Читать текст</a>\n",
            "<a href=\"/rus_text_pesni/4564-grigorijj-leps-krysa-revnost.html\">Крыса ревность<i class=\"go_text\"></i></a>\n",
            "<a href=\"/rus_text_pesni/4564-grigorijj-leps-krysa-revnost.html\">Читать текст</a>\n",
            "<a href=\"/rus_text_pesni/10161-grigorijj-leps-chernyjj-dozhd.html\">Черный дождь<i class=\"go_text\"></i></a>\n",
            "<a href=\"/rus_text_pesni/10161-grigorijj-leps-chernyjj-dozhd.html\">Читать текст</a>\n",
            "<a href=\"/rus_text_pesni/25286-grigorijj-leps-moskovskaja-pesnja.html\">Московская Песня<i class=\"go_text\"></i></a>\n",
            "<a href=\"/rus_text_pesni/25286-grigorijj-leps-moskovskaja-pesnja.html\">Читать текст</a>\n",
            "<a href=\"/rus_text_pesni/21319-grigorijj-leps-kapitan-arktika.html\">Капитан Арктика<i class=\"go_text\"></i></a>\n",
            "<a href=\"/rus_text_pesni/21319-grigorijj-leps-kapitan-arktika.html\">Читать текст</a>\n",
            "<a href=\"/rus_text_pesni/4571-grigorijj-leps-ty-opozdala.html\">Ты опоздала<i class=\"go_text\"></i></a>\n",
            "<a href=\"/rus_text_pesni/4571-grigorijj-leps-ty-opozdala.html\">Читать текст</a>\n",
            "<a href=\"/rus_text_pesni/25163-grigorijj-leps-mne-snitsja-vodopad.html\">Мне Снится Водопад<i class=\"go_text\"></i></a>\n",
            "<a href=\"/rus_text_pesni/25163-grigorijj-leps-mne-snitsja-vodopad.html\">Читать текст</a>\n",
            "<a href=\"/rus_text_pesni/4570-grigorijj-leps-izmeny-i-viktorija-ilinskaja.html\">Измены (и Виктория Ильинская)<i class=\"go_text\"></i></a>\n",
            "<a href=\"/rus_text_pesni/4570-grigorijj-leps-izmeny-i-viktorija-ilinskaja.html\">Читать текст</a>\n",
            "<a href=\"/rus_text_pesni/10160-grigorijj-leps-zamerzaet-solnce.html\">Замерзает солнце<i class=\"go_text\"></i></a>\n",
            "<a href=\"/rus_text_pesni/10160-grigorijj-leps-zamerzaet-solnce.html\">Читать текст</a>\n",
            "<a href=\"/rus_text_pesni/4565-grigorijj-leps-kupola.html\">Купола<i class=\"go_text\"></i></a>\n",
            "<a href=\"/rus_text_pesni/4565-grigorijj-leps-kupola.html\">Читать текст</a>\n",
            "<a href=\"/rus_text_pesni/4567-grigorijj-leps-nostalgija.html\">Ностальгия<i class=\"go_text\"></i></a>\n",
            "<a href=\"/rus_text_pesni/4567-grigorijj-leps-nostalgija.html\">Читать текст</a>\n",
            "<a href=\"/rus_text_pesni/4566-grigorijj-leps-ne-spitsja.html\">Не спится<i class=\"go_text\"></i></a>\n",
            "<a href=\"/rus_text_pesni/4566-grigorijj-leps-ne-spitsja.html\">Читать текст</a>\n",
            "<a href=\"/rus_text_pesni/4568-grigorijj-leps-ona-byla-chista-kak-sneg-zimojj.html\">Она была чиста как снег зимой<i class=\"go_text\"></i></a>\n",
            "<a href=\"/rus_text_pesni/4568-grigorijj-leps-ona-byla-chista-kak-sneg-zimojj.html\">Читать текст</a>\n",
            "<a href=\"/rus_text_pesni/45757-grigorijj-leps-chto-zh-ty-natvorila.html\">Что ж ты натворила<i class=\"go_text\"></i></a>\n",
            "<a href=\"/rus_text_pesni/45757-grigorijj-leps-chto-zh-ty-natvorila.html\">Читать текст</a>\n",
            "<a href=\"/rus_text_pesni/67188-grigorijj-leps-ne-tronte-dushu-grjaznymi-rukami.html\">Не троньте душу грязными руками<i class=\"go_text\"></i></a>\n",
            "<a href=\"/rus_text_pesni/67188-grigorijj-leps-ne-tronte-dushu-grjaznymi-rukami.html\">Читать текст</a>\n",
            "<a href=\"/rus_text_pesni/44133-grigorijj-leps-ja-tebe-verju-ost-sofija.html\">Я тебе верю (OST «София»)<i class=\"go_text\"></i></a>\n",
            "<a href=\"/rus_text_pesni/44133-grigorijj-leps-ja-tebe-verju-ost-sofija.html\">Читать текст</a>\n",
            "<a href=\"/rus_text_pesni/46767-grigorijj-leps-amin.html\">Аминь<i class=\"go_text\"></i></a>\n",
            "<a href=\"/rus_text_pesni/46767-grigorijj-leps-amin.html\">Читать текст</a>\n",
            "<a href=\"/rus_text_pesni/65632-grigorijj-leps-dom-khrustalnyjj.html\">Дом хрустальный<i class=\"go_text\"></i></a>\n",
            "<a href=\"/rus_text_pesni/65632-grigorijj-leps-dom-khrustalnyjj.html\">Читать текст</a>\n",
            "<a href=\"/rus_text_pesni/65636-grigorijj-leps-koni-priveredlivye.html\">Кони привередливые<i class=\"go_text\"></i></a>\n",
            "<a href=\"/rus_text_pesni/65636-grigorijj-leps-koni-priveredlivye.html\">Читать текст</a>\n",
            "<a href=\"/rus_text_pesni/65638-grigorijj-leps-moja-cyganskaja.html\">Моя цыганская<i class=\"go_text\"></i></a>\n",
            "<a href=\"/rus_text_pesni/65638-grigorijj-leps-moja-cyganskaja.html\">Читать текст</a>\n",
            "<a href=\"/rus_text_pesni/65634-grigorijj-leps-rajjskie-jabloki.html\">Райские яблоки<i class=\"go_text\"></i></a>\n",
            "<a href=\"/rus_text_pesni/65634-grigorijj-leps-rajjskie-jabloki.html\">Читать текст</a>\n",
            "<a href=\"/rus_text_pesni/40960-grigorijj-leps-kriminal.html\">Криминал<i class=\"go_text\"></i></a>\n",
            "<a href=\"/rus_text_pesni/40960-grigorijj-leps-kriminal.html\">Читать текст</a>\n",
            "<a href=\"/rus_text_pesni/46765-grigorijj-leps-bez-tebja.html\">Без тебя<i class=\"go_text\"></i></a>\n",
            "<a href=\"/rus_text_pesni/46765-grigorijj-leps-bez-tebja.html\">Читать текст</a>\n",
            "<a href=\"/rus_text_pesni/46768-grigorijj-leps-razbitaja-ljubov.html\">Разбитая любовь<i class=\"go_text\"></i></a>\n",
            "<a href=\"/rus_text_pesni/46768-grigorijj-leps-razbitaja-ljubov.html\">Читать текст</a>\n",
            "<a href=\"/rus_text_pesni/64878-grigorijj-leps-samyjj-luchshijj-den.html\">Самый лучший день<i class=\"go_text\"></i></a>\n",
            "<a href=\"/rus_text_pesni/64878-grigorijj-leps-samyjj-luchshijj-den.html\">Читать текст</a>\n",
            "<a href=\"/rus_text_pesni/46827-grigorijj-leps-vremja.html\">Время<i class=\"go_text\"></i></a>\n",
            "<a href=\"/rus_text_pesni/46827-grigorijj-leps-vremja.html\">Читать текст</a>\n",
            "<a href=\"/rus_text_pesni/46766-grigorijj-leps-odin-fig.html\">Один фиг<i class=\"go_text\"></i></a>\n",
            "<a href=\"/rus_text_pesni/46766-grigorijj-leps-odin-fig.html\">Читать текст</a>\n",
            "<a href=\"/rus_text_pesni/46779-grigorijj-leps-ty-prosto-zhzhjosh-posvjashhenie.html\">Ты просто жжёшь (посвящение Элтону Джону)<i class=\"go_text\"></i></a>\n",
            "<a href=\"/rus_text_pesni/46779-grigorijj-leps-ty-prosto-zhzhjosh-posvjashhenie.html\">Читать текст</a>\n",
            "<a href=\"/rus_text_pesni/55326-grigorijj-leps-life-is-good.html\">LIFE IS GOOD<i class=\"go_text\"></i></a>\n",
            "<a href=\"/rus_text_pesni/55326-grigorijj-leps-life-is-good.html\">Читать текст</a>\n",
            "<a href=\"/rus_text_pesni/63822-grigorijj-leps-mojj-pervyjj-srok.html\">Мой первый срок<i class=\"go_text\"></i></a>\n",
            "<a href=\"/rus_text_pesni/63822-grigorijj-leps-mojj-pervyjj-srok.html\">Читать текст</a>\n",
            "<a href=\"/rus_text_pesni/70691-grigorijj-leps-ona-menja-baluet.html\">Она Меня Балует<i class=\"go_text\"></i></a>\n",
            "<a href=\"/rus_text_pesni/70691-grigorijj-leps-ona-menja-baluet.html\">Читать текст</a>\n"
          ]
        }
      ],
      "source": [
        "urls = [\"https://text-you.ru/songs/григорий+лепс.html\", \"https://text-you.ru/songs/григорий+лепс-2.html\",\n",
        "       \"https://text-you.ru/songs/григорий+лепс-3.html\"]\n",
        "# 3 list -> -2 -3\n",
        "songs_lists = []\n",
        "\n",
        "for url in urls:\n",
        "    songs_list = requests.get(url) #загружаем страничку HTML\n",
        "    # songs_list.status_code\n",
        "    # BeautifulSoup for parser\n",
        "    songs_soup = BeautifulSoup(songs_list.content, \"html.parser\")    \n",
        "    for a in songs_soup.find_all('a'):\n",
        "        if str(a).find('rus_text_pesni') != -1 and str(a).find('leps') != -1:\n",
        "            print(a) \n",
        "            song_url = \"https://text-you.ru/\" + str(a['href'])\n",
        "            songs_lists.append(song_url)\n",
        "            \n",
        "songs_lists = list(set(songs_lists))\n",
        "# print(len(songs_lists))\n"
      ],
      "id": "ek1Gboc3ZCj8"
    },
    {
      "cell_type": "code",
      "source": [
        "songs_lists"
      ],
      "metadata": {
        "id": "Api_0stJVGoB",
        "outputId": "b284499e-1f7c-465d-a0bb-d557fa7773aa",
        "colab": {
          "base_uri": "https://localhost:8080/"
        }
      },
      "id": "Api_0stJVGoB",
      "execution_count": 5,
      "outputs": [
        {
          "output_type": "execute_result",
          "data": {
            "text/plain": [
              "['https://text-you.ru//rus_text_pesni/4557-grigorijj-leps-natali.html',\n",
              " 'https://text-you.ru//rus_text_pesni/38642-grigorijj-leps-ja-podnimaju-ruki.html',\n",
              " 'https://text-you.ru//rus_text_pesni/4563-grigorijj-leps-berega.html',\n",
              " 'https://text-you.ru//rus_text_pesni/46779-grigorijj-leps-ty-prosto-zhzhjosh-posvjashhenie.html',\n",
              " 'https://text-you.ru//rus_text_pesni/40960-grigorijj-leps-kriminal.html',\n",
              " 'https://text-you.ru//rus_text_pesni/46765-grigorijj-leps-bez-tebja.html',\n",
              " 'https://text-you.ru//rus_text_pesni/44645-grigorijj-leps-snega.html',\n",
              " 'https://text-you.ru//rus_text_pesni/27924-grigorijj-leps-gospodi-dajj-mne-sil.html',\n",
              " 'https://text-you.ru//rus_text_pesni/21319-grigorijj-leps-kapitan-arktika.html',\n",
              " 'https://text-you.ru//rus_text_pesni/14487-grigorijj-leps-spasibo-rebjata.html',\n",
              " 'https://text-you.ru//rus_text_pesni/4558-grigorijj-leps-ja-tebja-ne-ljublju.html',\n",
              " 'https://text-you.ru//rus_text_pesni/4567-grigorijj-leps-nostalgija.html',\n",
              " 'https://text-you.ru//rus_text_pesni/11733-grigorijj-leps-zima.html',\n",
              " 'https://text-you.ru//rus_text_pesni/4568-grigorijj-leps-ona-byla-chista-kak-sneg-zimojj.html',\n",
              " 'https://text-you.ru//rus_text_pesni/44133-grigorijj-leps-ja-tebe-verju-ost-sofija.html',\n",
              " 'https://text-you.ru//rus_text_pesni/4566-grigorijj-leps-ne-spitsja.html',\n",
              " 'https://text-you.ru//rus_text_pesni/4560-grigorijj-leps-labirint.html',\n",
              " 'https://text-you.ru//rus_text_pesni/63822-grigorijj-leps-mojj-pervyjj-srok.html',\n",
              " 'https://text-you.ru//rus_text_pesni/11557-grigorijj-leps-nastojashhaja-zhenshhina.html',\n",
              " 'https://text-you.ru//rus_text_pesni/45757-grigorijj-leps-chto-zh-ty-natvorila.html',\n",
              " 'https://text-you.ru//rus_text_pesni/17682-grigorijj-leps-ja-stanu-vodopadom.html',\n",
              " 'https://text-you.ru//rus_text_pesni/4556-grigorijj-leps-rasskazhi.html',\n",
              " 'https://text-you.ru//rus_text_pesni/22663-grigorijj-leps-ja-vernu-tebja.html',\n",
              " 'https://text-you.ru//rus_text_pesni/46767-grigorijj-leps-amin.html',\n",
              " 'https://text-you.ru//rus_text_pesni/65638-grigorijj-leps-moja-cyganskaja.html',\n",
              " 'https://text-you.ru//rus_text_pesni/10162-grigorijj-leps-ona.html',\n",
              " 'https://text-you.ru//rus_text_pesni/10159-grigorijj-leps-bozhe-kak-dolgo.html',\n",
              " 'https://text-you.ru//rus_text_pesni/23848-grigorijj-leps-staryjj-chjort.html',\n",
              " 'https://text-you.ru//rus_text_pesni/10161-grigorijj-leps-chernyjj-dozhd.html',\n",
              " 'https://text-you.ru//rus_text_pesni/55326-grigorijj-leps-life-is-good.html',\n",
              " 'https://text-you.ru//rus_text_pesni/67188-grigorijj-leps-ne-tronte-dushu-grjaznymi-rukami.html',\n",
              " 'https://text-you.ru//rus_text_pesni/10160-grigorijj-leps-zamerzaet-solnce.html',\n",
              " 'https://text-you.ru//rus_text_pesni/70691-grigorijj-leps-ona-menja-baluet.html',\n",
              " 'https://text-you.ru//rus_text_pesni/25163-grigorijj-leps-mne-snitsja-vodopad.html',\n",
              " 'https://text-you.ru//rus_text_pesni/4571-grigorijj-leps-ty-opozdala.html',\n",
              " 'https://text-you.ru//rus_text_pesni/21320-grigorijj-leps-london.html',\n",
              " 'https://text-you.ru//rus_text_pesni/10167-grigorijj-leps-rokovaja-ljubov.html',\n",
              " 'https://text-you.ru//rus_text_pesni/4565-grigorijj-leps-kupola.html',\n",
              " 'https://text-you.ru//rus_text_pesni/25286-grigorijj-leps-moskovskaja-pesnja.html',\n",
              " 'https://text-you.ru//rus_text_pesni/64878-grigorijj-leps-samyjj-luchshijj-den.html',\n",
              " 'https://text-you.ru//rus_text_pesni/4559-grigorijj-leps-vjuga.html',\n",
              " 'https://text-you.ru//rus_text_pesni/4562-grigorijj-leps-ukhodi-krasivo.html',\n",
              " 'https://text-you.ru//rus_text_pesni/46766-grigorijj-leps-odin-fig.html',\n",
              " 'https://text-you.ru//rus_text_pesni/65636-grigorijj-leps-koni-priveredlivye.html',\n",
              " 'https://text-you.ru//rus_text_pesni/65634-grigorijj-leps-rajjskie-jabloki.html',\n",
              " 'https://text-you.ru//rus_text_pesni/65632-grigorijj-leps-dom-khrustalnyjj.html',\n",
              " 'https://text-you.ru//rus_text_pesni/46827-grigorijj-leps-vremja.html',\n",
              " 'https://text-you.ru//rus_text_pesni/4561-grigorijj-leps-parus.html',\n",
              " 'https://text-you.ru//rus_text_pesni/46768-grigorijj-leps-razbitaja-ljubov.html',\n",
              " 'https://text-you.ru//rus_text_pesni/4564-grigorijj-leps-krysa-revnost.html',\n",
              " 'https://text-you.ru//rus_text_pesni/4555-grigorijj-leps-ne-zhdi-menja-i-slava.html',\n",
              " 'https://text-you.ru//rus_text_pesni/4569-grigorijj-leps-rjumka-vodki-na-stole.html',\n",
              " 'https://text-you.ru//rus_text_pesni/4570-grigorijj-leps-izmeny-i-viktorija-ilinskaja.html',\n",
              " 'https://text-you.ru//rus_text_pesni/21665-grigorijj-leps-ja-schastlivyjj.html']"
            ]
          },
          "metadata": {},
          "execution_count": 5
        }
      ]
    },
    {
      "cell_type": "code",
      "execution_count": 25,
      "id": "865ad537",
      "metadata": {
        "scrolled": true,
        "colab": {
          "base_uri": "https://localhost:8080/",
          "height": 450
        },
        "id": "865ad537",
        "outputId": "ad8d8e7a-7d50-439b-ecf2-573d0882b278"
      },
      "outputs": [
        {
          "output_type": "stream",
          "name": "stdout",
          "text": [
            " 5 августа 2010 \n"
          ]
        },
        {
          "output_type": "error",
          "ename": "KeyboardInterrupt",
          "evalue": "ignored",
          "traceback": [
            "\u001b[0;31m---------------------------------------------------------------------------\u001b[0m",
            "\u001b[0;31mTypeError\u001b[0m                                 Traceback (most recent call last)",
            "\u001b[0;32m/usr/local/lib/python3.8/dist-packages/urllib3/connectionpool.py\u001b[0m in \u001b[0;36m_make_request\u001b[0;34m(self, conn, method, url, timeout, chunked, **httplib_request_kw)\u001b[0m\n\u001b[1;32m    376\u001b[0m             \u001b[0;32mtry\u001b[0m\u001b[0;34m:\u001b[0m  \u001b[0;31m# Python 2.7, use buffering of HTTP responses\u001b[0m\u001b[0;34m\u001b[0m\u001b[0;34m\u001b[0m\u001b[0m\n\u001b[0;32m--> 377\u001b[0;31m                 \u001b[0mhttplib_response\u001b[0m \u001b[0;34m=\u001b[0m \u001b[0mconn\u001b[0m\u001b[0;34m.\u001b[0m\u001b[0mgetresponse\u001b[0m\u001b[0;34m(\u001b[0m\u001b[0mbuffering\u001b[0m\u001b[0;34m=\u001b[0m\u001b[0;32mTrue\u001b[0m\u001b[0;34m)\u001b[0m\u001b[0;34m\u001b[0m\u001b[0;34m\u001b[0m\u001b[0m\n\u001b[0m\u001b[1;32m    378\u001b[0m             \u001b[0;32mexcept\u001b[0m \u001b[0mTypeError\u001b[0m\u001b[0;34m:\u001b[0m  \u001b[0;31m# Python 3\u001b[0m\u001b[0;34m\u001b[0m\u001b[0;34m\u001b[0m\u001b[0m\n",
            "\u001b[0;31mTypeError\u001b[0m: getresponse() got an unexpected keyword argument 'buffering'",
            "\nDuring handling of the above exception, another exception occurred:\n",
            "\u001b[0;31mKeyboardInterrupt\u001b[0m                         Traceback (most recent call last)",
            "\u001b[0;32m<ipython-input-25-a20abf4ab731>\u001b[0m in \u001b[0;36m<module>\u001b[0;34m\u001b[0m\n\u001b[1;32m      1\u001b[0m \u001b[0;32mfor\u001b[0m \u001b[0msong_name\u001b[0m \u001b[0;32min\u001b[0m \u001b[0msongs_lists\u001b[0m\u001b[0;34m:\u001b[0m\u001b[0;34m\u001b[0m\u001b[0;34m\u001b[0m\u001b[0m\n\u001b[0;32m----> 2\u001b[0;31m     \u001b[0msong_url\u001b[0m \u001b[0;34m=\u001b[0m \u001b[0mrequests\u001b[0m\u001b[0;34m.\u001b[0m\u001b[0mget\u001b[0m\u001b[0;34m(\u001b[0m\u001b[0msong_name\u001b[0m\u001b[0;34m)\u001b[0m \u001b[0;31m# парим связанную с текстом страницу\u001b[0m\u001b[0;34m\u001b[0m\u001b[0;34m\u001b[0m\u001b[0m\n\u001b[0m\u001b[1;32m      3\u001b[0m     \u001b[0msong_soup\u001b[0m \u001b[0;34m=\u001b[0m \u001b[0mBeautifulSoup\u001b[0m\u001b[0;34m(\u001b[0m\u001b[0msong_url\u001b[0m\u001b[0;34m.\u001b[0m\u001b[0mcontent\u001b[0m\u001b[0;34m,\u001b[0m \u001b[0;34m\"html.parser\"\u001b[0m\u001b[0;34m)\u001b[0m\u001b[0;34m\u001b[0m\u001b[0;34m\u001b[0m\u001b[0m\n\u001b[1;32m      4\u001b[0m     \u001b[0;31m# поик даты\u001b[0m\u001b[0;34m\u001b[0m\u001b[0;34m\u001b[0m\u001b[0;34m\u001b[0m\u001b[0m\n\u001b[1;32m      5\u001b[0m     \u001b[0msong_date\u001b[0m \u001b[0;34m=\u001b[0m \u001b[0mstr\u001b[0m\u001b[0;34m(\u001b[0m\u001b[0msong_soup\u001b[0m\u001b[0;34m.\u001b[0m\u001b[0mfind_all\u001b[0m\u001b[0;34m(\u001b[0m\u001b[0;34m'span'\u001b[0m\u001b[0;34m)\u001b[0m\u001b[0;34m[\u001b[0m\u001b[0;36m2\u001b[0m\u001b[0;34m]\u001b[0m\u001b[0;34m)\u001b[0m \u001b[0;31m# указать нужный индекс <span> : <span class=\"date\">5 августа 2010</span>\u001b[0m\u001b[0;34m\u001b[0m\u001b[0;34m\u001b[0m\u001b[0m\n",
            "\u001b[0;32m/usr/local/lib/python3.8/dist-packages/requests/api.py\u001b[0m in \u001b[0;36mget\u001b[0;34m(url, params, **kwargs)\u001b[0m\n\u001b[1;32m     74\u001b[0m \u001b[0;34m\u001b[0m\u001b[0m\n\u001b[1;32m     75\u001b[0m     \u001b[0mkwargs\u001b[0m\u001b[0;34m.\u001b[0m\u001b[0msetdefault\u001b[0m\u001b[0;34m(\u001b[0m\u001b[0;34m'allow_redirects'\u001b[0m\u001b[0;34m,\u001b[0m \u001b[0;32mTrue\u001b[0m\u001b[0;34m)\u001b[0m\u001b[0;34m\u001b[0m\u001b[0;34m\u001b[0m\u001b[0m\n\u001b[0;32m---> 76\u001b[0;31m     \u001b[0;32mreturn\u001b[0m \u001b[0mrequest\u001b[0m\u001b[0;34m(\u001b[0m\u001b[0;34m'get'\u001b[0m\u001b[0;34m,\u001b[0m \u001b[0murl\u001b[0m\u001b[0;34m,\u001b[0m \u001b[0mparams\u001b[0m\u001b[0;34m=\u001b[0m\u001b[0mparams\u001b[0m\u001b[0;34m,\u001b[0m \u001b[0;34m**\u001b[0m\u001b[0mkwargs\u001b[0m\u001b[0;34m)\u001b[0m\u001b[0;34m\u001b[0m\u001b[0;34m\u001b[0m\u001b[0m\n\u001b[0m\u001b[1;32m     77\u001b[0m \u001b[0;34m\u001b[0m\u001b[0m\n\u001b[1;32m     78\u001b[0m \u001b[0;34m\u001b[0m\u001b[0m\n",
            "\u001b[0;32m/usr/local/lib/python3.8/dist-packages/requests/api.py\u001b[0m in \u001b[0;36mrequest\u001b[0;34m(method, url, **kwargs)\u001b[0m\n\u001b[1;32m     59\u001b[0m     \u001b[0;31m# cases, and look like a memory leak in others.\u001b[0m\u001b[0;34m\u001b[0m\u001b[0;34m\u001b[0m\u001b[0;34m\u001b[0m\u001b[0m\n\u001b[1;32m     60\u001b[0m     \u001b[0;32mwith\u001b[0m \u001b[0msessions\u001b[0m\u001b[0;34m.\u001b[0m\u001b[0mSession\u001b[0m\u001b[0;34m(\u001b[0m\u001b[0;34m)\u001b[0m \u001b[0;32mas\u001b[0m \u001b[0msession\u001b[0m\u001b[0;34m:\u001b[0m\u001b[0;34m\u001b[0m\u001b[0;34m\u001b[0m\u001b[0m\n\u001b[0;32m---> 61\u001b[0;31m         \u001b[0;32mreturn\u001b[0m \u001b[0msession\u001b[0m\u001b[0;34m.\u001b[0m\u001b[0mrequest\u001b[0m\u001b[0;34m(\u001b[0m\u001b[0mmethod\u001b[0m\u001b[0;34m=\u001b[0m\u001b[0mmethod\u001b[0m\u001b[0;34m,\u001b[0m \u001b[0murl\u001b[0m\u001b[0;34m=\u001b[0m\u001b[0murl\u001b[0m\u001b[0;34m,\u001b[0m \u001b[0;34m**\u001b[0m\u001b[0mkwargs\u001b[0m\u001b[0;34m)\u001b[0m\u001b[0;34m\u001b[0m\u001b[0;34m\u001b[0m\u001b[0m\n\u001b[0m\u001b[1;32m     62\u001b[0m \u001b[0;34m\u001b[0m\u001b[0m\n\u001b[1;32m     63\u001b[0m \u001b[0;34m\u001b[0m\u001b[0m\n",
            "\u001b[0;32m/usr/local/lib/python3.8/dist-packages/requests/sessions.py\u001b[0m in \u001b[0;36mrequest\u001b[0;34m(self, method, url, params, data, headers, cookies, files, auth, timeout, allow_redirects, proxies, hooks, stream, verify, cert, json)\u001b[0m\n\u001b[1;32m    528\u001b[0m         }\n\u001b[1;32m    529\u001b[0m         \u001b[0msend_kwargs\u001b[0m\u001b[0;34m.\u001b[0m\u001b[0mupdate\u001b[0m\u001b[0;34m(\u001b[0m\u001b[0msettings\u001b[0m\u001b[0;34m)\u001b[0m\u001b[0;34m\u001b[0m\u001b[0;34m\u001b[0m\u001b[0m\n\u001b[0;32m--> 530\u001b[0;31m         \u001b[0mresp\u001b[0m \u001b[0;34m=\u001b[0m \u001b[0mself\u001b[0m\u001b[0;34m.\u001b[0m\u001b[0msend\u001b[0m\u001b[0;34m(\u001b[0m\u001b[0mprep\u001b[0m\u001b[0;34m,\u001b[0m \u001b[0;34m**\u001b[0m\u001b[0msend_kwargs\u001b[0m\u001b[0;34m)\u001b[0m\u001b[0;34m\u001b[0m\u001b[0;34m\u001b[0m\u001b[0m\n\u001b[0m\u001b[1;32m    531\u001b[0m \u001b[0;34m\u001b[0m\u001b[0m\n\u001b[1;32m    532\u001b[0m         \u001b[0;32mreturn\u001b[0m \u001b[0mresp\u001b[0m\u001b[0;34m\u001b[0m\u001b[0;34m\u001b[0m\u001b[0m\n",
            "\u001b[0;32m/usr/local/lib/python3.8/dist-packages/requests/sessions.py\u001b[0m in \u001b[0;36msend\u001b[0;34m(self, request, **kwargs)\u001b[0m\n\u001b[1;32m    663\u001b[0m \u001b[0;34m\u001b[0m\u001b[0m\n\u001b[1;32m    664\u001b[0m         \u001b[0;31m# Resolve redirects if allowed.\u001b[0m\u001b[0;34m\u001b[0m\u001b[0;34m\u001b[0m\u001b[0;34m\u001b[0m\u001b[0m\n\u001b[0;32m--> 665\u001b[0;31m         \u001b[0mhistory\u001b[0m \u001b[0;34m=\u001b[0m \u001b[0;34m[\u001b[0m\u001b[0mresp\u001b[0m \u001b[0;32mfor\u001b[0m \u001b[0mresp\u001b[0m \u001b[0;32min\u001b[0m \u001b[0mgen\u001b[0m\u001b[0;34m]\u001b[0m \u001b[0;32mif\u001b[0m \u001b[0mallow_redirects\u001b[0m \u001b[0;32melse\u001b[0m \u001b[0;34m[\u001b[0m\u001b[0;34m]\u001b[0m\u001b[0;34m\u001b[0m\u001b[0;34m\u001b[0m\u001b[0m\n\u001b[0m\u001b[1;32m    666\u001b[0m \u001b[0;34m\u001b[0m\u001b[0m\n\u001b[1;32m    667\u001b[0m         \u001b[0;31m# Shuffle things around if there's history.\u001b[0m\u001b[0;34m\u001b[0m\u001b[0;34m\u001b[0m\u001b[0;34m\u001b[0m\u001b[0m\n",
            "\u001b[0;32m/usr/local/lib/python3.8/dist-packages/requests/sessions.py\u001b[0m in \u001b[0;36m<listcomp>\u001b[0;34m(.0)\u001b[0m\n\u001b[1;32m    663\u001b[0m \u001b[0;34m\u001b[0m\u001b[0m\n\u001b[1;32m    664\u001b[0m         \u001b[0;31m# Resolve redirects if allowed.\u001b[0m\u001b[0;34m\u001b[0m\u001b[0;34m\u001b[0m\u001b[0;34m\u001b[0m\u001b[0m\n\u001b[0;32m--> 665\u001b[0;31m         \u001b[0mhistory\u001b[0m \u001b[0;34m=\u001b[0m \u001b[0;34m[\u001b[0m\u001b[0mresp\u001b[0m \u001b[0;32mfor\u001b[0m \u001b[0mresp\u001b[0m \u001b[0;32min\u001b[0m \u001b[0mgen\u001b[0m\u001b[0;34m]\u001b[0m \u001b[0;32mif\u001b[0m \u001b[0mallow_redirects\u001b[0m \u001b[0;32melse\u001b[0m \u001b[0;34m[\u001b[0m\u001b[0;34m]\u001b[0m\u001b[0;34m\u001b[0m\u001b[0;34m\u001b[0m\u001b[0m\n\u001b[0m\u001b[1;32m    666\u001b[0m \u001b[0;34m\u001b[0m\u001b[0m\n\u001b[1;32m    667\u001b[0m         \u001b[0;31m# Shuffle things around if there's history.\u001b[0m\u001b[0;34m\u001b[0m\u001b[0;34m\u001b[0m\u001b[0;34m\u001b[0m\u001b[0m\n",
            "\u001b[0;32m/usr/local/lib/python3.8/dist-packages/requests/sessions.py\u001b[0m in \u001b[0;36mresolve_redirects\u001b[0;34m(self, resp, req, stream, timeout, verify, cert, proxies, yield_requests, **adapter_kwargs)\u001b[0m\n\u001b[1;32m    235\u001b[0m             \u001b[0;32melse\u001b[0m\u001b[0;34m:\u001b[0m\u001b[0;34m\u001b[0m\u001b[0;34m\u001b[0m\u001b[0m\n\u001b[1;32m    236\u001b[0m \u001b[0;34m\u001b[0m\u001b[0m\n\u001b[0;32m--> 237\u001b[0;31m                 resp = self.send(\n\u001b[0m\u001b[1;32m    238\u001b[0m                     \u001b[0mreq\u001b[0m\u001b[0;34m,\u001b[0m\u001b[0;34m\u001b[0m\u001b[0;34m\u001b[0m\u001b[0m\n\u001b[1;32m    239\u001b[0m                     \u001b[0mstream\u001b[0m\u001b[0;34m=\u001b[0m\u001b[0mstream\u001b[0m\u001b[0;34m,\u001b[0m\u001b[0;34m\u001b[0m\u001b[0;34m\u001b[0m\u001b[0m\n",
            "\u001b[0;32m/usr/local/lib/python3.8/dist-packages/requests/sessions.py\u001b[0m in \u001b[0;36msend\u001b[0;34m(self, request, **kwargs)\u001b[0m\n\u001b[1;32m    641\u001b[0m \u001b[0;34m\u001b[0m\u001b[0m\n\u001b[1;32m    642\u001b[0m         \u001b[0;31m# Send the request\u001b[0m\u001b[0;34m\u001b[0m\u001b[0;34m\u001b[0m\u001b[0;34m\u001b[0m\u001b[0m\n\u001b[0;32m--> 643\u001b[0;31m         \u001b[0mr\u001b[0m \u001b[0;34m=\u001b[0m \u001b[0madapter\u001b[0m\u001b[0;34m.\u001b[0m\u001b[0msend\u001b[0m\u001b[0;34m(\u001b[0m\u001b[0mrequest\u001b[0m\u001b[0;34m,\u001b[0m \u001b[0;34m**\u001b[0m\u001b[0mkwargs\u001b[0m\u001b[0;34m)\u001b[0m\u001b[0;34m\u001b[0m\u001b[0;34m\u001b[0m\u001b[0m\n\u001b[0m\u001b[1;32m    644\u001b[0m \u001b[0;34m\u001b[0m\u001b[0m\n\u001b[1;32m    645\u001b[0m         \u001b[0;31m# Total elapsed time of the request (approximately)\u001b[0m\u001b[0;34m\u001b[0m\u001b[0;34m\u001b[0m\u001b[0;34m\u001b[0m\u001b[0m\n",
            "\u001b[0;32m/usr/local/lib/python3.8/dist-packages/requests/adapters.py\u001b[0m in \u001b[0;36msend\u001b[0;34m(self, request, stream, timeout, verify, cert, proxies)\u001b[0m\n\u001b[1;32m    437\u001b[0m         \u001b[0;32mtry\u001b[0m\u001b[0;34m:\u001b[0m\u001b[0;34m\u001b[0m\u001b[0;34m\u001b[0m\u001b[0m\n\u001b[1;32m    438\u001b[0m             \u001b[0;32mif\u001b[0m \u001b[0;32mnot\u001b[0m \u001b[0mchunked\u001b[0m\u001b[0;34m:\u001b[0m\u001b[0;34m\u001b[0m\u001b[0;34m\u001b[0m\u001b[0m\n\u001b[0;32m--> 439\u001b[0;31m                 resp = conn.urlopen(\n\u001b[0m\u001b[1;32m    440\u001b[0m                     \u001b[0mmethod\u001b[0m\u001b[0;34m=\u001b[0m\u001b[0mrequest\u001b[0m\u001b[0;34m.\u001b[0m\u001b[0mmethod\u001b[0m\u001b[0;34m,\u001b[0m\u001b[0;34m\u001b[0m\u001b[0;34m\u001b[0m\u001b[0m\n\u001b[1;32m    441\u001b[0m                     \u001b[0murl\u001b[0m\u001b[0;34m=\u001b[0m\u001b[0murl\u001b[0m\u001b[0;34m,\u001b[0m\u001b[0;34m\u001b[0m\u001b[0;34m\u001b[0m\u001b[0m\n",
            "\u001b[0;32m/usr/local/lib/python3.8/dist-packages/urllib3/connectionpool.py\u001b[0m in \u001b[0;36murlopen\u001b[0;34m(self, method, url, body, headers, retries, redirect, assert_same_host, timeout, pool_timeout, release_conn, chunked, body_pos, **response_kw)\u001b[0m\n\u001b[1;32m    595\u001b[0m \u001b[0;34m\u001b[0m\u001b[0m\n\u001b[1;32m    596\u001b[0m             \u001b[0;31m# Make the request on the httplib connection object.\u001b[0m\u001b[0;34m\u001b[0m\u001b[0;34m\u001b[0m\u001b[0;34m\u001b[0m\u001b[0m\n\u001b[0;32m--> 597\u001b[0;31m             httplib_response = self._make_request(conn, method, url,\n\u001b[0m\u001b[1;32m    598\u001b[0m                                                   \u001b[0mtimeout\u001b[0m\u001b[0;34m=\u001b[0m\u001b[0mtimeout_obj\u001b[0m\u001b[0;34m,\u001b[0m\u001b[0;34m\u001b[0m\u001b[0;34m\u001b[0m\u001b[0m\n\u001b[1;32m    599\u001b[0m                                                   \u001b[0mbody\u001b[0m\u001b[0;34m=\u001b[0m\u001b[0mbody\u001b[0m\u001b[0;34m,\u001b[0m \u001b[0mheaders\u001b[0m\u001b[0;34m=\u001b[0m\u001b[0mheaders\u001b[0m\u001b[0;34m,\u001b[0m\u001b[0;34m\u001b[0m\u001b[0;34m\u001b[0m\u001b[0m\n",
            "\u001b[0;32m/usr/local/lib/python3.8/dist-packages/urllib3/connectionpool.py\u001b[0m in \u001b[0;36m_make_request\u001b[0;34m(self, conn, method, url, timeout, chunked, **httplib_request_kw)\u001b[0m\n\u001b[1;32m    378\u001b[0m             \u001b[0;32mexcept\u001b[0m \u001b[0mTypeError\u001b[0m\u001b[0;34m:\u001b[0m  \u001b[0;31m# Python 3\u001b[0m\u001b[0;34m\u001b[0m\u001b[0;34m\u001b[0m\u001b[0m\n\u001b[1;32m    379\u001b[0m                 \u001b[0;32mtry\u001b[0m\u001b[0;34m:\u001b[0m\u001b[0;34m\u001b[0m\u001b[0;34m\u001b[0m\u001b[0m\n\u001b[0;32m--> 380\u001b[0;31m                     \u001b[0mhttplib_response\u001b[0m \u001b[0;34m=\u001b[0m \u001b[0mconn\u001b[0m\u001b[0;34m.\u001b[0m\u001b[0mgetresponse\u001b[0m\u001b[0;34m(\u001b[0m\u001b[0;34m)\u001b[0m\u001b[0;34m\u001b[0m\u001b[0;34m\u001b[0m\u001b[0m\n\u001b[0m\u001b[1;32m    381\u001b[0m                 \u001b[0;32mexcept\u001b[0m \u001b[0mException\u001b[0m \u001b[0;32mas\u001b[0m \u001b[0me\u001b[0m\u001b[0;34m:\u001b[0m\u001b[0;34m\u001b[0m\u001b[0;34m\u001b[0m\u001b[0m\n\u001b[1;32m    382\u001b[0m                     \u001b[0;31m# Remove the TypeError from the exception chain in Python 3;\u001b[0m\u001b[0;34m\u001b[0m\u001b[0;34m\u001b[0m\u001b[0;34m\u001b[0m\u001b[0m\n",
            "\u001b[0;32m/usr/lib/python3.8/http/client.py\u001b[0m in \u001b[0;36mgetresponse\u001b[0;34m(self)\u001b[0m\n\u001b[1;32m   1346\u001b[0m         \u001b[0;32mtry\u001b[0m\u001b[0;34m:\u001b[0m\u001b[0;34m\u001b[0m\u001b[0;34m\u001b[0m\u001b[0m\n\u001b[1;32m   1347\u001b[0m             \u001b[0;32mtry\u001b[0m\u001b[0;34m:\u001b[0m\u001b[0;34m\u001b[0m\u001b[0;34m\u001b[0m\u001b[0m\n\u001b[0;32m-> 1348\u001b[0;31m                 \u001b[0mresponse\u001b[0m\u001b[0;34m.\u001b[0m\u001b[0mbegin\u001b[0m\u001b[0;34m(\u001b[0m\u001b[0;34m)\u001b[0m\u001b[0;34m\u001b[0m\u001b[0;34m\u001b[0m\u001b[0m\n\u001b[0m\u001b[1;32m   1349\u001b[0m             \u001b[0;32mexcept\u001b[0m \u001b[0mConnectionError\u001b[0m\u001b[0;34m:\u001b[0m\u001b[0;34m\u001b[0m\u001b[0;34m\u001b[0m\u001b[0m\n\u001b[1;32m   1350\u001b[0m                 \u001b[0mself\u001b[0m\u001b[0;34m.\u001b[0m\u001b[0mclose\u001b[0m\u001b[0;34m(\u001b[0m\u001b[0;34m)\u001b[0m\u001b[0;34m\u001b[0m\u001b[0;34m\u001b[0m\u001b[0m\n",
            "\u001b[0;32m/usr/lib/python3.8/http/client.py\u001b[0m in \u001b[0;36mbegin\u001b[0;34m(self)\u001b[0m\n\u001b[1;32m    314\u001b[0m         \u001b[0;31m# read until we get a non-100 response\u001b[0m\u001b[0;34m\u001b[0m\u001b[0;34m\u001b[0m\u001b[0;34m\u001b[0m\u001b[0m\n\u001b[1;32m    315\u001b[0m         \u001b[0;32mwhile\u001b[0m \u001b[0;32mTrue\u001b[0m\u001b[0;34m:\u001b[0m\u001b[0;34m\u001b[0m\u001b[0;34m\u001b[0m\u001b[0m\n\u001b[0;32m--> 316\u001b[0;31m             \u001b[0mversion\u001b[0m\u001b[0;34m,\u001b[0m \u001b[0mstatus\u001b[0m\u001b[0;34m,\u001b[0m \u001b[0mreason\u001b[0m \u001b[0;34m=\u001b[0m \u001b[0mself\u001b[0m\u001b[0;34m.\u001b[0m\u001b[0m_read_status\u001b[0m\u001b[0;34m(\u001b[0m\u001b[0;34m)\u001b[0m\u001b[0;34m\u001b[0m\u001b[0;34m\u001b[0m\u001b[0m\n\u001b[0m\u001b[1;32m    317\u001b[0m             \u001b[0;32mif\u001b[0m \u001b[0mstatus\u001b[0m \u001b[0;34m!=\u001b[0m \u001b[0mCONTINUE\u001b[0m\u001b[0;34m:\u001b[0m\u001b[0;34m\u001b[0m\u001b[0;34m\u001b[0m\u001b[0m\n\u001b[1;32m    318\u001b[0m                 \u001b[0;32mbreak\u001b[0m\u001b[0;34m\u001b[0m\u001b[0;34m\u001b[0m\u001b[0m\n",
            "\u001b[0;32m/usr/lib/python3.8/http/client.py\u001b[0m in \u001b[0;36m_read_status\u001b[0;34m(self)\u001b[0m\n\u001b[1;32m    275\u001b[0m \u001b[0;34m\u001b[0m\u001b[0m\n\u001b[1;32m    276\u001b[0m     \u001b[0;32mdef\u001b[0m \u001b[0m_read_status\u001b[0m\u001b[0;34m(\u001b[0m\u001b[0mself\u001b[0m\u001b[0;34m)\u001b[0m\u001b[0;34m:\u001b[0m\u001b[0;34m\u001b[0m\u001b[0;34m\u001b[0m\u001b[0m\n\u001b[0;32m--> 277\u001b[0;31m         \u001b[0mline\u001b[0m \u001b[0;34m=\u001b[0m \u001b[0mstr\u001b[0m\u001b[0;34m(\u001b[0m\u001b[0mself\u001b[0m\u001b[0;34m.\u001b[0m\u001b[0mfp\u001b[0m\u001b[0;34m.\u001b[0m\u001b[0mreadline\u001b[0m\u001b[0;34m(\u001b[0m\u001b[0m_MAXLINE\u001b[0m \u001b[0;34m+\u001b[0m \u001b[0;36m1\u001b[0m\u001b[0;34m)\u001b[0m\u001b[0;34m,\u001b[0m \u001b[0;34m\"iso-8859-1\"\u001b[0m\u001b[0;34m)\u001b[0m\u001b[0;34m\u001b[0m\u001b[0;34m\u001b[0m\u001b[0m\n\u001b[0m\u001b[1;32m    278\u001b[0m         \u001b[0;32mif\u001b[0m \u001b[0mlen\u001b[0m\u001b[0;34m(\u001b[0m\u001b[0mline\u001b[0m\u001b[0;34m)\u001b[0m \u001b[0;34m>\u001b[0m \u001b[0m_MAXLINE\u001b[0m\u001b[0;34m:\u001b[0m\u001b[0;34m\u001b[0m\u001b[0;34m\u001b[0m\u001b[0m\n\u001b[1;32m    279\u001b[0m             \u001b[0;32mraise\u001b[0m \u001b[0mLineTooLong\u001b[0m\u001b[0;34m(\u001b[0m\u001b[0;34m\"status line\"\u001b[0m\u001b[0;34m)\u001b[0m\u001b[0;34m\u001b[0m\u001b[0;34m\u001b[0m\u001b[0m\n",
            "\u001b[0;32m/usr/lib/python3.8/socket.py\u001b[0m in \u001b[0;36mreadinto\u001b[0;34m(self, b)\u001b[0m\n\u001b[1;32m    667\u001b[0m         \u001b[0;32mwhile\u001b[0m \u001b[0;32mTrue\u001b[0m\u001b[0;34m:\u001b[0m\u001b[0;34m\u001b[0m\u001b[0;34m\u001b[0m\u001b[0m\n\u001b[1;32m    668\u001b[0m             \u001b[0;32mtry\u001b[0m\u001b[0;34m:\u001b[0m\u001b[0;34m\u001b[0m\u001b[0;34m\u001b[0m\u001b[0m\n\u001b[0;32m--> 669\u001b[0;31m                 \u001b[0;32mreturn\u001b[0m \u001b[0mself\u001b[0m\u001b[0;34m.\u001b[0m\u001b[0m_sock\u001b[0m\u001b[0;34m.\u001b[0m\u001b[0mrecv_into\u001b[0m\u001b[0;34m(\u001b[0m\u001b[0mb\u001b[0m\u001b[0;34m)\u001b[0m\u001b[0;34m\u001b[0m\u001b[0;34m\u001b[0m\u001b[0m\n\u001b[0m\u001b[1;32m    670\u001b[0m             \u001b[0;32mexcept\u001b[0m \u001b[0mtimeout\u001b[0m\u001b[0;34m:\u001b[0m\u001b[0;34m\u001b[0m\u001b[0;34m\u001b[0m\u001b[0m\n\u001b[1;32m    671\u001b[0m                 \u001b[0mself\u001b[0m\u001b[0;34m.\u001b[0m\u001b[0m_timeout_occurred\u001b[0m \u001b[0;34m=\u001b[0m \u001b[0;32mTrue\u001b[0m\u001b[0;34m\u001b[0m\u001b[0;34m\u001b[0m\u001b[0m\n",
            "\u001b[0;32m/usr/lib/python3.8/ssl.py\u001b[0m in \u001b[0;36mrecv_into\u001b[0;34m(self, buffer, nbytes, flags)\u001b[0m\n\u001b[1;32m   1239\u001b[0m                   \u001b[0;34m\"non-zero flags not allowed in calls to recv_into() on %s\"\u001b[0m \u001b[0;34m%\u001b[0m\u001b[0;34m\u001b[0m\u001b[0;34m\u001b[0m\u001b[0m\n\u001b[1;32m   1240\u001b[0m                   self.__class__)\n\u001b[0;32m-> 1241\u001b[0;31m             \u001b[0;32mreturn\u001b[0m \u001b[0mself\u001b[0m\u001b[0;34m.\u001b[0m\u001b[0mread\u001b[0m\u001b[0;34m(\u001b[0m\u001b[0mnbytes\u001b[0m\u001b[0;34m,\u001b[0m \u001b[0mbuffer\u001b[0m\u001b[0;34m)\u001b[0m\u001b[0;34m\u001b[0m\u001b[0;34m\u001b[0m\u001b[0m\n\u001b[0m\u001b[1;32m   1242\u001b[0m         \u001b[0;32melse\u001b[0m\u001b[0;34m:\u001b[0m\u001b[0;34m\u001b[0m\u001b[0;34m\u001b[0m\u001b[0m\n\u001b[1;32m   1243\u001b[0m             \u001b[0;32mreturn\u001b[0m \u001b[0msuper\u001b[0m\u001b[0;34m(\u001b[0m\u001b[0;34m)\u001b[0m\u001b[0;34m.\u001b[0m\u001b[0mrecv_into\u001b[0m\u001b[0;34m(\u001b[0m\u001b[0mbuffer\u001b[0m\u001b[0;34m,\u001b[0m \u001b[0mnbytes\u001b[0m\u001b[0;34m,\u001b[0m \u001b[0mflags\u001b[0m\u001b[0;34m)\u001b[0m\u001b[0;34m\u001b[0m\u001b[0;34m\u001b[0m\u001b[0m\n",
            "\u001b[0;32m/usr/lib/python3.8/ssl.py\u001b[0m in \u001b[0;36mread\u001b[0;34m(self, len, buffer)\u001b[0m\n\u001b[1;32m   1097\u001b[0m         \u001b[0;32mtry\u001b[0m\u001b[0;34m:\u001b[0m\u001b[0;34m\u001b[0m\u001b[0;34m\u001b[0m\u001b[0m\n\u001b[1;32m   1098\u001b[0m             \u001b[0;32mif\u001b[0m \u001b[0mbuffer\u001b[0m \u001b[0;32mis\u001b[0m \u001b[0;32mnot\u001b[0m \u001b[0;32mNone\u001b[0m\u001b[0;34m:\u001b[0m\u001b[0;34m\u001b[0m\u001b[0;34m\u001b[0m\u001b[0m\n\u001b[0;32m-> 1099\u001b[0;31m                 \u001b[0;32mreturn\u001b[0m \u001b[0mself\u001b[0m\u001b[0;34m.\u001b[0m\u001b[0m_sslobj\u001b[0m\u001b[0;34m.\u001b[0m\u001b[0mread\u001b[0m\u001b[0;34m(\u001b[0m\u001b[0mlen\u001b[0m\u001b[0;34m,\u001b[0m \u001b[0mbuffer\u001b[0m\u001b[0;34m)\u001b[0m\u001b[0;34m\u001b[0m\u001b[0;34m\u001b[0m\u001b[0m\n\u001b[0m\u001b[1;32m   1100\u001b[0m             \u001b[0;32melse\u001b[0m\u001b[0;34m:\u001b[0m\u001b[0;34m\u001b[0m\u001b[0;34m\u001b[0m\u001b[0m\n\u001b[1;32m   1101\u001b[0m                 \u001b[0;32mreturn\u001b[0m \u001b[0mself\u001b[0m\u001b[0;34m.\u001b[0m\u001b[0m_sslobj\u001b[0m\u001b[0;34m.\u001b[0m\u001b[0mread\u001b[0m\u001b[0;34m(\u001b[0m\u001b[0mlen\u001b[0m\u001b[0;34m)\u001b[0m\u001b[0;34m\u001b[0m\u001b[0;34m\u001b[0m\u001b[0m\n",
            "\u001b[0;31mKeyboardInterrupt\u001b[0m: "
          ]
        }
      ],
      "source": [
        "for song_name in songs_lists:\n",
        "    song_url = requests.get(song_name) # парим связанную с текстом страницу\n",
        "    song_soup = BeautifulSoup(song_url.content, \"html.parser\")\n",
        "    # поик даты\n",
        "    song_date = str(song_soup.find_all('span')[2]) # указать нужный индекс <span> : <span class=\"date\">5 августа 2010</span>\n",
        "    song_date = replace_all(song_date, ['''<span class=\"date\">''', '</span>'])\n",
        "    print(song_date)\n",
        "    \n",
        "   \n",
        "    time.sleep(1)\n"
      ]
    },
    {
      "cell_type": "code",
      "source": [
        "parsed_songs = {}\n",
        "n = 0\n",
        "\n",
        "\n",
        "for song_name in songs_lists:\n",
        "    song_url = requests.get(song_name)\n",
        "    song_soup = BeautifulSoup(song_url.content, \"html.parser\")\n",
        "    # для текста песни\n",
        "    song_text = str(song_soup.find_all('pre')[0])\n",
        "    song_text = replace_all(song_text, ['<pre>', '<br/>', '</pre>'])\n",
        "    song_text = song_text.rstrip().lstrip()\n",
        "    # для даты\n",
        "    song_date = str(song_soup.find_all('span')[2]) # указать нужный индекс <span> : <span class=\"date\">5 августа 2010</span>\n",
        "    song_date = replace_all(song_date, ['''<span class=\"date\">''', '</span>'])\n",
        "    parsed_songs[song_name] = (song_text + '/' + song_date)\n",
        "    n += 1\n",
        "    print('Parsed', n, '/', len(songs_lists))\n",
        "    time.sleep(1)"
      ],
      "metadata": {
        "id": "KHSG4WW5qH6l",
        "outputId": "0b2cdfe0-205b-434f-f0a4-4f06041d8cb7",
        "colab": {
          "base_uri": "https://localhost:8080/"
        }
      },
      "id": "KHSG4WW5qH6l",
      "execution_count": 26,
      "outputs": [
        {
          "output_type": "stream",
          "name": "stdout",
          "text": [
            "Parsed 1 / 54\n",
            "Parsed 2 / 54\n",
            "Parsed 3 / 54\n",
            "Parsed 4 / 54\n",
            "Parsed 5 / 54\n",
            "Parsed 6 / 54\n",
            "Parsed 7 / 54\n",
            "Parsed 8 / 54\n",
            "Parsed 9 / 54\n",
            "Parsed 10 / 54\n",
            "Parsed 11 / 54\n",
            "Parsed 12 / 54\n",
            "Parsed 13 / 54\n",
            "Parsed 14 / 54\n",
            "Parsed 15 / 54\n",
            "Parsed 16 / 54\n",
            "Parsed 17 / 54\n",
            "Parsed 18 / 54\n",
            "Parsed 19 / 54\n",
            "Parsed 20 / 54\n",
            "Parsed 21 / 54\n",
            "Parsed 22 / 54\n",
            "Parsed 23 / 54\n",
            "Parsed 24 / 54\n",
            "Parsed 25 / 54\n",
            "Parsed 26 / 54\n",
            "Parsed 27 / 54\n",
            "Parsed 28 / 54\n",
            "Parsed 29 / 54\n",
            "Parsed 30 / 54\n",
            "Parsed 31 / 54\n",
            "Parsed 32 / 54\n",
            "Parsed 33 / 54\n",
            "Parsed 34 / 54\n",
            "Parsed 35 / 54\n",
            "Parsed 36 / 54\n",
            "Parsed 37 / 54\n",
            "Parsed 38 / 54\n",
            "Parsed 39 / 54\n",
            "Parsed 40 / 54\n",
            "Parsed 41 / 54\n",
            "Parsed 42 / 54\n",
            "Parsed 43 / 54\n",
            "Parsed 44 / 54\n",
            "Parsed 45 / 54\n",
            "Parsed 46 / 54\n",
            "Parsed 47 / 54\n",
            "Parsed 48 / 54\n",
            "Parsed 49 / 54\n",
            "Parsed 50 / 54\n",
            "Parsed 51 / 54\n",
            "Parsed 52 / 54\n",
            "Parsed 53 / 54\n",
            "Parsed 54 / 54\n"
          ]
        }
      ]
    },
    {
      "cell_type": "code",
      "execution_count": 27,
      "id": "0634532c",
      "metadata": {
        "colab": {
          "base_uri": "https://localhost:8080/"
        },
        "id": "0634532c",
        "outputId": "41d1861f-1334-4997-92da-edcdf2e39e23"
      },
      "outputs": [
        {
          "output_type": "execute_result",
          "data": {
            "text/plain": [
              "{'https://text-you.ru//rus_text_pesni/4557-grigorijj-leps-natali.html': 'В старом парке пахнет хвойной тишиной,  И качаются на ветках облака.  Сколько времени не виделись с тобой,  Может год, а может целые века?   Ни за что теперь не отыскать следов  В дальний край, где мы друг друга не нашли.  Я пришёл к тебе из позабытых снов,  Как приходят в свою гавань корабли   Натали утоли мои печали, Натали!  Натали я прошёл пустынью грусти пол-земли!  Натали я вернулся, чтоб сказать тебе прости  Натали от судьбы и от тебя мне не уйти!  Утоли мои печали, Натали!  Натали! Натали!   Потерял я где-то в бездорожье лет  Безоглядную влюблённость и покой.  Брал от женщин всё, что мог, и не секрет,  Я не свят, я виноват перед тобой!  Целовал я струи многих родников  И томился одиночеством вдали.  Мои волосы от зноя и ветров  Побелели, как степные ковыли.   Натали утоли мои печали, Натали!  Натали я прошёл пустынью грусти пол-земли!  Натали я вернулся, чтоб сказать тебе прости  Натали от судьбы и от тебя мне не уйти!  Утоли мои печали, Натали!  Натали! Натали!   Я проделал долгий путь,  Только время обмануть невозможно Натали и и  И хоть я другим не стал,  Но с дороги я устал и душа моя в пыли.   Натали утоли мои печали, Натали!  Натали я прошёл пустынью грусти пол-земли!  Натали я вернулся, чтоб сказать тебе прости  Натали от судьбы и от тебя мне не уйти!  Утоли мои печали, Натали!  Натали! Натали! Натали!  Натали  я вернулся, чтоб сказать тебе прости  Натали от судьбы и от тебя мне не уйти!  Утоли мои печали, Натали!  Натали! Натали!/ 5 августа 2010 ',\n",
              " 'https://text-you.ru//rus_text_pesni/38642-grigorijj-leps-ja-podnimaju-ruki.html': 'Я давно уже читаю по слогам./ 30 октября 2015 ',\n",
              " 'https://text-you.ru//rus_text_pesni/4563-grigorijj-leps-berega.html': 'Сталь ярким крылом рвёт облака пополам Ты где-то внизу и светит звезда не нам А нам нужно успеть что-то сказать, знать бы что Но мой горизонт сольётся с твоим и ты узнаешь.  Припев: Согревая наши души, выкупая наши клятвы Жизнь входит в берега Незаметно и неслышно после бури как в затишье Жизнь входит в берега.  Разрывая наши цепи, наполняя наши мели Жизнь входит в берега Заставляя думать прежде, чем оставить все надежды Жизнь входит в берега.  Тень выльет в окно счастье двоих, тайну их Спрячь шторами звук, желание рук о них Но ждать чувствуя свет чьих-то побед и наград Тень - это пятно, это рассвет но бьётся в капле.  Припев./ 6 августа 2010 ',\n",
              " 'https://text-you.ru//rus_text_pesni/46779-grigorijj-leps-ty-prosto-zhzhjosh-posvjashhenie.html': 'Первый Куплет: Григорий Лепс Лучше никогда не думать о плохом - это всё пройдёт. Но в твоей душе звучит так глубоко радостная музыка. И пока живёшь ты, слушая её - музыка не врёт. Как бы что-то не пугало, всё равно двигайся вперёд!  Переход: Музыка в тебе сама меняет мир, она не подведёт - Только ни на миг не предавай музыку в тебе.  Припев: Ты просто жжёшь, как волшебник из сказки - В мире твоём просыпается красота. Ты создаёшь этой музыки краски - Чтобы люди могли и любить, и мечтать!  Второй Куплет: Григорий Лепс В мире никогда нам не было легко - это грустный факт. Но его спасала горстка чудаков и радостная музыка. Люди понимали, слушая её - страшное пройдёт. Музыка им помогала дальше жить и двигаться вперёд.  Переход: Музыка в тебе сама меняет мир, она не подведёт - Только ни на миг не предавай музыку в тебе.  Припев: Ты просто жжёшь, как волшебник из сказки - В мире твоём просыпается красота. Ты создаёшь этой музыки краски - Чтобы люди могли и любить, и мечтать!  Ты просто жжёшь, разве это возможно? В сердце огонь - ты вокруг освещаешь всё! Жаль только, что в нашем мире всё сложно - Просто гори, пока в сердце огонь!/ 16 ноября 2017 ',\n",
              " 'https://text-you.ru//rus_text_pesni/40960-grigorijj-leps-kriminal.html': 'Куплет 1:/ 7 сентября 2016 ',\n",
              " 'https://text-you.ru//rus_text_pesni/46765-grigorijj-leps-bez-tebja.html': 'Смотри, что в моём сердце: Меняем местами чувства, лечим раны. Ещё немного в гору, и будет легче Бежать от веры и от правды. Смотри, что будет после...  Ещё немного дальше, и будет поздно. А так хотелось любви и ласки.  Улицы города словно артерии, Чаще дыхание, выше давление. Лечу в самое сердце, Где ночи ярче, чем дни, Где диджей крутит винил, Где не остаться в тени, И где нам было хорошо, Где небо падает вниз, Где не подарок, а приз, Где ошибусь этажом, И будет, и будет хорошо Без тебя!  Смотри, что в твоём сердце: Лужи превратились в океаны. Ещё немного позже мне будет легче, Я утоплю наши идеалы. Помнишь, как было раньше: Над головою звезды, внутри торнадо. Коварно и так просто, без злат и фальши, Золото – координата страха./ 16 ноября 2017 ',\n",
              " 'https://text-you.ru//rus_text_pesni/44645-grigorijj-leps-snega.html': 'Кажется мне, что мы с тобою одно./ 4 января 2017 ',\n",
              " 'https://text-you.ru//rus_text_pesni/27924-grigorijj-leps-gospodi-dajj-mne-sil.html': 'Господи, дай мне сил -/ 16 февраля 2014 ',\n",
              " 'https://text-you.ru//rus_text_pesni/21319-grigorijj-leps-kapitan-arktika.html': 'Нет проигранных битв, нет нарушенных клятв Он уверенно мчит за собою свой верный отряд Пусть теряется след где-то ниже ноля Бренны все острова к юго-западу от корабля.  С ним так много надежд среди прочих вершин Он надежен как холод как пламя он не сокрушим Он идет напрямик воем сумрачным льдов Из обветренной памятью вечно седых городов.  Припев: Если б можно бы взять повернуть время вспять Вот это романтика, чудеса навигации Но маяк не горит, тишина говорит Капитан Арктика, капитан Арктика.  Да, все мысли полны кровоточащих ран Каждый сам как умеет проходит свой меридиан О, так сладко мечтать о других полюсах Ослепленная светом я гасну в его парусах.  И послушен штурвал и не дрогнет рука Сто ветров завернуть в драгоценные эти шелка Так высок горизонт меж плакучих орбит Там, где новых паломников ждет семисолнечный скит.  Припев./ 18 ноября 2012 ',\n",
              " 'https://text-you.ru//rus_text_pesni/14487-grigorijj-leps-spasibo-rebjata.html': 'Вспоминая тихо о былом, сидя у могилы, Говорят мужчины...их морщины, Помнят поминутно всё о том, Как в одно мгновенье, без предупреждения, утром грянул гром...  И вспорхнули птицы к огненной границе, думая что сон... Но безумный гром в черной колеснице, Он им будет сниться...всю их жизнь потом... ..вся их жизнь о том...  Припев: Спасибо, ребята! За то, что вы с отчизной были рядом... Спасибо, герои! За то, что, заслонив собой, стояли крепкою стеной!..  Спасибо, ребята! Всем тем, кто был России старшим братом... За то, что не могло бы быть без вас, Но вы сумели победить... завещав нам жить, завещав нам жить...  В теплом свете вечного огня, Страшные мгновенья неповиновения, Поколения... Мы должны их помнить имена  Чтоб однажды утром, если будет нужно, Мы могли б всегда полететь, как птицы, В дальние станицы или города...  Видела звезда, как отцы и деды делали победы, Мы запомним это, это навсегда.. С нами навсегда!..  Припев./ 8 августа 2011 ',\n",
              " 'https://text-you.ru//rus_text_pesni/4558-grigorijj-leps-ja-tebja-ne-ljublju.html': 'Я интересуюсь тобой, но не глубоко Иногда проводим вдвоём с тобой денёк-другой А потом ты пропадаешь, только донесёт молва Что встречали тебя в Париже, на Гоа.  Сто забот ты приводишь за собой Постоянно думая что С тобой я б уже с ума сошёл Но мне всё-равно.  Припев: Я тебя не люблю, это главный мой плюс Я на это кино не куплюсь Даже лучше, что я тебя не люблю.  Мне не надо звонить и не надо лгать Но когда весь мир надоест, то есть куда бежать То на парочку дней, а то - на полчаса А кто я в жизни твоей, зачем мне это знать.  Сто забот ты приводишь за собой Постоянно думая что С тобой я б уже с ума сошёл Но мне всё-равно.  Припев: Я тебя не люблю, это главный мой плюс Я на это кино не куплюсь Переделать тебя я не стремлюсь. Я тебя не люблю, это я так решил А не то бы никто не жил Даже лучше, что я тебя не люблю./ 5 августа 2010 ',\n",
              " 'https://text-you.ru//rus_text_pesni/4567-grigorijj-leps-nostalgija.html': 'Золотится в бокале вино  В сигаретном дыму ностальгии.  Мы с тобою, мой друг, так давно  Не бывали в далекой России.  Где-то там, за этапами дней  Наша юность с тобой отсмеялась.  В бесприютном раю лагерей,  Как заложница, память осталась.   Сколько дней и воды утекло,  И дождями мечты отшумели.  Но живем, несмотря ни на что,  Только волосы вот побелели.  За туманами дальних морей,  Где и люди, и песни другие,  Бросив якорь, мы пьем за друзей  В сигаретном дыму ностальгии.   Не забыть Богом проклятых мест,  Без веселого солнца и лета,  Где несли мы нелегкий свой крест  За чертой тишины и рассвета.  Боль под сердцем сжималась в кулак  От прикладов, побоев и мата.  Снится нам вой конвойных собак  И свинцовая трель автомата.   Сколько дней и воды утекло,  И дождями мечты отшумели.  Но живем, несмотря ни на что,  Только волосы вот побелели.  За туманами дальних морей,  Где и люди, и песни другие,  Бросив якорь, мы пьем за друзей  В сигаретном дыму ностальгии.   Но однажды билеты возьмем  И вернемся в далекие годы,  Где простуженный гул поездов  Замерзает на рельсах свободы.  Там осталось немало друзей,  С кем мы горечь и радость делили.  И где-то там, за этапами дней  Мы такими счастливыми были.   Сколько дней и воды утекло,  И дождями мечты отшумели.  Но живем, несмотря ни на что,  Только волосы вот побелели.  За туманами дальних морей,  Где и люди, и песни другие,  Бросив якорь, мы пьем за друзей  В сигаретном дыму ностальгии./ 6 августа 2010 ',\n",
              " 'https://text-you.ru//rus_text_pesni/11733-grigorijj-leps-zima.html': 'Стою я на перроне, фонарик как лампада  Февральский ветер ловит твой взгляд за снегопадом  Иду к тебе навстречу, а вдруг ещё не поздно,  А вдруг ещё не вечер, ты мне нужна как воздух   До станции «Зима» пешком почти полгода  До станции «Зима» другой дороги нет  На станции «Зима» до пояса сугробы  До станции «Зима» в один конец билет  До станции «Зима» в один конец билет   Оставлю ссоры в прошлом, кому нужны потери!?  Ты думаешь, что плачу (мне жгут глаза метели)  Сжимается подковой моя душа на стуже  Скажи всего два слова и я пойму, что нужен   До станции «Зима» пешком почти полгода  До станции «Зима» другой дороги нет  На станции «Зима» до пояса сугробы  До станции «Зима» в один конец билет  До станции «Зима» в один конец билет   Проигрыш ….(модуляция)   До станции «Зима» пешком почти полгода  До станции «Зима» другой дороги нет  На станции «Зима» до пояса сугробы  До станции «Зима» в один конец билет  До станции «Зима» в один конец билет/ 9 марта 2011 ',\n",
              " 'https://text-you.ru//rus_text_pesni/4568-grigorijj-leps-ona-byla-chista-kak-sneg-zimojj.html': 'Она была чиста как снег зимой.  В грязь - соболя,- иди по ним - по праву...  Но вот мне руки жжет ея письмо -  Я узнаю мучительную правду...   Не ведал я: страданье - только маска,  И маскарад закончится сейчас,-  Да, в этот раз я потерпел фиаско -  Надеюсь, это был последний раз.   Подумал я: дни сочтены мои,  Дурная кровь в мои проникла вены,-  Я сжал письмо как голову змеи -  Сквозь пальцы просочился яд измены.   Не ведать мне страданий и агоний,  Мне встречный ветер слезы оботрет,  Моих коней обида не нагонит,  Моих следов метель не заметет.   Итак, я оставляю позади,  Под этим серым неприглядным небом,  Дурман фиалок, наготу гвоздик  И слезы вперемешку с талым снегом.   Москва слезам не верит и слезинкам -  И взять мне нечего, но нечего и дать,-  Спешу навстречу новым поединкам -  И, как всегда, намерен побеждать!/ 6 августа 2010 ',\n",
              " 'https://text-you.ru//rus_text_pesni/44133-grigorijj-leps-ja-tebe-verju-ost-sofija.html': 'Куплет 1:/ 23 ноября 2016 ',\n",
              " 'https://text-you.ru//rus_text_pesni/4566-grigorijj-leps-ne-spitsja.html': 'Ох, не спится мне, не спится.  У тебя снег на ресницах,  Глаз озера голубые.  У меня виски седые.   Ночи напролет не сплю я.  Девочку мою такую  Встретил - вот Амур-кудесник! -  Младший сын мой ей ровесник.   Ты, наверное, от скуки  Гладишь старческие руки,  А при встрече у аллеи  Поправляешь шарф на шее.   Ты не плачь, когда ревную:  Поругаю - поцелую.  Хорошо, что ты такая  Ласковая и родная.   Мне теперь совсем не страшно  Встретить смерть свою однажды.  А она уже заочно  Помахала мне платочком.   Ой, не спится мне, не спится, не спится.  Глаз озера голубые.  У меня виски седые.  Ох, не спится мне, не спится, не спится./ 6 августа 2010 ',\n",
              " 'https://text-you.ru//rus_text_pesni/4560-grigorijj-leps-labirint.html': 'Я так устал бродить Среди высоких стен, Где каждый шаг к тебе подобен пытке.... Я так хотел тебя Навеки взять в свой плен, Но сам пленён огнём твоей улыбки.... Огнём твоей улыбки.....  В глухую полночь Манит этот свет Кто был со мною, Все меня покиньте..... Я заблудился,выхода мне нет... В тебе брожу я словно в лабиринте Я заблудился,выхода мне нет.... В тебе брожу я словно в лабиринте...  Куда ведёт меня Очередной зигзаг твоей души, Неведомо мне ныне.... На полпути к тебе, Умолк последний шаг... И я один,я в каменной пустыне... Я в каменной пустыне.../ 5 августа 2010 ',\n",
              " 'https://text-you.ru//rus_text_pesni/63822-grigorijj-leps-mojj-pervyjj-srok.html': 'Первый срок, нечаянная ходка, пацана ментовка замела! Забывай-бывай меня, молодка, и живи, как раньше ты жила. Первый срок, он шел за мной по следу, мы же знали это все с тобой! Я еще прие-прие-приеду и еще почти что молодой.  Припев: А воровской припев такой - семь лет - не вышка! Не суетись, когда на кичу заметут! Не верь, не бойся, не проси - такая фишка, не верь, не бойся, не проси - такая фишка, иначе схавают и рта не оботрут!  Первый срок и я приду не скоро, у тебя появятся друзья! Все ж таки семе-семе-семера - столько лет без шалости нельзя. Первый срок, нечаянная ходка, пацана ментовка замела! Забывай-бывай меня, молодка, и живи, как раньше ты жила.  Припев: А воровской припев такой - семь лет - не вышка! Не суетись, когда на кичу заметут! Не верь, не бойся, не проси - такая фишка, не верь, не бойся, не проси - такая фишка, иначе схавают и рта не оботрут! А воровской припев такой - семь лет - не вышка! Не суетись, когда на кичу заметут! Не верь, не бойся, не проси - такая фишка, не верь, не бойся, не проси - такая фишка, иначе схавают и рта не оботрут! Иначе схавают и рта не оботрут/ 4 апреля 2020 ',\n",
              " 'https://text-you.ru//rus_text_pesni/11557-grigorijj-leps-nastojashhaja-zhenshhina.html': 'То хочу, то не хочу Кажется, что это игрой Ты преднамеренно сводишь с ума Но в тебе паника чувств Тянут на грех, минус и плюс Не понимая, что хочешь сама  Ты настоящая женщина Больше добавить мне нечего Нежная, глупая, грешная И с ангельским лицом  Ты настоящая женщина И от судьбы обеспеченной Рвёшься и рвёшься доверчиво В сказку с плохим концом  Что в тебе дразнит меня То, что в любви, как и в войне Ты отдаёшься до самого дна Но тебя надо бы знать Ты разобьёшь много сердец И вот тогда наступает конец  Ты настоящая женщина Больше добавить мне нечего Нежная, глупая, грешная И с ангельским лицом  Ты настоящая женщина И от судьбы обеспеченной Рвёшься и рвёшься доверчиво В сказку с плохим концом  Ты настоящая женщина Больше добавить мне нечего Нежная, глупая, грешная И с ангельским лицом  Ты настоящая женщина И от судьбы обеспеченной Рвёшься и рвёшься доверчиво В сказку с плохим концом  В сказку с плохим концом В сказку с плохим концом/ 20 февраля 2011 ',\n",
              " 'https://text-you.ru//rus_text_pesni/45757-grigorijj-leps-chto-zh-ty-natvorila.html': '[Куплет 1, Григорий Лепс]: Как-будто сразу после боя, как раскалившись до красна Остались нам вдвоём с тобою любви просроченой слова. Потом банально хлопнув дверью, не оглянувшись,  Ты пошла ходить другою параллелью одна!  Припев: Что ж ты натворила! Ну как же ты могла? Закончилась весна и всё запорошило. Что ж ты натворила! Решай теперь сама, Как все забыть слова; и всё, что с нами было Разрушила сама!  [Куплет 2, Григорий Лепс]: Навеет запах на постели, что где-то рядом бродишь ты. И без тебя осиротели мои наивные мечты. Сольются в месяцы недели; и если не вернешься ты, Пока не будем ставить точки над i.  Припев: Что ж ты натворила! Ну как же ты могла? Закончилась весна и всё запорошило. Что ж ты натворила! Решай теперь сама, Как все забыть слова; и всё, что с нами было Разрушила!  Припев: Что ж ты натворила! Ну как же ты могла? Закончилась весна и всё запорошило. Что ж ты натворила! Решай теперь сама, Как все забыть слова; и всё, что с нами было!  Что ж ты натворила! Ну как же ты могла? Закончилась весна и всё запорошило. Что ж ты натворила! Решай теперь сама, Как все забыть слова; и всё, что с нами было Разрушила сама!/ 2 июня 2017 ',\n",
              " 'https://text-you.ru//rus_text_pesni/17682-grigorijj-leps-ja-stanu-vodopadom.html': 'Снег под ногами, сделанный на заказ, Что будет с нами, узнаем через несколько фраз. Слова как иголки, предложения как ножи, Поцелуев осколки - прошлое не сложить. Мы теперь об этом знаем всё...  Я стану водопадом, падением с высоты. И все твои вина из винограда для меня уже слишком просты. В тебе больше нет хмеля, и крепость твоя не та. Нам оставалась всего неделя, и она уже прожита. Ла-ла -ла -ла....  Я мог бы остаться, и уже ни каких перемен, Я мог бы сдаваться, но что мы получили в замен. Холодные ночи, одинокие вечера, Давай все закончим, давай забывать номера. Мы теперь об этом знаем всё...  Я стану водопадом, падением с высоты. И все твои вина из винограда для меня уже слишком просты. В тебе больше нет хмеля, и крепость твоя не та. Нам оставалась всего неделя, и она уже прожита. Ла-ла -ла -ла....  Мы теперь об этом знаем всё... Я стану водопадом, падением с высоты. И все твои вина из винограда для меня уже слишком просты. В тебе больше нет хмеля, и крепость твоя не та. Нам оставалась всего неделя, и она... Ла-ла-ла-ла.. соло саксофон))  В тебе больше нет хмеля, и крепость твоя не та. Нам оставалась всего неделя, и она..уже прожита. Ла-ла-ла-ла.../ 21 февраля 2012 ',\n",
              " 'https://text-you.ru//rus_text_pesni/4556-grigorijj-leps-rasskazhi.html': 'Сколько лет и сколько дней,ты жил в мечте своей. Жил и вдруг почти что умер,да и по вине своей. Целый год тебя тащили,мы подняли всех. Чтобы ты остался с нами,не ушел на век. И теперь одна надежда,мир любя. Тридцать лет осталось где-то,делай вывод для себя. Бог и мать,работа,дети,дом,семья. Чтож,совсем не плохо,для тебя.   Расскажи мне,что ты знаешь. Расскажи,куда взлетаешь. Расскажи мне ,расскажи мне,не томи. С кем там виделся,о чем беседы шли.   Расскажи мне,что ты знаешь. Расскажи,куда взлетаешь. Расскажи,как жить то будешь. Как однажды умер,знаю не забудешь.   Расскажи мне,что ты знаешь. Расскажи,куда взлетаешь. Расскажи,как жить то будешь. Теперь... Теперь...   Расскажи мне,что ты знаешь. Расскажи,куда взлетаешь. Расскажи,как жить то будешь. Теперь.../ 5 августа 2010 ',\n",
              " 'https://text-you.ru//rus_text_pesni/22663-grigorijj-leps-ja-vernu-tebja.html': 'Нет числа, этим нелепым дням/ 16 марта 2013 ',\n",
              " 'https://text-you.ru//rus_text_pesni/46767-grigorijj-leps-amin.html': 'Первый Куплет: Григорий Лепс Я пройдусь по комнатам пустым, Здесь еще вчера была империя. Мир казался светлым и таким большим, А потом затмение, а теперь - измены дым.  Припев: Я объявлю войну своим мечтам, И память торопя, расставлю вещи в доме по местам, Как было до тебя.  Завтра я смогу опять дышать, и трогать неба синь. А ты - история, теперь ты лишь история. Ну все, Аминь!  Второй Куплет: Григорий Лепс Я не дам тебе бродить во снах, Чувства все остались за пределами. От любви до безразличия только шаг, И его мы сделали, и назад уже никак.  Припев: Я объявлю войну своим мечтам, И память торопя, расставлю вещи в доме по местам, Как было до тебя.  Завтра я смогу опять бежать, и трогать неба синь. А ты - история, теперь ты лишь история. Ну все, Аминь!/ 16 ноября 2017 ',\n",
              " 'https://text-you.ru//rus_text_pesni/65638-grigorijj-leps-moja-cyganskaja.html': 'Первый Куплет: Григорий Лепс В сон мне - желтые огни, И хриплю во сне я: - Повремени, повремени,- Утро мудренее! Но и утром всё не так, Нет того веселья: Либо куришь да натощак, Или пьешь с похмелья.  Припев: Да эгэЭх раз! Да еще раз! Да еще много-много-много-много-много раз! Да что ты?! Да еще раз! Или пьешь с похмелья?  Второй Куплет: Григорий Лепс В кабаках - зеленый штоф, Белые салфетки. Рай для нищих и шутов, Мне ж - как птице в клетке! В церкви смрад и полумрак, Дьяки, дьяки курят ладан. Нет! И в церкви все не так, Все не так, все не так,как надо.  Припев: Да эгэЭх раз! Да еще раз! Да еще много-много-много-много-много раз! Да что ты?! Да еще раз! Или пьешь с похмелья?  Третий Куплет: Григорий Лепс Я та на гору впопыхах, Чтоб чего не вышло. А на горе стоит ольха, А под горою вишня. Хоть бы склон увить плющом, Да мне б и то отрада, Хоть бы что-нибудь еще... Все не так, как надо!  Припев: Да эгэЭх раз! Да еще раз! Да еще много-много-много-много-много раз! Да что ты?! Да еще раз! Или пьешь с похмелья?  Четвертый Куплет: Григорий Лепс Я тогда по полю, вдоль реки. Света - тьма, нет бога! А в чистом поле да васильки, Дальняя дорога. Вдоль дороги - лес густой С Бабами-Ягами, А в конце дороги той - Плаха с топорами.  Где-то кони пляшут в такт, Нехотя и плавно. Вдоль дороги все не так, А в конце - подавно. И ни церковь, да ни кабак - Да ничего не свято! Нет, ребята, все не так, Все не так, ребята!  Припев: Эх раз! Да еще раз! Да еще много-много-много-много-много раз! Да что ты?! Да еще раз! Все не так, ребята!/ 25 июля 2020 ',\n",
              " 'https://text-you.ru//rus_text_pesni/10162-grigorijj-leps-ona.html': 'Она скинет пальто, выпьет вина, чтобы согреться. Она, просто никто, но отчего так бьется сердце? Душа моя на замки закрыта от всех людей и на миллионы дней. Душа моя к небесам пришита, ну что я нашел в ней?  Припев Она умеет делать мне любовь, Может выпить без остатка мне всю кровь, Может быть со мной холодной, как зима, И опять сведет, сведет меня с ума.  Она знает мужчин, я это все чувствую кожей. Она - мой кокаин, мой ЛСД и даже больше. Душа моя на замки закрыта от всех людей и на миллионы дней. Душа моя к небесам пришита, ну что я нашел в ней?  Припев Она умеет делать мне любовь, Может выпить без остатка мне всю кровь, Может быть со мной холодной, как зима, И опять сведет, сведет меня с ума.(2раза) И опять сведет, сведет меня с ума. И опять сведет, сведет меня с ума. Сведет меня с ума. Сведет меня с ума./ 1 января 2011 ',\n",
              " 'https://text-you.ru//rus_text_pesni/10159-grigorijj-leps-bozhe-kak-dolgo.html': 'Месяц назад любовался тобой, словно, я сам тебя создал. Месяц назад, как русалку из волн, ласково, ласково звал. Я разбудил проливные дожди, плакал растроганный воздух, Но ничего я не мог изменить в этих наивных глазах.  Припев: Боже, как долго, долго, Как долго думала ты! Боже, как долго, долго, Как долго думала ты! Цветы все увяли, в моем сердце, Просто увяли!  Кажеться, я - в твоих детских руках - сложная слишком игрушка, Вертишь ее, и не можешь понять, что тебе делать теперь. Я же просил: Просто реши: нужен я или не нужен!!! Этот вопрос удивительно прост, на не по силам тебе!!!  Припев: Боже, как долго, долго, Как долго думала ты! Боже, как долго, долго, Как долго думала ты! Цветы все увяли, в моем сердце, Просто увяли!  Боже, как долго, долго, Как долго думала ты! (4 раза)  Цветы все увяли, в моем сердце, Просто увяли!/ 1 января 2011 ',\n",
              " 'https://text-you.ru//rus_text_pesni/23848-grigorijj-leps-staryjj-chjort.html': 'Расскажи мне старый черт/ 15 июня 2013 ',\n",
              " 'https://text-you.ru//rus_text_pesni/10161-grigorijj-leps-chernyjj-dozhd.html': 'Настроение на \"нет\",  И везде погашен свет, Все равно здесь не на что смотреть. В клетке заперт я, как зверь И, хотя, я вижу дверь,  Но, кто знает, может это смерть? То ли сердце дало сбой, То ли я пленен тобой? Где то рядом поселилась ложь. Есть предание одно: \"Если в мире все вверх дном, Из небес польется черный дождь\"  Припев Черный дождь стучит по крыше, Льет коварно и не слышно. И за шторы проникает медленно. Черный дождь стучит по стеклам  Так упорно и жестоко Шепчет, а душа не верит, бедная!  Из твоих невнятных слов Про любовь и нелюбовь, Я, прости, не понял ничего. Но сомнений не унять, Стал смотреть я на тебя, Словно, я нашел в тебе жучок! Без доверья жить нельзя, Мир накренился скользя - Ты была в нем очень важный гвоздь. Есть поверие одно: \"В день, когда умрет любовь, Из небес польется черный дождь\"  Припев Черный дождь стучит по крыше, Льет коварно и не слышно. И за шторы проникает медленно. Черный дождь стучит по стеклам  Так упорно и жестоко Шепчет, а душа не верит, бедная!(3раза)/ 1 января 2011 ',\n",
              " 'https://text-you.ru//rus_text_pesni/55326-grigorijj-leps-life-is-good.html': 'Припев: Life Is Good Life Is Good Life Is Good Life Is Good Life Is Good Life Is Good Life Is Good Life Is Good  Первый Куплет: Григорий Лепс Время - ветер и песок. Дни сливаются в года. Но ты всю жизнь искал момент. В плену надежд, ошибок страсть. Я беру от жизни всё. Нету завтра, есть сейчас. Эта жизнь - водоворот. И падение и взлет. До мечты один лишь шаг.  Припев: [x4] Life Is Good Life - скажем вместе! Life Is Good Life - этой песней! Life Is Good Life - жизнь прекрасна! Life Is Good Life…  Второй Куплет: Григорий Лепс Объединяться, что бы жить. В надеждах встречи и мечты. Но я хочу здесь и сейчас. Жизнь, она для нас. Ведь мы для счастья рождены!  Припев: [x2] Life Is Good Life - скажем вместе! Life Is Good Life - этой песней! Life Is Good Life - жизнь прекрасна! Life Is Good Life…/ 15 января 2019 ',\n",
              " 'https://text-you.ru//rus_text_pesni/67188-grigorijj-leps-ne-tronte-dushu-grjaznymi-rukami.html': '[Куплет 1]: Пред тем, как я предстану идиотом, Я попрошу пред образом: \"Подайте...\" При нём не надо думать об исходе, Он любит нас — добавит день к расплате.  Из ничего в ничто бросая семя, Живу себе, себя воображая, Моя надежда сильно поседела И с каждым годом просто никакая.  [Припев]: Не троньте душу грязными руками! Не надо врать, что нет пути другого. Я на задворках мёртвыми губами… Искал поддержки я у чужих пророков.  [Куплет 2]: Сквозь время память обладает силой. Забыв про боль обид и гиблые трясины, Стучится в сердце птицей синекрылой, Твердит, что верность и любовь едины.   [Припев]: Не троньте душу грязными руками! Не надо врать, что нет пути другого. Я на задворках мёртвыми губами… Искал поддержки я у чужих пророков.  [Припев]: Не троньте душу грязными руками! Не надо врать, что нет пути другого. Я на задворках мёртвыми губами… Искал поддержки я у чужих пророков.  Я на задворках мёртвыми губами… Искал поддержки я у чужих пророков. У чужих пророков. У чужих пророков./ 25 декабря 2020 ',\n",
              " 'https://text-you.ru//rus_text_pesni/10160-grigorijj-leps-zamerzaet-solnce.html': 'По пустым проспектам неба Одиноко бродит солнце, То беспечно улыбнётся, То о чём то загрустит. Всех теплом своим согреет, Жить иначе просто не умеет.  А-а-а...может быть такая доля, Одинокого светила Не смотря на всё что было, Всё равно любить весь мир. Только мир собою занят, Просто так, в ответ, любить не станет.  А-а-а...там высоко-о-о-о, Там далеко-о-о-о, Там в небесах, без любви, Замерзает солнце.  Там высоко-о-о-о, Там далеко-о-о-о, Там в небесах, без любви, Замерзает солнце.   Все свои печали солнце, За изнанкой ночи прячет. И беззвучно, тихо плачет, Чтобы не тревожить нас. Но никто не обернётся, Не увидит эти слёзы солнца.  Там высоко-о-о-о, Там далеко-о-о-о, Там в небесах, без любви, Замерзает солнце.  Там высоко-о-о-о, Там далеко-о-о-о, Пряча печали свои, Замерзает солнце.   Там высоко-о-о-о, Там далеко-о-о-о, Там в небесах, без любви, Замерзает солнце.  Там высоко-о-о-о, Там далеко-о-о-о, Пряча печали свои, Замерзает солнце./ 1 января 2011 ',\n",
              " 'https://text-you.ru//rus_text_pesni/70691-grigorijj-leps-ona-menja-baluet.html': 'Я горящие угли бросаю в лед Я уже такой как есть – другим не стать Прожигая на огне за годом год Мне в душе всего лишь лет 25…  Она меня балует, она меня чувствует Зависну на паузе, над водами грустными Зависну на паузе, над черною Яузой Над водами талыми Она меня балует  По секундам собираю каждый миг Все отношения людей – лишь игра Но я не лодка, что бы по теченью плыть Раньше плыл, ну а теперь не для меня  Она меня балует, она меня чувствует Зависну на паузе, над водами грустными Зависну на паузе, над черною Яузой Над водами талыми Она меня балует/ 25 июня 2021 ',\n",
              " 'https://text-you.ru//rus_text_pesni/25163-grigorijj-leps-mne-snitsja-vodopad.html': 'Я пришёл издалека, стала вдруг крылом рука Я взлетел под облака словно птица И смотрю я с высоты, мир небесной красоты Понимая что увы, всё мне снится.  Припев: Мне снится, мне снится водопад Мне снится, мне снится водопад.  Вдаль свободную маня, разбивая брызги дня Свет холодного огня серебрится Звёзды льются с высоты, мир небесной красоты Я взлетаю, но увы, всё мне снится./ 29 сентября 2013 ',\n",
              " 'https://text-you.ru//rus_text_pesni/4571-grigorijj-leps-ty-opozdala.html': 'Нарисуй весну, потом сотри Ночи без любви не нужны они Нарисуй луну, оставь её Изменилось всё, я ушёл давно.  Припев: Ты опоздала, здесь нет меня Ты не узнаешь как мог быть счастлив я Сметает ливнем мои следы Он мог бы повенчать нас, только опоздала ты.  Нарисованы твои глаза В них одна слеза ждёт ещё тепла Мне за это можно всё отдать Но должна ты знать, поздно всё менять./ 6 августа 2010 ',\n",
              " 'https://text-you.ru//rus_text_pesni/21320-grigorijj-leps-london.html': 'F В голове сколько мыслей, кому их рассказать? Ты и я здесь один лучше их записать A# Нужно продолжать двигаться, а не бежать От себя не убежишь в тридцать это надо знать Взято с сайта http://hm6.ru  C Ты можешь поменять страну и континент Ты можешь сорвать куш и упустить момент F Жить, будто бы границ нет C Уходя, после себя оставить след  Меня уносит с собой ветер перемен Мимо крыш домов, мимо кремлевских стен Я парю над городом, как супермен Покидая его душный плен  Ещё один раз здесь только я и ты Последний звонок и горят мосты Из под ног ушла земля Я давно отпустил, но я всё ещё люблю тебя/ 18 ноября 2012 ',\n",
              " 'https://text-you.ru//rus_text_pesni/10167-grigorijj-leps-rokovaja-ljubov.html': 'Жизнь я рисовал с линейкою прямой, Я разрубал узлы и не терял покой-ой. Унизиться боясь, я женщин унижал, И знал я, что так надо, и не переживал, Но звери дикие мне в душу ворвались И хлест утратил свой простой волшебный смысл. Перед женщиной, вдруг, беззащитен я И солнце вольное погасло для меня.  Как она опасна, как она нежна! Кошачья грация и хищная душа! И что нибудь решить нет права у меня. Быть или не быть, скажет мне она.  Припев Медленно, медленно прорастает слово - \"опасная\", \"роковая\" -  Это последнее слово, словно прыжок с небоскреба в дождь. Медленно, медленно вырастает эта волна моя роковая. Девять-девятых валов. Кто то сказал:\"Роковая любовь\".  И что же делать мне теперь, что же делать мне теперь? Я понял, что всю жизнь ходил я по воде, эй. Не знаю, был ли прав я, обижая тех, Но кошечка сполна мне отомстит за всех.  Как она открыта, как она смела! Ласково убьет, быстрее, чем игла! И я хочу погибнуть жизнь мне не мила! Мой ли это выбор, скажет мне она!  Припев Медленно, медленно прорастает слово - \"опасная\", \"роковая\" -  Это последнее слово, словно прыжок с небоскреба в дождь. Медленно, медленно вырастает эта волна моя роковая. Девять-девятых валов. Кто то сказал:\"Роковая любовь\".(2раза)/ 2 января 2011 ',\n",
              " 'https://text-you.ru//rus_text_pesni/4565-grigorijj-leps-kupola.html': 'Как засмотрится мне нынче, как задышится?  Воздух крут перед грозой, крут да вязок.  Что споется мне сегодня, что услышится?  Птицы вещие поют - да все из сказок.   Птица Сирин мне радостно скалится -  Веселит, зазывает из гнезд,  А напротив - тоскует-печалится,  Травит душу чудной Алконост.   Словно семь заветных струн  Зазвенели в свой черед -  Это птица Гамаюн  Надежду подает!   В синем небе, колокольнями проколотом,-  Медный колокол, медный колокол -  То ль возрадовался, то ли осерчал...  Купола в России кроют чистым золотом -  Чтобы чаще Господь замечал.   Я стою, как перед вечною загадкою,  Пред великою да сказочной страною -  Перед солоно - да горько-кисло-сладкою,  Голубою, родниковою, ржаною.   Грязью чавкая жирной да ржавою,  Вязнут лошади по стремена,  Но влекут меня сонной державою,  Что раскисла, опухла от сна.   Словно семь богатых лун  На пути моем встает -  То птица Гамаюн  Надежду подает!   Душу, сбитую утратами да тратами,  Душу, стертую перекатами,-  Если до крови лоскут истончал,-  Залатаю золотыми я заплатами -  Чтобы чаще Господь замечал!/ 6 августа 2010 ',\n",
              " 'https://text-you.ru//rus_text_pesni/25286-grigorijj-leps-moskovskaja-pesnja.html': 'Весна в Москву приходит незаметно/ 17 октября 2013 ',\n",
              " 'https://text-you.ru//rus_text_pesni/64878-grigorijj-leps-samyjj-luchshijj-den.html': 'Припев:\\r\\nСамый лучший день заходил вчера\\r\\nНочью ехать лень, пробыл до утра\\r\\nНо пришла пора и собрался в путь\\r\\n\"Ну и ладно, будь!\".\\r\\n\\r\\nТриста тысяч часов за спиною\\r\\nТриста тысяч планет надо мною\\r\\nНе устал ли Создатель их в небе кружить?\\r\\n\\r\\nКаждый раз просыпаясь с рассветом\\r\\nНеспроста вспоминаешь об этом:\\r\\n\"Очень здорово всё-таки жить!\".\\r\\n\\r\\nПроигрыш.\\r\\n\\r\\nПрипев:\\r\\nСамый лучший день заходил вчера\\r\\nНочью ехать лень, пробыл до утра\\r\\nНо пришла пора и собрался в путь\\r\\n\"Ну и ладно, будь!\".\\r\\n\\r\\nСамый лучший день заходил вчера\\r\\nНочью ехать лень, пробыл до утра\\r\\nНо пришла пора и собрался в путь\\r\\n\"Ну и ладно, будь!\".\\r\\n\\r\\nЧто-то главное вышло из моды\\r\\nА мы согласно законам природы\\r\\nВсё вгрызаемся в мир будто рыба-пила.\\r\\n\\r\\nОстаётся лишь тонкая нам нить\\r\\nКак по-русски уже не упомнить\\r\\nА по Английски стало быть: \"Love\".\\r\\n\\r\\nПроигрыш.\\r\\n\\r\\nПрипев:\\r\\nСамый лучший день заходил вчера\\r\\nНочью ехать лень, пробыл до утра\\r\\nНо пришла пора и собрался в путь\\r\\n\"Ну и ладно, будь!\".\\r\\n\\r\\nСамый лучший день заходил вчера\\r\\nНочью ехать лень, пробыл до утра\\r\\nНо пришла пора и собрался в путь\\r\\n\"Ну и ладно, будь!\".\\r\\n\\r\\nСоло.\\r\\n\\r\\nПрипев:\\r\\nСамый лучший день заходил вчера\\r\\nНочью ехать лень, пробыл до утра\\r\\nНо пришла пора и собрался в путь\\r\\n\"Ну и ладно, будь!\".\\r\\n\\r\\nСамый лучший день заходил вчера\\r\\nНочью ехать лень, пробыл до утра\\r\\nНо пришла пора и собрался в путь\\r\\n\"Ну и ладно, будь!\".\\r\\n\\r\\n\"Ну и ладно, будь!\"./ 5 июня 2020 ',\n",
              " 'https://text-you.ru//rus_text_pesni/4559-grigorijj-leps-vjuga.html': 'Где-то там/ 5 августа 2010 ',\n",
              " 'https://text-you.ru//rus_text_pesni/4562-grigorijj-leps-ukhodi-krasivo.html': 'Ты мне говоришь что совсем разбил я жизнь твою Всё этот так сложно, начинать снова, но я тебе подпою Как было трудно тебе, сколько лет нервы трепать мне Дам совет, лишь совет, в нём негатива поверь нет-нет.  Припев: Уходи красиво и живи счастливо У кого есть сила запретить тебе Если надоело, если надоело Уходи красиво, мой тебе совет.  Не такой? Иди! найди где такой! Всё-равно людей сменить легко но не изменить их  Так чего ты ждёшь? Ты ждёшь чтоб я изменился Прямо здесь чтобы я, чтобы я  вдруг стал прекрасным принцем.  Припев.   Но ты же ищешь виноватых А я пока что под рукой Но я же вижу что не я так Найдётся кто-нибудь другой.  Припев./ 5 августа 2010 ',\n",
              " 'https://text-you.ru//rus_text_pesni/46766-grigorijj-leps-odin-fig.html': 'Первый Куплет: Григорий Лепс Казалось мне, бежали улицы вдаль и уводили тебя за собой. Казалось мне, небо - холодная сталь, сверкала и вызывала на бой. Казалось мне, каждый хотел дать совет, но я просил не лезть их. На самом деле уходил я, а ты стояла на месте.  Припев: Время бить стёкла, время пить виски, Рука уже в небе и стакан близко. В глубине сердца затаился крик: \"Хоть плачь, хоть пой - один фиг!\"  Второй Куплет: Григорий Лепс Казалось мне, так просто взять и уйти, и не терять себя в этой дыре. Но касание твоих обманчивых рук - и понимаю, что снова в игре. Ты сказала мне: \"Если тянуть до конца, любые струны рвутся.\" На самом деле уходил я, чтобы не вернуться.  Припев: Время бить стёкла, время пить виски, Рука уже в небе и стакан близко. В глубине сердца затаился крик: \"Хоть плачь, хоть пой - один фиг!\"/ 16 ноября 2017 ',\n",
              " 'https://text-you.ru//rus_text_pesni/65636-grigorijj-leps-koni-priveredlivye.html': 'Первый Куплет: Григорий Лепс Вдоль обрыва, по-над пропастью, по самому по краю Я коней своих нагайкою стегаю, погоняю... Что-то воздуху мне мало - ветер пью, туман глотаю... Чую с гибельным восторгом: пропадаю, пропадаю!  Чуть помедленнее, кони, чуть помедленнее! Вы тугую не слушайте плеть! Но что-то кони мне попались привередливые - И дожить не успел, мне допеть не успеть.  Припев: Я коней напою, Я куплет допою - Хоть немного ещё постою На краю...  Второй Куплет: Григорий Лепс Сгину я - меня пушинкой ураган сметёт с ладони, И в санях меня галопом повлекут по снегу утром... Вы на шаг неторопливый перейдите, мои кони, Хоть немного, но продлите путь к последнему приюту!  Чуть помедленнее, кони, чуть помедленнее! Не указчики вам кнут и плеть! Но что-за кони мне попались привередливые - И дожить не успел, мне допеть не успеть.  Припев: Я коней напою, Я куплет допою - Хоть немного ещё постою На краю...  Третий Куплет: Григорий Лепс Мы успели: в гости к Богу не бывает опозданий. Так что ж там ангелы поют такими злыми голосами?! Или это колокольчик весь зашёлся от рыданий, Или я кричу коням, чтоб не несли так быстро сани?!  Чуть помедленнее, кони, чуть помедленнее! Умоляю вас вскачь не лететь! Но что-за кони мне попались привередливые... Коль дожить не успел, так хотя бы - допеть!  Припев: Я коней напою, Я куплет допою - Хоть мгновенье ещё постою На краю.../ 25 июля 2020 ',\n",
              " 'https://text-you.ru//rus_text_pesni/65634-grigorijj-leps-rajjskie-jabloki.html': 'Куплеты: Григорий Лепс Я когда-то умру - мы когда-то всегда умираем,- Как бы так угадать, чтоб не сам - чтобы в спину ножом: Убиенных щадят, отпевают и балуют раем,- Не скажу про живых, а покойников мы бережем.  В грязь ударю лицом, завалюсь покрасивее набок, И ударит душа на ворованных клячах в галоп. В дивных райских садах наберу бледно-розовых яблок. Жаль, сады сторожат и стреляют без промаха в лоб.  Прискакали - гляжу - пред очами не райское что-то: Неродящий пустырь и сплошное ничто - беспредел. И среди ничего возвышались литые ворота, И огромный этап - тысяч пять - на коленях сидел.  Как ржанет коренной! Я смирил его ласковым словом, Да репьи из мочал еле выдрал и гриву заплел. Седовласый старик слишком долго возился с засовом - И кряхтел и ворчал, и не смог отворить - и ушел.  И измученный люд не издал ни единого стона, Лишь на корточки вдруг с онемевших колен пересел. Здесь малина, братва,- нас встречают малиновым звоном! Все вернулось на круг, и распятый над кругом висел.  Всем нам блага подай, да и много ли требовал я благ? Мне - чтоб были друзья, да жена - чтобы пала на гроб,- Ну а я уж для них наберу бледно-розовых яблок. Жаль, сады сторожат и стреляют без промаха в лоб.  Я узнал старика по слезам на щеках его дряблых: Это Петр Святой - он апостол, а я - остолоп. Вот и кущи-сады, в коих прорва мороженных яблок. Но сады сторожат - и убит я без промаха в лоб.  И погнал я коней прочь от мест этих гнилых и зяблых,- Кони просят овсу, но и я закусил удила. Вдоль обрыва с кнутом по-над пропастью пазуху яблок Для тебя привезу: ты меня и из рая ждала!/ 25 июля 2020 ',\n",
              " 'https://text-you.ru//rus_text_pesni/65632-grigorijj-leps-dom-khrustalnyjj.html': 'Первый Куплет: Григорий Лепс Если я богат, как царь морской, Крикни только мне: \"Лови блесну!\"- Мир подводный и надводный свой, Не задумываясь, выплесну!  Припев: Дом хрустальный на горе для нее. Сам, как пес бы, так и рос в цепи. Родники мои серебрянные, Золотые мои россыпи! Родники мои серебрянные, Золотые мои россыпи!  Проигрыш.  Второй Куплет: Григорий Лепс Если беден я, как пес, один, И в дому моем шаром кати - Ведь поможешь ты мне, Господи! Не позволишь жизнь скомкати...  Припев: Дом хрустальный на горе для нее. Сам, как пес бы, так и рос в цепи. Родники мои серебрянные, Золотые мои россыпи! Родники мои серебрянные, Золотые мои россыпи!  Проигрыш.  Третий Куплет: Григорий Лепс Не сравнил бы я любую с тобой, Хоть казни меня, расстреливай. Посмотри, как я любуюсь тобой,- Как Мадонной Рафаэлевой!  Припев: Дом хрустальный на горе для нее. Сам, как пес бы, так и рос в цепи. Родники мои серебрянные, Золотые мои россыпи! Родники мои серебрянные, Золотые мои россыпи! Россыпи!/ 25 июля 2020 ',\n",
              " 'https://text-you.ru//rus_text_pesni/46827-grigorijj-leps-vremja.html': 'Первый Куплет: Григорий Лепс Ты думала ничего не случится Бери река, душа — птица. Что заблудившись в поисках рая. Края где уже не летаю.  Ты думала ничего не случится Время летя, душа — птица. Но по законам людской природы, И у терпения есть горизонты. Хватит, кто заварил, тот платит.  Припев: Закрой двери, закрась окна. Там под сердцем душа мокнет. Там под небом белые полосы Ангелы делят.  Замри солнце, усни в прошлом. Любовь — жребий, кто кем брошен. Да, ты можешь остановить часы, Но не остановишь время. Но не остановишь время.  Второй Куплет: Григорий Лепс Ты думала ничего не проверить, И постоянно меняла берег, Но оставалось пустынно небо. Пока доверие было слепо  Ты выбирала другую свободу, Но она падала камнем в воду. Пока на дно опускались чувства, Река свое изменяла русло. Хватит, кто заварил, тот платит.  Припев: Закрой двери, закрась окна. Там под сердцем душа мокнет. Там под небом белые полосы Ангелы делят.  Замри солнце, усни в прошлом. Любовь — жребий, кто кем брошен. Да, ты можешь остановить часы, Но не остановишь время. Но не остановишь время.  Хватит, кто заварил, тот платит. Закрой двери, закрась окна. Там под сердцем душа мокнет. Там под небом белые полосы Ангелы делят.  Замри солнце, усни в прошлом. Любовь — жребий, кто кем брошен. Да, ты можешь остановить часы, Но не остановишь время. Но не остановишь время./ 18 ноября 2017 ',\n",
              " 'https://text-you.ru//rus_text_pesni/4561-grigorijj-leps-parus.html': 'А у дельфина взрезано брюхо винтом. Выстрела в спину не ожидает никто. На батарее нету снарядов уже. Надо быстрее на вираже.  Парус! Порвали парус! Каюсь, каюсь, каюсь...  Даже в дозоре можешь не встретить врага. Это не горе, если болит нога. Петли дверные многим скрипят, многим поют: - Кто вы такие? Вас здесь не ждут!  Но парус! Порвали парус! Каюсь, каюсь, каюсь...  Многие лета - тем, кто поет во сне. Все части света могут лежать на дне, Все континенты могут гореть в огне, Только все это не по мне.  Но парус! Порвали парус! Каюсь, каюсь, каюсь.../ 5 августа 2010 ',\n",
              " 'https://text-you.ru//rus_text_pesni/46768-grigorijj-leps-razbitaja-ljubov.html': 'Припев: Знай, время не остановить, В прошлое не возвратиться, Мне уже довольно, но Стучит в окно Черно-белая печаль И в небо улетает птицей, Как последнее прощай.  Куплет: Григорий Лепс Разбитая любовь, тонкие нити, Мы хотели вновь соединить их, Тяжело дышать, но уже не больно, Все, моя душа парализована. Разбитая любовь, белые пятна, Разбитая любовь, а может, обратно, Тяжело дышать, но уже не больно, Все, моя душа парализована.  Припев: Знай, ничего не изменить, Ни к чему искать причины, Мне уже довольно фраз. Как в первый раз, Нам уже не полюбить, Наши души излечимы, Но запомним, как сейчас.  Переход: Разбитая любовь, тонкие нити, Мы хотели вновь соединить их, Тяжело дышать, но уже не больно, Все, моя душа парализована. Разбитая любовь, белые пятна, Разбитая любовь, а может, обратно, Тяжело дышать, но уже не больно, Все, моя душа парализована.  Парализована! (Х6)  Разбитая любовь, тонкие нити, Мы хотели вновь соединить их, Тяжело дышать, но уже не больно, Все, моя душа парализована. Разбитая любовь, белые пятна, Разбитая любовь, а может, обратно, Тяжело дышать, но уже не больно, Все, моя душа парализована.  Разбитая любовь… Парализована! (Х4)  Разбитая любовь, белые пятна, Разбитая любовь, а может, обратно, Тяжело дышать, но уже не больно, Все, моя душа парализована.  Знай…/ 16 ноября 2017 ',\n",
              " 'https://text-you.ru//rus_text_pesni/4564-grigorijj-leps-krysa-revnost.html': 'Чем меньше знаешь, лучше спишь -  Теперь я на себе проверил.  Кто это выдумал, конечно,  Был мудрый черт,  Он знал потери.  Куда луна с небес ушла?  Ушла сиять в чужой постели.  И крови требует душа,  А разум возразить не смеет.  И эта боль дает мне власть,  И я парю на черных крыльях,  Как будто сердце из стекла  Дракона кровью вдруг налилось.  Я так хочу спасти тебя,  Но защищаю неумело.  В мозгу пульсируют слова:  Как ты могла?  Как ты посмела??   Поселилась и пригрелась  В моем сердце крыса-ревность.  Гложет сердце крыса-ревность.  Я могу убить ее,  Но вместе с ней убью и сердце я.   Запущен дом, в пыли мозги.  Я, как лимон на рыбу, выжат.  Я пью водяру от тоски,  И наяву чертей я вижу.  Себе не в силах отказать  В слюнявой, слабенькой надежде,  Что ты придешь в мою кровать  Так нежно, нежно -  Все, как прежде.  И эта боль дает мне власть,  Рука сильна и поступь смела,  Но сердце не дает понять:  \"Как ты могла? Как ты посмела?\".  Не может все, как прежде, быть -  Измена: нет живучей слова.  Не сможем мы ее забыть.  И все по кругу:  Снова, снова, снова.   Поселилась и пригрелась  В моем сердце крыса-ревность.  Гложет сердце крыса-ревность.  Я могу убить ее,  Но вместе с ней убью и сердце я./ 6 августа 2010 ',\n",
              " 'https://text-you.ru//rus_text_pesni/4555-grigorijj-leps-ne-zhdi-menja-i-slava.html': 'Душа и мысль - единый вздох Не жди меня, нет больше слов Не будет больше снов  Простужен день, он льёт дожди И в каждой капле меня не жди Холодно и безразлично так Нас осень обняла  Серыми буднями - не разбудить огня Не заставить сердце биться чаще, если нет Если нет причин для счастья мне Не хочется смотреть, как мы с тобой Убиваем свою любовь  Закрыть глаза и сделать шаг Покажется, что жизнь - пустяк Пусть в парке листья жгут А мы сожжём мосты  Серыми буднями - не разбудить огня Не заставить сердце биться чаще, если нет Если нет причин для счастья мне Не хочется смотреть, как мы с тобой Убиваем свою любовь  Серыми буднями - не разбудить огня Не заставить сердце биться чаще, счастья нет  Простужен день, он льёт дожди И в каждой капле, меня не жди Холодно и безразлично так Нас осень обняла/ 5 августа 2010 ',\n",
              " 'https://text-you.ru//rus_text_pesni/4569-grigorijj-leps-rjumka-vodki-na-stole.html': 'Ночь по улицам пошла звездной поступью цариц.  Слов и чисел простота у небесного моста.  Раскидала перья птиц.  Не забудутся никем праздник губ, обиды глаз.  Забери меня в свой плен.  Эту линию колен целовать последний раз.   Припев:  Только рюмка водки на столе, ветер плачет за окном.  Тихо болью отзываются во мне этой молодой луны крики.   Не легко тебя отдать парусам ветров и птиц.  Может, даже, не понять, может, даже, не узнать  среди тысяч женских лиц.  Пусть глаза мои молчат. Молча смотрят на луну.  Если кто поймает взгляд, поторопится назад, сам не знаю почему.   Припев:  Только рюмка водки на столе, ветер плачет за окном.  Тихо болью отзываются во мне этой молодой луны крики.   Припев:  Только рюмка водки на столе, ветер плачет за окном.  Тихо болью отзываются во мне этой молодой луны крики./ 6 августа 2010 ',\n",
              " 'https://text-you.ru//rus_text_pesni/4570-grigorijj-leps-izmeny-i-viktorija-ilinskaja.html': 'Тихо капает вода, я боюсь услышать \"да\", Ты уходишь и уходишь навсегда. Трудно говорить, и что-то объяснить Может быть я научусь по-новой жить. Шаг за дверь сейчас, сердца стон, Всё-равно я только с тобой!  Припев: Не прощали мы друг другу наших измен, И не знали что отдать друг-другу взамен. Но любовь из раны просочится, Крыльями о стёкла буду биться к тебе. Но любовь из раны просочится, Крыльями о стёкла буду биться к тебе.  Белый дым от сигарет и глаза меняют цвет, Времени в разбитой чашке больше нет. Позже всё пройдёт, любовь моя плывёт, Где-то в небе, кто поймать её рискнёт. Правда в тишине, сердца стон, Я останусь, но я с тобой.  Припев: Не прощали мы друг другу наших измен, И не знали что отдать друг-другу взамен. Но любовь из раны просочится, Крыльями о стёкла буду биться к тебе. Но любовь из раны просочится, Крыльями о стёкла буду биться к тебе./ 6 августа 2010 ',\n",
              " 'https://text-you.ru//rus_text_pesni/21665-grigorijj-leps-ja-schastlivyjj.html': 'Кто поверит, я и сам не верю - Толь на счастье, то ли на беду, У меня семь пятниц на неделе  И тринадцать месяцев в году.   Моё небо - синее, в алмазах. Что-то мне по-жизни принесет. Я крещен, а может быт помазан, В общем, я - счастливый, вот и все!   Припев:  Я - счастливый, как никто! Я счастливый лет уж 100. Я - счастливый! Я - не вру! Так счастливым и уйду! Я - счастливый, как никто! Я счастливый лет на 100. Я - счастливый! Я - не лгу! Так счастливым и уйду!   Кто-то знает, я и сам не знаю, Где финал тот, где та полоса. За которой лишь ворота Рая, А за ними просто Небеса.   А пока все небо только в звездах. Не во сне причем, а на яву. Что скажу за жизнь свою я просто - Я счастливый тем, что я живу.   Припев:  Я - счастливый, как никто! Я счастливый лет уж 100. Я - счастливый! Я - не вру! Так счастливым и уйду! Я - счастливый, как никто! Я счастливый лет на 100. Я - счастливый! Я - не лгу! Так счастливым и уйду!   [Solo]   Я - счастливый, как никто! Я счастливый лет уж 100. Я - счастливый! Я - не вру! Так счастливым и уйду! Я - счастливый, как никто! Я счастливый лет на 100. Я - счастливый! Я - не лгу! Так счастливым и уйду!   Cчастливый, как никто! Cчастливым и уйду! Cчастливый, как никто! Cчастливым и уйду!/ 7 декабря 2012 '}"
            ]
          },
          "metadata": {},
          "execution_count": 27
        }
      ],
      "source": [
        "parsed_songs"
      ]
    },
    {
      "cell_type": "markdown",
      "id": "f2b37bad",
      "metadata": {
        "id": "f2b37bad"
      },
      "source": [
        "# Работа с БД"
      ]
    },
    {
      "cell_type": "code",
      "source": [],
      "metadata": {
        "id": "EkXIUeij0b3q"
      },
      "id": "EkXIUeij0b3q",
      "execution_count": null,
      "outputs": []
    },
    {
      "cell_type": "code",
      "source": [
        "# !pip install sqlite3\n",
        "# def replace_all(text, to_replace):\n",
        "#     for i in to_replace:\n",
        "#         text = text.replace(i, ' ')\n",
        "#     return text\n",
        "\n",
        "!pip install pysqlite3 #установка"
      ],
      "metadata": {
        "colab": {
          "base_uri": "https://localhost:8080/"
        },
        "id": "rIyZ05EUtEx7",
        "outputId": "c64fc2f0-2e9f-4889-bf66-f3ab089a86bf"
      },
      "execution_count": null,
      "outputs": [
        {
          "output_type": "stream",
          "name": "stdout",
          "text": [
            "Looking in indexes: https://pypi.org/simple, https://us-python.pkg.dev/colab-wheels/public/simple/\n",
            "Collecting pysqlite3\n",
            "  Downloading pysqlite3-0.4.8.tar.gz (40 kB)\n",
            "\u001b[K     |████████████████████████████████| 40 kB 3.9 MB/s \n",
            "\u001b[?25hBuilding wheels for collected packages: pysqlite3\n",
            "  Building wheel for pysqlite3 (setup.py) ... \u001b[?25l\u001b[?25hdone\n",
            "  Created wheel for pysqlite3: filename=pysqlite3-0.4.8-cp38-cp38-linux_x86_64.whl size=142687 sha256=bf050181ec1f5986a9f48a314a9af1ba8218db7bedab874bdcc8d903866e24a1\n",
            "  Stored in directory: /root/.cache/pip/wheels/46/34/84/48492fd75c6318eb31b74da3134b6718a1ba0c2b6209f5e10b\n",
            "Successfully built pysqlite3\n",
            "Installing collected packages: pysqlite3\n",
            "Successfully installed pysqlite3-0.4.8\n"
          ]
        }
      ],
      "id": "rIyZ05EUtEx7"
    },
    {
      "cell_type": "code",
      "execution_count": 28,
      "id": "7aec01ac",
      "metadata": {
        "id": "7aec01ac"
      },
      "outputs": [],
      "source": [
        "import sqlite3"
      ]
    },
    {
      "cell_type": "code",
      "execution_count": 29,
      "id": "925d2e12",
      "metadata": {
        "colab": {
          "base_uri": "https://localhost:8080/"
        },
        "id": "925d2e12",
        "outputId": "5c272b92-1310-4c39-fc35-c8ad9532bbf2"
      },
      "outputs": [
        {
          "output_type": "stream",
          "name": "stdout",
          "text": [
            "\n",
            "    INSERT INTO text_songs (author, text, url)\n",
            "    VALUES ('Григорий Лепс', 'В старом парке пахнет хвойной тишиной,  И качаются на ветках облака.  Сколько времени не виделись с тобой,  Может год, а может целые века?   Ни за что теперь не отыскать следов  В дальний край, где мы друг друга не нашли.  Я пришёл к тебе из позабытых снов,  Как приходят в свою гавань корабли   Натали утоли мои печали, Натали!  Натали я прошёл пустынью грусти пол-земли!  Натали я вернулся, чтоб сказать тебе прости  Натали от судьбы и от тебя мне не уйти!  Утоли мои печали, Натали!  Натали! Натали!   Потерял я где-то в бездорожье лет  Безоглядную влюблённость и покой.  Брал от женщин всё, что мог, и не секрет,  Я не свят, я виноват перед тобой!  Целовал я струи многих родников  И томился одиночеством вдали.  Мои волосы от зноя и ветров  Побелели, как степные ковыли.   Натали утоли мои печали, Натали!  Натали я прошёл пустынью грусти пол-земли!  Натали я вернулся, чтоб сказать тебе прости  Натали от судьбы и от тебя мне не уйти!  Утоли мои печали, Натали!  Натали! Натали!   Я проделал долгий путь,  Только время обмануть невозможно Натали и и  И хоть я другим не стал,  Но с дороги я устал и душа моя в пыли.   Натали утоли мои печали, Натали!  Натали я прошёл пустынью грусти пол-земли!  Натали я вернулся, чтоб сказать тебе прости  Натали от судьбы и от тебя мне не уйти!  Утоли мои печали, Натали!  Натали! Натали! Натали!  Натали  я вернулся, чтоб сказать тебе прости  Натали от судьбы и от тебя мне не уйти!  Утоли мои печали, Натали!  Натали! Натали!/ 5 августа 2010 ', 'https://text-you.ru//rus_text_pesni/4557-grigorijj-leps-natali.html');\n",
            "    \n",
            "\n",
            "    INSERT INTO text_songs (author, text, url)\n",
            "    VALUES ('Григорий Лепс', 'Я давно уже читаю по слогам./ 30 октября 2015 ', 'https://text-you.ru//rus_text_pesni/38642-grigorijj-leps-ja-podnimaju-ruki.html');\n",
            "    \n",
            "\n",
            "    INSERT INTO text_songs (author, text, url)\n",
            "    VALUES ('Григорий Лепс', 'Сталь ярким крылом рвёт облака пополам Ты где-то внизу и светит звезда не нам А нам нужно успеть что-то сказать, знать бы что Но мой горизонт сольётся с твоим и ты узнаешь.  Припев: Согревая наши души, выкупая наши клятвы Жизнь входит в берега Незаметно и неслышно после бури как в затишье Жизнь входит в берега.  Разрывая наши цепи, наполняя наши мели Жизнь входит в берега Заставляя думать прежде, чем оставить все надежды Жизнь входит в берега.  Тень выльет в окно счастье двоих, тайну их Спрячь шторами звук, желание рук о них Но ждать чувствуя свет чьих-то побед и наград Тень - это пятно, это рассвет но бьётся в капле.  Припев./ 6 августа 2010 ', 'https://text-you.ru//rus_text_pesni/4563-grigorijj-leps-berega.html');\n",
            "    \n",
            "\n",
            "    INSERT INTO text_songs (author, text, url)\n",
            "    VALUES ('Григорий Лепс', 'Первый Куплет: Григорий Лепс Лучше никогда не думать о плохом - это всё пройдёт. Но в твоей душе звучит так глубоко радостная музыка. И пока живёшь ты, слушая её - музыка не врёт. Как бы что-то не пугало, всё равно двигайся вперёд!  Переход: Музыка в тебе сама меняет мир, она не подведёт - Только ни на миг не предавай музыку в тебе.  Припев: Ты просто жжёшь, как волшебник из сказки - В мире твоём просыпается красота. Ты создаёшь этой музыки краски - Чтобы люди могли и любить, и мечтать!  Второй Куплет: Григорий Лепс В мире никогда нам не было легко - это грустный факт. Но его спасала горстка чудаков и радостная музыка. Люди понимали, слушая её - страшное пройдёт. Музыка им помогала дальше жить и двигаться вперёд.  Переход: Музыка в тебе сама меняет мир, она не подведёт - Только ни на миг не предавай музыку в тебе.  Припев: Ты просто жжёшь, как волшебник из сказки - В мире твоём просыпается красота. Ты создаёшь этой музыки краски - Чтобы люди могли и любить, и мечтать!  Ты просто жжёшь, разве это возможно? В сердце огонь - ты вокруг освещаешь всё! Жаль только, что в нашем мире всё сложно - Просто гори, пока в сердце огонь!/ 16 ноября 2017 ', 'https://text-you.ru//rus_text_pesni/46779-grigorijj-leps-ty-prosto-zhzhjosh-posvjashhenie.html');\n",
            "    \n",
            "\n",
            "    INSERT INTO text_songs (author, text, url)\n",
            "    VALUES ('Григорий Лепс', 'Куплет 1:/ 7 сентября 2016 ', 'https://text-you.ru//rus_text_pesni/40960-grigorijj-leps-kriminal.html');\n",
            "    \n",
            "\n",
            "    INSERT INTO text_songs (author, text, url)\n",
            "    VALUES ('Григорий Лепс', 'Смотри, что в моём сердце: Меняем местами чувства, лечим раны. Ещё немного в гору, и будет легче Бежать от веры и от правды. Смотри, что будет после...  Ещё немного дальше, и будет поздно. А так хотелось любви и ласки.  Улицы города словно артерии, Чаще дыхание, выше давление. Лечу в самое сердце, Где ночи ярче, чем дни, Где диджей крутит винил, Где не остаться в тени, И где нам было хорошо, Где небо падает вниз, Где не подарок, а приз, Где ошибусь этажом, И будет, и будет хорошо Без тебя!  Смотри, что в твоём сердце: Лужи превратились в океаны. Ещё немного позже мне будет легче, Я утоплю наши идеалы. Помнишь, как было раньше: Над головою звезды, внутри торнадо. Коварно и так просто, без злат и фальши, Золото – координата страха./ 16 ноября 2017 ', 'https://text-you.ru//rus_text_pesni/46765-grigorijj-leps-bez-tebja.html');\n",
            "    \n",
            "\n",
            "    INSERT INTO text_songs (author, text, url)\n",
            "    VALUES ('Григорий Лепс', 'Кажется мне, что мы с тобою одно./ 4 января 2017 ', 'https://text-you.ru//rus_text_pesni/44645-grigorijj-leps-snega.html');\n",
            "    \n",
            "\n",
            "    INSERT INTO text_songs (author, text, url)\n",
            "    VALUES ('Григорий Лепс', 'Господи, дай мне сил -/ 16 февраля 2014 ', 'https://text-you.ru//rus_text_pesni/27924-grigorijj-leps-gospodi-dajj-mne-sil.html');\n",
            "    \n",
            "\n",
            "    INSERT INTO text_songs (author, text, url)\n",
            "    VALUES ('Григорий Лепс', 'Нет проигранных битв, нет нарушенных клятв Он уверенно мчит за собою свой верный отряд Пусть теряется след где-то ниже ноля Бренны все острова к юго-западу от корабля.  С ним так много надежд среди прочих вершин Он надежен как холод как пламя он не сокрушим Он идет напрямик воем сумрачным льдов Из обветренной памятью вечно седых городов.  Припев: Если б можно бы взять повернуть время вспять Вот это романтика, чудеса навигации Но маяк не горит, тишина говорит Капитан Арктика, капитан Арктика.  Да, все мысли полны кровоточащих ран Каждый сам как умеет проходит свой меридиан О, так сладко мечтать о других полюсах Ослепленная светом я гасну в его парусах.  И послушен штурвал и не дрогнет рука Сто ветров завернуть в драгоценные эти шелка Так высок горизонт меж плакучих орбит Там, где новых паломников ждет семисолнечный скит.  Припев./ 18 ноября 2012 ', 'https://text-you.ru//rus_text_pesni/21319-grigorijj-leps-kapitan-arktika.html');\n",
            "    \n",
            "\n",
            "    INSERT INTO text_songs (author, text, url)\n",
            "    VALUES ('Григорий Лепс', 'Вспоминая тихо о былом, сидя у могилы, Говорят мужчины...их морщины, Помнят поминутно всё о том, Как в одно мгновенье, без предупреждения, утром грянул гром...  И вспорхнули птицы к огненной границе, думая что сон... Но безумный гром в черной колеснице, Он им будет сниться...всю их жизнь потом... ..вся их жизнь о том...  Припев: Спасибо, ребята! За то, что вы с отчизной были рядом... Спасибо, герои! За то, что, заслонив собой, стояли крепкою стеной!..  Спасибо, ребята! Всем тем, кто был России старшим братом... За то, что не могло бы быть без вас, Но вы сумели победить... завещав нам жить, завещав нам жить...  В теплом свете вечного огня, Страшные мгновенья неповиновения, Поколения... Мы должны их помнить имена  Чтоб однажды утром, если будет нужно, Мы могли б всегда полететь, как птицы, В дальние станицы или города...  Видела звезда, как отцы и деды делали победы, Мы запомним это, это навсегда.. С нами навсегда!..  Припев./ 8 августа 2011 ', 'https://text-you.ru//rus_text_pesni/14487-grigorijj-leps-spasibo-rebjata.html');\n",
            "    \n",
            "\n",
            "    INSERT INTO text_songs (author, text, url)\n",
            "    VALUES ('Григорий Лепс', 'Я интересуюсь тобой, но не глубоко Иногда проводим вдвоём с тобой денёк-другой А потом ты пропадаешь, только донесёт молва Что встречали тебя в Париже, на Гоа.  Сто забот ты приводишь за собой Постоянно думая что С тобой я б уже с ума сошёл Но мне всё-равно.  Припев: Я тебя не люблю, это главный мой плюс Я на это кино не куплюсь Даже лучше, что я тебя не люблю.  Мне не надо звонить и не надо лгать Но когда весь мир надоест, то есть куда бежать То на парочку дней, а то - на полчаса А кто я в жизни твоей, зачем мне это знать.  Сто забот ты приводишь за собой Постоянно думая что С тобой я б уже с ума сошёл Но мне всё-равно.  Припев: Я тебя не люблю, это главный мой плюс Я на это кино не куплюсь Переделать тебя я не стремлюсь. Я тебя не люблю, это я так решил А не то бы никто не жил Даже лучше, что я тебя не люблю./ 5 августа 2010 ', 'https://text-you.ru//rus_text_pesni/4558-grigorijj-leps-ja-tebja-ne-ljublju.html');\n",
            "    \n",
            "\n",
            "    INSERT INTO text_songs (author, text, url)\n",
            "    VALUES ('Григорий Лепс', 'Золотится в бокале вино  В сигаретном дыму ностальгии.  Мы с тобою, мой друг, так давно  Не бывали в далекой России.  Где-то там, за этапами дней  Наша юность с тобой отсмеялась.  В бесприютном раю лагерей,  Как заложница, память осталась.   Сколько дней и воды утекло,  И дождями мечты отшумели.  Но живем, несмотря ни на что,  Только волосы вот побелели.  За туманами дальних морей,  Где и люди, и песни другие,  Бросив якорь, мы пьем за друзей  В сигаретном дыму ностальгии.   Не забыть Богом проклятых мест,  Без веселого солнца и лета,  Где несли мы нелегкий свой крест  За чертой тишины и рассвета.  Боль под сердцем сжималась в кулак  От прикладов, побоев и мата.  Снится нам вой конвойных собак  И свинцовая трель автомата.   Сколько дней и воды утекло,  И дождями мечты отшумели.  Но живем, несмотря ни на что,  Только волосы вот побелели.  За туманами дальних морей,  Где и люди, и песни другие,  Бросив якорь, мы пьем за друзей  В сигаретном дыму ностальгии.   Но однажды билеты возьмем  И вернемся в далекие годы,  Где простуженный гул поездов  Замерзает на рельсах свободы.  Там осталось немало друзей,  С кем мы горечь и радость делили.  И где-то там, за этапами дней  Мы такими счастливыми были.   Сколько дней и воды утекло,  И дождями мечты отшумели.  Но живем, несмотря ни на что,  Только волосы вот побелели.  За туманами дальних морей,  Где и люди, и песни другие,  Бросив якорь, мы пьем за друзей  В сигаретном дыму ностальгии./ 6 августа 2010 ', 'https://text-you.ru//rus_text_pesni/4567-grigorijj-leps-nostalgija.html');\n",
            "    \n",
            "\n",
            "    INSERT INTO text_songs (author, text, url)\n",
            "    VALUES ('Григорий Лепс', 'Стою я на перроне, фонарик как лампада  Февральский ветер ловит твой взгляд за снегопадом  Иду к тебе навстречу, а вдруг ещё не поздно,  А вдруг ещё не вечер, ты мне нужна как воздух   До станции «Зима» пешком почти полгода  До станции «Зима» другой дороги нет  На станции «Зима» до пояса сугробы  До станции «Зима» в один конец билет  До станции «Зима» в один конец билет   Оставлю ссоры в прошлом, кому нужны потери!?  Ты думаешь, что плачу (мне жгут глаза метели)  Сжимается подковой моя душа на стуже  Скажи всего два слова и я пойму, что нужен   До станции «Зима» пешком почти полгода  До станции «Зима» другой дороги нет  На станции «Зима» до пояса сугробы  До станции «Зима» в один конец билет  До станции «Зима» в один конец билет   Проигрыш ….(модуляция)   До станции «Зима» пешком почти полгода  До станции «Зима» другой дороги нет  На станции «Зима» до пояса сугробы  До станции «Зима» в один конец билет  До станции «Зима» в один конец билет/ 9 марта 2011 ', 'https://text-you.ru//rus_text_pesni/11733-grigorijj-leps-zima.html');\n",
            "    \n",
            "\n",
            "    INSERT INTO text_songs (author, text, url)\n",
            "    VALUES ('Григорий Лепс', 'Она была чиста как снег зимой.  В грязь - соболя,- иди по ним - по праву...  Но вот мне руки жжет ея письмо -  Я узнаю мучительную правду...   Не ведал я: страданье - только маска,  И маскарад закончится сейчас,-  Да, в этот раз я потерпел фиаско -  Надеюсь, это был последний раз.   Подумал я: дни сочтены мои,  Дурная кровь в мои проникла вены,-  Я сжал письмо как голову змеи -  Сквозь пальцы просочился яд измены.   Не ведать мне страданий и агоний,  Мне встречный ветер слезы оботрет,  Моих коней обида не нагонит,  Моих следов метель не заметет.   Итак, я оставляю позади,  Под этим серым неприглядным небом,  Дурман фиалок, наготу гвоздик  И слезы вперемешку с талым снегом.   Москва слезам не верит и слезинкам -  И взять мне нечего, но нечего и дать,-  Спешу навстречу новым поединкам -  И, как всегда, намерен побеждать!/ 6 августа 2010 ', 'https://text-you.ru//rus_text_pesni/4568-grigorijj-leps-ona-byla-chista-kak-sneg-zimojj.html');\n",
            "    \n",
            "\n",
            "    INSERT INTO text_songs (author, text, url)\n",
            "    VALUES ('Григорий Лепс', 'Куплет 1:/ 23 ноября 2016 ', 'https://text-you.ru//rus_text_pesni/44133-grigorijj-leps-ja-tebe-verju-ost-sofija.html');\n",
            "    \n",
            "\n",
            "    INSERT INTO text_songs (author, text, url)\n",
            "    VALUES ('Григорий Лепс', 'Ох, не спится мне, не спится.  У тебя снег на ресницах,  Глаз озера голубые.  У меня виски седые.   Ночи напролет не сплю я.  Девочку мою такую  Встретил - вот Амур-кудесник! -  Младший сын мой ей ровесник.   Ты, наверное, от скуки  Гладишь старческие руки,  А при встрече у аллеи  Поправляешь шарф на шее.   Ты не плачь, когда ревную:  Поругаю - поцелую.  Хорошо, что ты такая  Ласковая и родная.   Мне теперь совсем не страшно  Встретить смерть свою однажды.  А она уже заочно  Помахала мне платочком.   Ой, не спится мне, не спится, не спится.  Глаз озера голубые.  У меня виски седые.  Ох, не спится мне, не спится, не спится./ 6 августа 2010 ', 'https://text-you.ru//rus_text_pesni/4566-grigorijj-leps-ne-spitsja.html');\n",
            "    \n",
            "\n",
            "    INSERT INTO text_songs (author, text, url)\n",
            "    VALUES ('Григорий Лепс', 'Я так устал бродить Среди высоких стен, Где каждый шаг к тебе подобен пытке.... Я так хотел тебя Навеки взять в свой плен, Но сам пленён огнём твоей улыбки.... Огнём твоей улыбки.....  В глухую полночь Манит этот свет Кто был со мною, Все меня покиньте..... Я заблудился,выхода мне нет... В тебе брожу я словно в лабиринте Я заблудился,выхода мне нет.... В тебе брожу я словно в лабиринте...  Куда ведёт меня Очередной зигзаг твоей души, Неведомо мне ныне.... На полпути к тебе, Умолк последний шаг... И я один,я в каменной пустыне... Я в каменной пустыне.../ 5 августа 2010 ', 'https://text-you.ru//rus_text_pesni/4560-grigorijj-leps-labirint.html');\n",
            "    \n",
            "\n",
            "    INSERT INTO text_songs (author, text, url)\n",
            "    VALUES ('Григорий Лепс', 'Первый срок, нечаянная ходка, пацана ментовка замела! Забывай-бывай меня, молодка, и живи, как раньше ты жила. Первый срок, он шел за мной по следу, мы же знали это все с тобой! Я еще прие-прие-приеду и еще почти что молодой.  Припев: А воровской припев такой - семь лет - не вышка! Не суетись, когда на кичу заметут! Не верь, не бойся, не проси - такая фишка, не верь, не бойся, не проси - такая фишка, иначе схавают и рта не оботрут!  Первый срок и я приду не скоро, у тебя появятся друзья! Все ж таки семе-семе-семера - столько лет без шалости нельзя. Первый срок, нечаянная ходка, пацана ментовка замела! Забывай-бывай меня, молодка, и живи, как раньше ты жила.  Припев: А воровской припев такой - семь лет - не вышка! Не суетись, когда на кичу заметут! Не верь, не бойся, не проси - такая фишка, не верь, не бойся, не проси - такая фишка, иначе схавают и рта не оботрут! А воровской припев такой - семь лет - не вышка! Не суетись, когда на кичу заметут! Не верь, не бойся, не проси - такая фишка, не верь, не бойся, не проси - такая фишка, иначе схавают и рта не оботрут! Иначе схавают и рта не оботрут/ 4 апреля 2020 ', 'https://text-you.ru//rus_text_pesni/63822-grigorijj-leps-mojj-pervyjj-srok.html');\n",
            "    \n",
            "\n",
            "    INSERT INTO text_songs (author, text, url)\n",
            "    VALUES ('Григорий Лепс', 'То хочу, то не хочу Кажется, что это игрой Ты преднамеренно сводишь с ума Но в тебе паника чувств Тянут на грех, минус и плюс Не понимая, что хочешь сама  Ты настоящая женщина Больше добавить мне нечего Нежная, глупая, грешная И с ангельским лицом  Ты настоящая женщина И от судьбы обеспеченной Рвёшься и рвёшься доверчиво В сказку с плохим концом  Что в тебе дразнит меня То, что в любви, как и в войне Ты отдаёшься до самого дна Но тебя надо бы знать Ты разобьёшь много сердец И вот тогда наступает конец  Ты настоящая женщина Больше добавить мне нечего Нежная, глупая, грешная И с ангельским лицом  Ты настоящая женщина И от судьбы обеспеченной Рвёшься и рвёшься доверчиво В сказку с плохим концом  Ты настоящая женщина Больше добавить мне нечего Нежная, глупая, грешная И с ангельским лицом  Ты настоящая женщина И от судьбы обеспеченной Рвёшься и рвёшься доверчиво В сказку с плохим концом  В сказку с плохим концом В сказку с плохим концом/ 20 февраля 2011 ', 'https://text-you.ru//rus_text_pesni/11557-grigorijj-leps-nastojashhaja-zhenshhina.html');\n",
            "    \n",
            "\n",
            "    INSERT INTO text_songs (author, text, url)\n",
            "    VALUES ('Григорий Лепс', '[Куплет 1, Григорий Лепс]: Как-будто сразу после боя, как раскалившись до красна Остались нам вдвоём с тобою любви просроченой слова. Потом банально хлопнув дверью, не оглянувшись,  Ты пошла ходить другою параллелью одна!  Припев: Что ж ты натворила! Ну как же ты могла? Закончилась весна и всё запорошило. Что ж ты натворила! Решай теперь сама, Как все забыть слова; и всё, что с нами было Разрушила сама!  [Куплет 2, Григорий Лепс]: Навеет запах на постели, что где-то рядом бродишь ты. И без тебя осиротели мои наивные мечты. Сольются в месяцы недели; и если не вернешься ты, Пока не будем ставить точки над i.  Припев: Что ж ты натворила! Ну как же ты могла? Закончилась весна и всё запорошило. Что ж ты натворила! Решай теперь сама, Как все забыть слова; и всё, что с нами было Разрушила!  Припев: Что ж ты натворила! Ну как же ты могла? Закончилась весна и всё запорошило. Что ж ты натворила! Решай теперь сама, Как все забыть слова; и всё, что с нами было!  Что ж ты натворила! Ну как же ты могла? Закончилась весна и всё запорошило. Что ж ты натворила! Решай теперь сама, Как все забыть слова; и всё, что с нами было Разрушила сама!/ 2 июня 2017 ', 'https://text-you.ru//rus_text_pesni/45757-grigorijj-leps-chto-zh-ty-natvorila.html');\n",
            "    \n",
            "\n",
            "    INSERT INTO text_songs (author, text, url)\n",
            "    VALUES ('Григорий Лепс', 'Снег под ногами, сделанный на заказ, Что будет с нами, узнаем через несколько фраз. Слова как иголки, предложения как ножи, Поцелуев осколки - прошлое не сложить. Мы теперь об этом знаем всё...  Я стану водопадом, падением с высоты. И все твои вина из винограда для меня уже слишком просты. В тебе больше нет хмеля, и крепость твоя не та. Нам оставалась всего неделя, и она уже прожита. Ла-ла -ла -ла....  Я мог бы остаться, и уже ни каких перемен, Я мог бы сдаваться, но что мы получили в замен. Холодные ночи, одинокие вечера, Давай все закончим, давай забывать номера. Мы теперь об этом знаем всё...  Я стану водопадом, падением с высоты. И все твои вина из винограда для меня уже слишком просты. В тебе больше нет хмеля, и крепость твоя не та. Нам оставалась всего неделя, и она уже прожита. Ла-ла -ла -ла....  Мы теперь об этом знаем всё... Я стану водопадом, падением с высоты. И все твои вина из винограда для меня уже слишком просты. В тебе больше нет хмеля, и крепость твоя не та. Нам оставалась всего неделя, и она... Ла-ла-ла-ла.. соло саксофон))  В тебе больше нет хмеля, и крепость твоя не та. Нам оставалась всего неделя, и она..уже прожита. Ла-ла-ла-ла.../ 21 февраля 2012 ', 'https://text-you.ru//rus_text_pesni/17682-grigorijj-leps-ja-stanu-vodopadom.html');\n",
            "    \n",
            "\n",
            "    INSERT INTO text_songs (author, text, url)\n",
            "    VALUES ('Григорий Лепс', 'Сколько лет и сколько дней,ты жил в мечте своей. Жил и вдруг почти что умер,да и по вине своей. Целый год тебя тащили,мы подняли всех. Чтобы ты остался с нами,не ушел на век. И теперь одна надежда,мир любя. Тридцать лет осталось где-то,делай вывод для себя. Бог и мать,работа,дети,дом,семья. Чтож,совсем не плохо,для тебя.   Расскажи мне,что ты знаешь. Расскажи,куда взлетаешь. Расскажи мне ,расскажи мне,не томи. С кем там виделся,о чем беседы шли.   Расскажи мне,что ты знаешь. Расскажи,куда взлетаешь. Расскажи,как жить то будешь. Как однажды умер,знаю не забудешь.   Расскажи мне,что ты знаешь. Расскажи,куда взлетаешь. Расскажи,как жить то будешь. Теперь... Теперь...   Расскажи мне,что ты знаешь. Расскажи,куда взлетаешь. Расскажи,как жить то будешь. Теперь.../ 5 августа 2010 ', 'https://text-you.ru//rus_text_pesni/4556-grigorijj-leps-rasskazhi.html');\n",
            "    \n",
            "\n",
            "    INSERT INTO text_songs (author, text, url)\n",
            "    VALUES ('Григорий Лепс', 'Нет числа, этим нелепым дням/ 16 марта 2013 ', 'https://text-you.ru//rus_text_pesni/22663-grigorijj-leps-ja-vernu-tebja.html');\n",
            "    \n",
            "\n",
            "    INSERT INTO text_songs (author, text, url)\n",
            "    VALUES ('Григорий Лепс', 'Первый Куплет: Григорий Лепс Я пройдусь по комнатам пустым, Здесь еще вчера была империя. Мир казался светлым и таким большим, А потом затмение, а теперь - измены дым.  Припев: Я объявлю войну своим мечтам, И память торопя, расставлю вещи в доме по местам, Как было до тебя.  Завтра я смогу опять дышать, и трогать неба синь. А ты - история, теперь ты лишь история. Ну все, Аминь!  Второй Куплет: Григорий Лепс Я не дам тебе бродить во снах, Чувства все остались за пределами. От любви до безразличия только шаг, И его мы сделали, и назад уже никак.  Припев: Я объявлю войну своим мечтам, И память торопя, расставлю вещи в доме по местам, Как было до тебя.  Завтра я смогу опять бежать, и трогать неба синь. А ты - история, теперь ты лишь история. Ну все, Аминь!/ 16 ноября 2017 ', 'https://text-you.ru//rus_text_pesni/46767-grigorijj-leps-amin.html');\n",
            "    \n",
            "\n",
            "    INSERT INTO text_songs (author, text, url)\n",
            "    VALUES ('Григорий Лепс', 'Первый Куплет: Григорий Лепс В сон мне - желтые огни, И хриплю во сне я: - Повремени, повремени,- Утро мудренее! Но и утром всё не так, Нет того веселья: Либо куришь да натощак, Или пьешь с похмелья.  Припев: Да эгэЭх раз! Да еще раз! Да еще много-много-много-много-много раз! Да что ты?! Да еще раз! Или пьешь с похмелья?  Второй Куплет: Григорий Лепс В кабаках - зеленый штоф, Белые салфетки. Рай для нищих и шутов, Мне ж - как птице в клетке! В церкви смрад и полумрак, Дьяки, дьяки курят ладан. Нет! И в церкви все не так, Все не так, все не так,как надо.  Припев: Да эгэЭх раз! Да еще раз! Да еще много-много-много-много-много раз! Да что ты?! Да еще раз! Или пьешь с похмелья?  Третий Куплет: Григорий Лепс Я та на гору впопыхах, Чтоб чего не вышло. А на горе стоит ольха, А под горою вишня. Хоть бы склон увить плющом, Да мне б и то отрада, Хоть бы что-нибудь еще... Все не так, как надо!  Припев: Да эгэЭх раз! Да еще раз! Да еще много-много-много-много-много раз! Да что ты?! Да еще раз! Или пьешь с похмелья?  Четвертый Куплет: Григорий Лепс Я тогда по полю, вдоль реки. Света - тьма, нет бога! А в чистом поле да васильки, Дальняя дорога. Вдоль дороги - лес густой С Бабами-Ягами, А в конце дороги той - Плаха с топорами.  Где-то кони пляшут в такт, Нехотя и плавно. Вдоль дороги все не так, А в конце - подавно. И ни церковь, да ни кабак - Да ничего не свято! Нет, ребята, все не так, Все не так, ребята!  Припев: Эх раз! Да еще раз! Да еще много-много-много-много-много раз! Да что ты?! Да еще раз! Все не так, ребята!/ 25 июля 2020 ', 'https://text-you.ru//rus_text_pesni/65638-grigorijj-leps-moja-cyganskaja.html');\n",
            "    \n",
            "\n",
            "    INSERT INTO text_songs (author, text, url)\n",
            "    VALUES ('Григорий Лепс', 'Она скинет пальто, выпьет вина, чтобы согреться. Она, просто никто, но отчего так бьется сердце? Душа моя на замки закрыта от всех людей и на миллионы дней. Душа моя к небесам пришита, ну что я нашел в ней?  Припев Она умеет делать мне любовь, Может выпить без остатка мне всю кровь, Может быть со мной холодной, как зима, И опять сведет, сведет меня с ума.  Она знает мужчин, я это все чувствую кожей. Она - мой кокаин, мой ЛСД и даже больше. Душа моя на замки закрыта от всех людей и на миллионы дней. Душа моя к небесам пришита, ну что я нашел в ней?  Припев Она умеет делать мне любовь, Может выпить без остатка мне всю кровь, Может быть со мной холодной, как зима, И опять сведет, сведет меня с ума.(2раза) И опять сведет, сведет меня с ума. И опять сведет, сведет меня с ума. Сведет меня с ума. Сведет меня с ума./ 1 января 2011 ', 'https://text-you.ru//rus_text_pesni/10162-grigorijj-leps-ona.html');\n",
            "    \n",
            "\n",
            "    INSERT INTO text_songs (author, text, url)\n",
            "    VALUES ('Григорий Лепс', 'Месяц назад любовался тобой, словно, я сам тебя создал. Месяц назад, как русалку из волн, ласково, ласково звал. Я разбудил проливные дожди, плакал растроганный воздух, Но ничего я не мог изменить в этих наивных глазах.  Припев: Боже, как долго, долго, Как долго думала ты! Боже, как долго, долго, Как долго думала ты! Цветы все увяли, в моем сердце, Просто увяли!  Кажеться, я - в твоих детских руках - сложная слишком игрушка, Вертишь ее, и не можешь понять, что тебе делать теперь. Я же просил: Просто реши: нужен я или не нужен!!! Этот вопрос удивительно прост, на не по силам тебе!!!  Припев: Боже, как долго, долго, Как долго думала ты! Боже, как долго, долго, Как долго думала ты! Цветы все увяли, в моем сердце, Просто увяли!  Боже, как долго, долго, Как долго думала ты! (4 раза)  Цветы все увяли, в моем сердце, Просто увяли!/ 1 января 2011 ', 'https://text-you.ru//rus_text_pesni/10159-grigorijj-leps-bozhe-kak-dolgo.html');\n",
            "    \n",
            "\n",
            "    INSERT INTO text_songs (author, text, url)\n",
            "    VALUES ('Григорий Лепс', 'Расскажи мне старый черт/ 15 июня 2013 ', 'https://text-you.ru//rus_text_pesni/23848-grigorijj-leps-staryjj-chjort.html');\n",
            "    \n",
            "\n",
            "    INSERT INTO text_songs (author, text, url)\n",
            "    VALUES ('Григорий Лепс', 'Настроение на \"нет\",  И везде погашен свет, Все равно здесь не на что смотреть. В клетке заперт я, как зверь И, хотя, я вижу дверь,  Но, кто знает, может это смерть? То ли сердце дало сбой, То ли я пленен тобой? Где то рядом поселилась ложь. Есть предание одно: \"Если в мире все вверх дном, Из небес польется черный дождь\"  Припев Черный дождь стучит по крыше, Льет коварно и не слышно. И за шторы проникает медленно. Черный дождь стучит по стеклам  Так упорно и жестоко Шепчет, а душа не верит, бедная!  Из твоих невнятных слов Про любовь и нелюбовь, Я, прости, не понял ничего. Но сомнений не унять, Стал смотреть я на тебя, Словно, я нашел в тебе жучок! Без доверья жить нельзя, Мир накренился скользя - Ты была в нем очень важный гвоздь. Есть поверие одно: \"В день, когда умрет любовь, Из небес польется черный дождь\"  Припев Черный дождь стучит по крыше, Льет коварно и не слышно. И за шторы проникает медленно. Черный дождь стучит по стеклам  Так упорно и жестоко Шепчет, а душа не верит, бедная!(3раза)/ 1 января 2011 ', 'https://text-you.ru//rus_text_pesni/10161-grigorijj-leps-chernyjj-dozhd.html');\n",
            "    \n",
            "\n",
            "    INSERT INTO text_songs (author, text, url)\n",
            "    VALUES ('Григорий Лепс', 'Припев: Life Is Good Life Is Good Life Is Good Life Is Good Life Is Good Life Is Good Life Is Good Life Is Good  Первый Куплет: Григорий Лепс Время - ветер и песок. Дни сливаются в года. Но ты всю жизнь искал момент. В плену надежд, ошибок страсть. Я беру от жизни всё. Нету завтра, есть сейчас. Эта жизнь - водоворот. И падение и взлет. До мечты один лишь шаг.  Припев: [x4] Life Is Good Life - скажем вместе! Life Is Good Life - этой песней! Life Is Good Life - жизнь прекрасна! Life Is Good Life…  Второй Куплет: Григорий Лепс Объединяться, что бы жить. В надеждах встречи и мечты. Но я хочу здесь и сейчас. Жизнь, она для нас. Ведь мы для счастья рождены!  Припев: [x2] Life Is Good Life - скажем вместе! Life Is Good Life - этой песней! Life Is Good Life - жизнь прекрасна! Life Is Good Life…/ 15 января 2019 ', 'https://text-you.ru//rus_text_pesni/55326-grigorijj-leps-life-is-good.html');\n",
            "    \n",
            "\n",
            "    INSERT INTO text_songs (author, text, url)\n",
            "    VALUES ('Григорий Лепс', '[Куплет 1]: Пред тем, как я предстану идиотом, Я попрошу пред образом: \"Подайте...\" При нём не надо думать об исходе, Он любит нас — добавит день к расплате.  Из ничего в ничто бросая семя, Живу себе, себя воображая, Моя надежда сильно поседела И с каждым годом просто никакая.  [Припев]: Не троньте душу грязными руками! Не надо врать, что нет пути другого. Я на задворках мёртвыми губами… Искал поддержки я у чужих пророков.  [Куплет 2]: Сквозь время память обладает силой. Забыв про боль обид и гиблые трясины, Стучится в сердце птицей синекрылой, Твердит, что верность и любовь едины.   [Припев]: Не троньте душу грязными руками! Не надо врать, что нет пути другого. Я на задворках мёртвыми губами… Искал поддержки я у чужих пророков.  [Припев]: Не троньте душу грязными руками! Не надо врать, что нет пути другого. Я на задворках мёртвыми губами… Искал поддержки я у чужих пророков.  Я на задворках мёртвыми губами… Искал поддержки я у чужих пророков. У чужих пророков. У чужих пророков./ 25 декабря 2020 ', 'https://text-you.ru//rus_text_pesni/67188-grigorijj-leps-ne-tronte-dushu-grjaznymi-rukami.html');\n",
            "    \n",
            "\n",
            "    INSERT INTO text_songs (author, text, url)\n",
            "    VALUES ('Григорий Лепс', 'По пустым проспектам неба Одиноко бродит солнце, То беспечно улыбнётся, То о чём то загрустит. Всех теплом своим согреет, Жить иначе просто не умеет.  А-а-а...может быть такая доля, Одинокого светила Не смотря на всё что было, Всё равно любить весь мир. Только мир собою занят, Просто так, в ответ, любить не станет.  А-а-а...там высоко-о-о-о, Там далеко-о-о-о, Там в небесах, без любви, Замерзает солнце.  Там высоко-о-о-о, Там далеко-о-о-о, Там в небесах, без любви, Замерзает солнце.   Все свои печали солнце, За изнанкой ночи прячет. И беззвучно, тихо плачет, Чтобы не тревожить нас. Но никто не обернётся, Не увидит эти слёзы солнца.  Там высоко-о-о-о, Там далеко-о-о-о, Там в небесах, без любви, Замерзает солнце.  Там высоко-о-о-о, Там далеко-о-о-о, Пряча печали свои, Замерзает солнце.   Там высоко-о-о-о, Там далеко-о-о-о, Там в небесах, без любви, Замерзает солнце.  Там высоко-о-о-о, Там далеко-о-о-о, Пряча печали свои, Замерзает солнце./ 1 января 2011 ', 'https://text-you.ru//rus_text_pesni/10160-grigorijj-leps-zamerzaet-solnce.html');\n",
            "    \n",
            "\n",
            "    INSERT INTO text_songs (author, text, url)\n",
            "    VALUES ('Григорий Лепс', 'Я горящие угли бросаю в лед Я уже такой как есть – другим не стать Прожигая на огне за годом год Мне в душе всего лишь лет 25…  Она меня балует, она меня чувствует Зависну на паузе, над водами грустными Зависну на паузе, над черною Яузой Над водами талыми Она меня балует  По секундам собираю каждый миг Все отношения людей – лишь игра Но я не лодка, что бы по теченью плыть Раньше плыл, ну а теперь не для меня  Она меня балует, она меня чувствует Зависну на паузе, над водами грустными Зависну на паузе, над черною Яузой Над водами талыми Она меня балует/ 25 июня 2021 ', 'https://text-you.ru//rus_text_pesni/70691-grigorijj-leps-ona-menja-baluet.html');\n",
            "    \n",
            "\n",
            "    INSERT INTO text_songs (author, text, url)\n",
            "    VALUES ('Григорий Лепс', 'Я пришёл издалека, стала вдруг крылом рука Я взлетел под облака словно птица И смотрю я с высоты, мир небесной красоты Понимая что увы, всё мне снится.  Припев: Мне снится, мне снится водопад Мне снится, мне снится водопад.  Вдаль свободную маня, разбивая брызги дня Свет холодного огня серебрится Звёзды льются с высоты, мир небесной красоты Я взлетаю, но увы, всё мне снится./ 29 сентября 2013 ', 'https://text-you.ru//rus_text_pesni/25163-grigorijj-leps-mne-snitsja-vodopad.html');\n",
            "    \n",
            "\n",
            "    INSERT INTO text_songs (author, text, url)\n",
            "    VALUES ('Григорий Лепс', 'Нарисуй весну, потом сотри Ночи без любви не нужны они Нарисуй луну, оставь её Изменилось всё, я ушёл давно.  Припев: Ты опоздала, здесь нет меня Ты не узнаешь как мог быть счастлив я Сметает ливнем мои следы Он мог бы повенчать нас, только опоздала ты.  Нарисованы твои глаза В них одна слеза ждёт ещё тепла Мне за это можно всё отдать Но должна ты знать, поздно всё менять./ 6 августа 2010 ', 'https://text-you.ru//rus_text_pesni/4571-grigorijj-leps-ty-opozdala.html');\n",
            "    \n",
            "\n",
            "    INSERT INTO text_songs (author, text, url)\n",
            "    VALUES ('Григорий Лепс', 'F В голове сколько мыслей, кому их рассказать? Ты и я здесь один лучше их записать A# Нужно продолжать двигаться, а не бежать От себя не убежишь в тридцать это надо знать Взято с сайта http://hm6.ru  C Ты можешь поменять страну и континент Ты можешь сорвать куш и упустить момент F Жить, будто бы границ нет C Уходя, после себя оставить след  Меня уносит с собой ветер перемен Мимо крыш домов, мимо кремлевских стен Я парю над городом, как супермен Покидая его душный плен  Ещё один раз здесь только я и ты Последний звонок и горят мосты Из под ног ушла земля Я давно отпустил, но я всё ещё люблю тебя/ 18 ноября 2012 ', 'https://text-you.ru//rus_text_pesni/21320-grigorijj-leps-london.html');\n",
            "    \n",
            "\n",
            "    INSERT INTO text_songs (author, text, url)\n",
            "    VALUES ('Григорий Лепс', 'Жизнь я рисовал с линейкою прямой, Я разрубал узлы и не терял покой-ой. Унизиться боясь, я женщин унижал, И знал я, что так надо, и не переживал, Но звери дикие мне в душу ворвались И хлест утратил свой простой волшебный смысл. Перед женщиной, вдруг, беззащитен я И солнце вольное погасло для меня.  Как она опасна, как она нежна! Кошачья грация и хищная душа! И что нибудь решить нет права у меня. Быть или не быть, скажет мне она.  Припев Медленно, медленно прорастает слово - \"опасная\", \"роковая\" -  Это последнее слово, словно прыжок с небоскреба в дождь. Медленно, медленно вырастает эта волна моя роковая. Девять-девятых валов. Кто то сказал:\"Роковая любовь\".  И что же делать мне теперь, что же делать мне теперь? Я понял, что всю жизнь ходил я по воде, эй. Не знаю, был ли прав я, обижая тех, Но кошечка сполна мне отомстит за всех.  Как она открыта, как она смела! Ласково убьет, быстрее, чем игла! И я хочу погибнуть жизнь мне не мила! Мой ли это выбор, скажет мне она!  Припев Медленно, медленно прорастает слово - \"опасная\", \"роковая\" -  Это последнее слово, словно прыжок с небоскреба в дождь. Медленно, медленно вырастает эта волна моя роковая. Девять-девятых валов. Кто то сказал:\"Роковая любовь\".(2раза)/ 2 января 2011 ', 'https://text-you.ru//rus_text_pesni/10167-grigorijj-leps-rokovaja-ljubov.html');\n",
            "    \n",
            "\n",
            "    INSERT INTO text_songs (author, text, url)\n",
            "    VALUES ('Григорий Лепс', 'Как засмотрится мне нынче, как задышится?  Воздух крут перед грозой, крут да вязок.  Что споется мне сегодня, что услышится?  Птицы вещие поют - да все из сказок.   Птица Сирин мне радостно скалится -  Веселит, зазывает из гнезд,  А напротив - тоскует-печалится,  Травит душу чудной Алконост.   Словно семь заветных струн  Зазвенели в свой черед -  Это птица Гамаюн  Надежду подает!   В синем небе, колокольнями проколотом,-  Медный колокол, медный колокол -  То ль возрадовался, то ли осерчал...  Купола в России кроют чистым золотом -  Чтобы чаще Господь замечал.   Я стою, как перед вечною загадкою,  Пред великою да сказочной страною -  Перед солоно - да горько-кисло-сладкою,  Голубою, родниковою, ржаною.   Грязью чавкая жирной да ржавою,  Вязнут лошади по стремена,  Но влекут меня сонной державою,  Что раскисла, опухла от сна.   Словно семь богатых лун  На пути моем встает -  То птица Гамаюн  Надежду подает!   Душу, сбитую утратами да тратами,  Душу, стертую перекатами,-  Если до крови лоскут истончал,-  Залатаю золотыми я заплатами -  Чтобы чаще Господь замечал!/ 6 августа 2010 ', 'https://text-you.ru//rus_text_pesni/4565-grigorijj-leps-kupola.html');\n",
            "    \n",
            "\n",
            "    INSERT INTO text_songs (author, text, url)\n",
            "    VALUES ('Григорий Лепс', 'Весна в Москву приходит незаметно/ 17 октября 2013 ', 'https://text-you.ru//rus_text_pesni/25286-grigorijj-leps-moskovskaja-pesnja.html');\n",
            "    \n",
            "\n",
            "    INSERT INTO text_songs (author, text, url)\n",
            "    VALUES ('Григорий Лепс', 'Припев:\n",
            "Самый лучший день заходил вчера\n",
            "Ночью ехать лень, пробыл до утра\n",
            "Но пришла пора и собрался в путь\n",
            "\"Ну и ладно, будь!\".\n",
            "\n",
            "Триста тысяч часов за спиною\n",
            "Триста тысяч планет надо мною\n",
            "Не устал ли Создатель их в небе кружить?\n",
            "\n",
            "Каждый раз просыпаясь с рассветом\n",
            "Неспроста вспоминаешь об этом:\n",
            "\"Очень здорово всё-таки жить!\".\n",
            "\n",
            "Проигрыш.\n",
            "\n",
            "Припев:\n",
            "Самый лучший день заходил вчера\n",
            "Ночью ехать лень, пробыл до утра\n",
            "Но пришла пора и собрался в путь\n",
            "\"Ну и ладно, будь!\".\n",
            "\n",
            "Самый лучший день заходил вчера\n",
            "Ночью ехать лень, пробыл до утра\n",
            "Но пришла пора и собрался в путь\n",
            "\"Ну и ладно, будь!\".\n",
            "\n",
            "Что-то главное вышло из моды\n",
            "А мы согласно законам природы\n",
            "Всё вгрызаемся в мир будто рыба-пила.\n",
            "\n",
            "Остаётся лишь тонкая нам нить\n",
            "Как по-русски уже не упомнить\n",
            "А по Английски стало быть: \"Love\".\n",
            "\n",
            "Проигрыш.\n",
            "\n",
            "Припев:\n",
            "Самый лучший день заходил вчера\n",
            "Ночью ехать лень, пробыл до утра\n",
            "Но пришла пора и собрался в путь\n",
            "\"Ну и ладно, будь!\".\n",
            "\n",
            "Самый лучший день заходил вчера\n",
            "Ночью ехать лень, пробыл до утра\n",
            "Но пришла пора и собрался в путь\n",
            "\"Ну и ладно, будь!\".\n",
            "\n",
            "Соло.\n",
            "\n",
            "Припев:\n",
            "Самый лучший день заходил вчера\n",
            "Ночью ехать лень, пробыл до утра\n",
            "Но пришла пора и собрался в путь\n",
            "\"Ну и ладно, будь!\".\n",
            "\n",
            "Самый лучший день заходил вчера\n",
            "Ночью ехать лень, пробыл до утра\n",
            "Но пришла пора и собрался в путь\n",
            "\"Ну и ладно, будь!\".\n",
            "\n",
            "\"Ну и ладно, будь!\"./ 5 июня 2020 ', 'https://text-you.ru//rus_text_pesni/64878-grigorijj-leps-samyjj-luchshijj-den.html');\n",
            "    \n",
            "\n",
            "    INSERT INTO text_songs (author, text, url)\n",
            "    VALUES ('Григорий Лепс', 'Где-то там/ 5 августа 2010 ', 'https://text-you.ru//rus_text_pesni/4559-grigorijj-leps-vjuga.html');\n",
            "    \n",
            "\n",
            "    INSERT INTO text_songs (author, text, url)\n",
            "    VALUES ('Григорий Лепс', 'Ты мне говоришь что совсем разбил я жизнь твою Всё этот так сложно, начинать снова, но я тебе подпою Как было трудно тебе, сколько лет нервы трепать мне Дам совет, лишь совет, в нём негатива поверь нет-нет.  Припев: Уходи красиво и живи счастливо У кого есть сила запретить тебе Если надоело, если надоело Уходи красиво, мой тебе совет.  Не такой? Иди! найди где такой! Всё-равно людей сменить легко но не изменить их  Так чего ты ждёшь? Ты ждёшь чтоб я изменился Прямо здесь чтобы я, чтобы я  вдруг стал прекрасным принцем.  Припев.   Но ты же ищешь виноватых А я пока что под рукой Но я же вижу что не я так Найдётся кто-нибудь другой.  Припев./ 5 августа 2010 ', 'https://text-you.ru//rus_text_pesni/4562-grigorijj-leps-ukhodi-krasivo.html');\n",
            "    \n",
            "\n",
            "    INSERT INTO text_songs (author, text, url)\n",
            "    VALUES ('Григорий Лепс', 'Первый Куплет: Григорий Лепс Казалось мне, бежали улицы вдаль и уводили тебя за собой. Казалось мне, небо - холодная сталь, сверкала и вызывала на бой. Казалось мне, каждый хотел дать совет, но я просил не лезть их. На самом деле уходил я, а ты стояла на месте.  Припев: Время бить стёкла, время пить виски, Рука уже в небе и стакан близко. В глубине сердца затаился крик: \"Хоть плачь, хоть пой - один фиг!\"  Второй Куплет: Григорий Лепс Казалось мне, так просто взять и уйти, и не терять себя в этой дыре. Но касание твоих обманчивых рук - и понимаю, что снова в игре. Ты сказала мне: \"Если тянуть до конца, любые струны рвутся.\" На самом деле уходил я, чтобы не вернуться.  Припев: Время бить стёкла, время пить виски, Рука уже в небе и стакан близко. В глубине сердца затаился крик: \"Хоть плачь, хоть пой - один фиг!\"/ 16 ноября 2017 ', 'https://text-you.ru//rus_text_pesni/46766-grigorijj-leps-odin-fig.html');\n",
            "    \n",
            "\n",
            "    INSERT INTO text_songs (author, text, url)\n",
            "    VALUES ('Григорий Лепс', 'Первый Куплет: Григорий Лепс Вдоль обрыва, по-над пропастью, по самому по краю Я коней своих нагайкою стегаю, погоняю... Что-то воздуху мне мало - ветер пью, туман глотаю... Чую с гибельным восторгом: пропадаю, пропадаю!  Чуть помедленнее, кони, чуть помедленнее! Вы тугую не слушайте плеть! Но что-то кони мне попались привередливые - И дожить не успел, мне допеть не успеть.  Припев: Я коней напою, Я куплет допою - Хоть немного ещё постою На краю...  Второй Куплет: Григорий Лепс Сгину я - меня пушинкой ураган сметёт с ладони, И в санях меня галопом повлекут по снегу утром... Вы на шаг неторопливый перейдите, мои кони, Хоть немного, но продлите путь к последнему приюту!  Чуть помедленнее, кони, чуть помедленнее! Не указчики вам кнут и плеть! Но что-за кони мне попались привередливые - И дожить не успел, мне допеть не успеть.  Припев: Я коней напою, Я куплет допою - Хоть немного ещё постою На краю...  Третий Куплет: Григорий Лепс Мы успели: в гости к Богу не бывает опозданий. Так что ж там ангелы поют такими злыми голосами?! Или это колокольчик весь зашёлся от рыданий, Или я кричу коням, чтоб не несли так быстро сани?!  Чуть помедленнее, кони, чуть помедленнее! Умоляю вас вскачь не лететь! Но что-за кони мне попались привередливые... Коль дожить не успел, так хотя бы - допеть!  Припев: Я коней напою, Я куплет допою - Хоть мгновенье ещё постою На краю.../ 25 июля 2020 ', 'https://text-you.ru//rus_text_pesni/65636-grigorijj-leps-koni-priveredlivye.html');\n",
            "    \n",
            "\n",
            "    INSERT INTO text_songs (author, text, url)\n",
            "    VALUES ('Григорий Лепс', 'Куплеты: Григорий Лепс Я когда-то умру - мы когда-то всегда умираем,- Как бы так угадать, чтоб не сам - чтобы в спину ножом: Убиенных щадят, отпевают и балуют раем,- Не скажу про живых, а покойников мы бережем.  В грязь ударю лицом, завалюсь покрасивее набок, И ударит душа на ворованных клячах в галоп. В дивных райских садах наберу бледно-розовых яблок. Жаль, сады сторожат и стреляют без промаха в лоб.  Прискакали - гляжу - пред очами не райское что-то: Неродящий пустырь и сплошное ничто - беспредел. И среди ничего возвышались литые ворота, И огромный этап - тысяч пять - на коленях сидел.  Как ржанет коренной! Я смирил его ласковым словом, Да репьи из мочал еле выдрал и гриву заплел. Седовласый старик слишком долго возился с засовом - И кряхтел и ворчал, и не смог отворить - и ушел.  И измученный люд не издал ни единого стона, Лишь на корточки вдруг с онемевших колен пересел. Здесь малина, братва,- нас встречают малиновым звоном! Все вернулось на круг, и распятый над кругом висел.  Всем нам блага подай, да и много ли требовал я благ? Мне - чтоб были друзья, да жена - чтобы пала на гроб,- Ну а я уж для них наберу бледно-розовых яблок. Жаль, сады сторожат и стреляют без промаха в лоб.  Я узнал старика по слезам на щеках его дряблых: Это Петр Святой - он апостол, а я - остолоп. Вот и кущи-сады, в коих прорва мороженных яблок. Но сады сторожат - и убит я без промаха в лоб.  И погнал я коней прочь от мест этих гнилых и зяблых,- Кони просят овсу, но и я закусил удила. Вдоль обрыва с кнутом по-над пропастью пазуху яблок Для тебя привезу: ты меня и из рая ждала!/ 25 июля 2020 ', 'https://text-you.ru//rus_text_pesni/65634-grigorijj-leps-rajjskie-jabloki.html');\n",
            "    \n",
            "\n",
            "    INSERT INTO text_songs (author, text, url)\n",
            "    VALUES ('Григорий Лепс', 'Первый Куплет: Григорий Лепс Если я богат, как царь морской, Крикни только мне: \"Лови блесну!\"- Мир подводный и надводный свой, Не задумываясь, выплесну!  Припев: Дом хрустальный на горе для нее. Сам, как пес бы, так и рос в цепи. Родники мои серебрянные, Золотые мои россыпи! Родники мои серебрянные, Золотые мои россыпи!  Проигрыш.  Второй Куплет: Григорий Лепс Если беден я, как пес, один, И в дому моем шаром кати - Ведь поможешь ты мне, Господи! Не позволишь жизнь скомкати...  Припев: Дом хрустальный на горе для нее. Сам, как пес бы, так и рос в цепи. Родники мои серебрянные, Золотые мои россыпи! Родники мои серебрянные, Золотые мои россыпи!  Проигрыш.  Третий Куплет: Григорий Лепс Не сравнил бы я любую с тобой, Хоть казни меня, расстреливай. Посмотри, как я любуюсь тобой,- Как Мадонной Рафаэлевой!  Припев: Дом хрустальный на горе для нее. Сам, как пес бы, так и рос в цепи. Родники мои серебрянные, Золотые мои россыпи! Родники мои серебрянные, Золотые мои россыпи! Россыпи!/ 25 июля 2020 ', 'https://text-you.ru//rus_text_pesni/65632-grigorijj-leps-dom-khrustalnyjj.html');\n",
            "    \n",
            "\n",
            "    INSERT INTO text_songs (author, text, url)\n",
            "    VALUES ('Григорий Лепс', 'Первый Куплет: Григорий Лепс Ты думала ничего не случится Бери река, душа — птица. Что заблудившись в поисках рая. Края где уже не летаю.  Ты думала ничего не случится Время летя, душа — птица. Но по законам людской природы, И у терпения есть горизонты. Хватит, кто заварил, тот платит.  Припев: Закрой двери, закрась окна. Там под сердцем душа мокнет. Там под небом белые полосы Ангелы делят.  Замри солнце, усни в прошлом. Любовь — жребий, кто кем брошен. Да, ты можешь остановить часы, Но не остановишь время. Но не остановишь время.  Второй Куплет: Григорий Лепс Ты думала ничего не проверить, И постоянно меняла берег, Но оставалось пустынно небо. Пока доверие было слепо  Ты выбирала другую свободу, Но она падала камнем в воду. Пока на дно опускались чувства, Река свое изменяла русло. Хватит, кто заварил, тот платит.  Припев: Закрой двери, закрась окна. Там под сердцем душа мокнет. Там под небом белые полосы Ангелы делят.  Замри солнце, усни в прошлом. Любовь — жребий, кто кем брошен. Да, ты можешь остановить часы, Но не остановишь время. Но не остановишь время.  Хватит, кто заварил, тот платит. Закрой двери, закрась окна. Там под сердцем душа мокнет. Там под небом белые полосы Ангелы делят.  Замри солнце, усни в прошлом. Любовь — жребий, кто кем брошен. Да, ты можешь остановить часы, Но не остановишь время. Но не остановишь время./ 18 ноября 2017 ', 'https://text-you.ru//rus_text_pesni/46827-grigorijj-leps-vremja.html');\n",
            "    \n",
            "\n",
            "    INSERT INTO text_songs (author, text, url)\n",
            "    VALUES ('Григорий Лепс', 'А у дельфина взрезано брюхо винтом. Выстрела в спину не ожидает никто. На батарее нету снарядов уже. Надо быстрее на вираже.  Парус! Порвали парус! Каюсь, каюсь, каюсь...  Даже в дозоре можешь не встретить врага. Это не горе, если болит нога. Петли дверные многим скрипят, многим поют: - Кто вы такие? Вас здесь не ждут!  Но парус! Порвали парус! Каюсь, каюсь, каюсь...  Многие лета - тем, кто поет во сне. Все части света могут лежать на дне, Все континенты могут гореть в огне, Только все это не по мне.  Но парус! Порвали парус! Каюсь, каюсь, каюсь.../ 5 августа 2010 ', 'https://text-you.ru//rus_text_pesni/4561-grigorijj-leps-parus.html');\n",
            "    \n",
            "\n",
            "    INSERT INTO text_songs (author, text, url)\n",
            "    VALUES ('Григорий Лепс', 'Припев: Знай, время не остановить, В прошлое не возвратиться, Мне уже довольно, но Стучит в окно Черно-белая печаль И в небо улетает птицей, Как последнее прощай.  Куплет: Григорий Лепс Разбитая любовь, тонкие нити, Мы хотели вновь соединить их, Тяжело дышать, но уже не больно, Все, моя душа парализована. Разбитая любовь, белые пятна, Разбитая любовь, а может, обратно, Тяжело дышать, но уже не больно, Все, моя душа парализована.  Припев: Знай, ничего не изменить, Ни к чему искать причины, Мне уже довольно фраз. Как в первый раз, Нам уже не полюбить, Наши души излечимы, Но запомним, как сейчас.  Переход: Разбитая любовь, тонкие нити, Мы хотели вновь соединить их, Тяжело дышать, но уже не больно, Все, моя душа парализована. Разбитая любовь, белые пятна, Разбитая любовь, а может, обратно, Тяжело дышать, но уже не больно, Все, моя душа парализована.  Парализована! (Х6)  Разбитая любовь, тонкие нити, Мы хотели вновь соединить их, Тяжело дышать, но уже не больно, Все, моя душа парализована. Разбитая любовь, белые пятна, Разбитая любовь, а может, обратно, Тяжело дышать, но уже не больно, Все, моя душа парализована.  Разбитая любовь… Парализована! (Х4)  Разбитая любовь, белые пятна, Разбитая любовь, а может, обратно, Тяжело дышать, но уже не больно, Все, моя душа парализована.  Знай…/ 16 ноября 2017 ', 'https://text-you.ru//rus_text_pesni/46768-grigorijj-leps-razbitaja-ljubov.html');\n",
            "    \n",
            "\n",
            "    INSERT INTO text_songs (author, text, url)\n",
            "    VALUES ('Григорий Лепс', 'Чем меньше знаешь, лучше спишь -  Теперь я на себе проверил.  Кто это выдумал, конечно,  Был мудрый черт,  Он знал потери.  Куда луна с небес ушла?  Ушла сиять в чужой постели.  И крови требует душа,  А разум возразить не смеет.  И эта боль дает мне власть,  И я парю на черных крыльях,  Как будто сердце из стекла  Дракона кровью вдруг налилось.  Я так хочу спасти тебя,  Но защищаю неумело.  В мозгу пульсируют слова:  Как ты могла?  Как ты посмела??   Поселилась и пригрелась  В моем сердце крыса-ревность.  Гложет сердце крыса-ревность.  Я могу убить ее,  Но вместе с ней убью и сердце я.   Запущен дом, в пыли мозги.  Я, как лимон на рыбу, выжат.  Я пью водяру от тоски,  И наяву чертей я вижу.  Себе не в силах отказать  В слюнявой, слабенькой надежде,  Что ты придешь в мою кровать  Так нежно, нежно -  Все, как прежде.  И эта боль дает мне власть,  Рука сильна и поступь смела,  Но сердце не дает понять:  \"Как ты могла? Как ты посмела?\".  Не может все, как прежде, быть -  Измена: нет живучей слова.  Не сможем мы ее забыть.  И все по кругу:  Снова, снова, снова.   Поселилась и пригрелась  В моем сердце крыса-ревность.  Гложет сердце крыса-ревность.  Я могу убить ее,  Но вместе с ней убью и сердце я./ 6 августа 2010 ', 'https://text-you.ru//rus_text_pesni/4564-grigorijj-leps-krysa-revnost.html');\n",
            "    \n",
            "\n",
            "    INSERT INTO text_songs (author, text, url)\n",
            "    VALUES ('Григорий Лепс', 'Душа и мысль - единый вздох Не жди меня, нет больше слов Не будет больше снов  Простужен день, он льёт дожди И в каждой капле меня не жди Холодно и безразлично так Нас осень обняла  Серыми буднями - не разбудить огня Не заставить сердце биться чаще, если нет Если нет причин для счастья мне Не хочется смотреть, как мы с тобой Убиваем свою любовь  Закрыть глаза и сделать шаг Покажется, что жизнь - пустяк Пусть в парке листья жгут А мы сожжём мосты  Серыми буднями - не разбудить огня Не заставить сердце биться чаще, если нет Если нет причин для счастья мне Не хочется смотреть, как мы с тобой Убиваем свою любовь  Серыми буднями - не разбудить огня Не заставить сердце биться чаще, счастья нет  Простужен день, он льёт дожди И в каждой капле, меня не жди Холодно и безразлично так Нас осень обняла/ 5 августа 2010 ', 'https://text-you.ru//rus_text_pesni/4555-grigorijj-leps-ne-zhdi-menja-i-slava.html');\n",
            "    \n",
            "\n",
            "    INSERT INTO text_songs (author, text, url)\n",
            "    VALUES ('Григорий Лепс', 'Ночь по улицам пошла звездной поступью цариц.  Слов и чисел простота у небесного моста.  Раскидала перья птиц.  Не забудутся никем праздник губ, обиды глаз.  Забери меня в свой плен.  Эту линию колен целовать последний раз.   Припев:  Только рюмка водки на столе, ветер плачет за окном.  Тихо болью отзываются во мне этой молодой луны крики.   Не легко тебя отдать парусам ветров и птиц.  Может, даже, не понять, может, даже, не узнать  среди тысяч женских лиц.  Пусть глаза мои молчат. Молча смотрят на луну.  Если кто поймает взгляд, поторопится назад, сам не знаю почему.   Припев:  Только рюмка водки на столе, ветер плачет за окном.  Тихо болью отзываются во мне этой молодой луны крики.   Припев:  Только рюмка водки на столе, ветер плачет за окном.  Тихо болью отзываются во мне этой молодой луны крики./ 6 августа 2010 ', 'https://text-you.ru//rus_text_pesni/4569-grigorijj-leps-rjumka-vodki-na-stole.html');\n",
            "    \n",
            "\n",
            "    INSERT INTO text_songs (author, text, url)\n",
            "    VALUES ('Григорий Лепс', 'Тихо капает вода, я боюсь услышать \"да\", Ты уходишь и уходишь навсегда. Трудно говорить, и что-то объяснить Может быть я научусь по-новой жить. Шаг за дверь сейчас, сердца стон, Всё-равно я только с тобой!  Припев: Не прощали мы друг другу наших измен, И не знали что отдать друг-другу взамен. Но любовь из раны просочится, Крыльями о стёкла буду биться к тебе. Но любовь из раны просочится, Крыльями о стёкла буду биться к тебе.  Белый дым от сигарет и глаза меняют цвет, Времени в разбитой чашке больше нет. Позже всё пройдёт, любовь моя плывёт, Где-то в небе, кто поймать её рискнёт. Правда в тишине, сердца стон, Я останусь, но я с тобой.  Припев: Не прощали мы друг другу наших измен, И не знали что отдать друг-другу взамен. Но любовь из раны просочится, Крыльями о стёкла буду биться к тебе. Но любовь из раны просочится, Крыльями о стёкла буду биться к тебе./ 6 августа 2010 ', 'https://text-you.ru//rus_text_pesni/4570-grigorijj-leps-izmeny-i-viktorija-ilinskaja.html');\n",
            "    \n",
            "\n",
            "    INSERT INTO text_songs (author, text, url)\n",
            "    VALUES ('Григорий Лепс', 'Кто поверит, я и сам не верю - Толь на счастье, то ли на беду, У меня семь пятниц на неделе  И тринадцать месяцев в году.   Моё небо - синее, в алмазах. Что-то мне по-жизни принесет. Я крещен, а может быт помазан, В общем, я - счастливый, вот и все!   Припев:  Я - счастливый, как никто! Я счастливый лет уж 100. Я - счастливый! Я - не вру! Так счастливым и уйду! Я - счастливый, как никто! Я счастливый лет на 100. Я - счастливый! Я - не лгу! Так счастливым и уйду!   Кто-то знает, я и сам не знаю, Где финал тот, где та полоса. За которой лишь ворота Рая, А за ними просто Небеса.   А пока все небо только в звездах. Не во сне причем, а на яву. Что скажу за жизнь свою я просто - Я счастливый тем, что я живу.   Припев:  Я - счастливый, как никто! Я счастливый лет уж 100. Я - счастливый! Я - не вру! Так счастливым и уйду! Я - счастливый, как никто! Я счастливый лет на 100. Я - счастливый! Я - не лгу! Так счастливым и уйду!   [Solo]   Я - счастливый, как никто! Я счастливый лет уж 100. Я - счастливый! Я - не вру! Так счастливым и уйду! Я - счастливый, как никто! Я счастливый лет на 100. Я - счастливый! Я - не лгу! Так счастливым и уйду!   Cчастливый, как никто! Cчастливым и уйду! Cчастливый, как никто! Cчастливым и уйду!/ 7 декабря 2012 ', 'https://text-you.ru//rus_text_pesni/21665-grigorijj-leps-ja-schastlivyjj.html');\n",
            "    \n"
          ]
        }
      ],
      "source": [
        "con = sqlite3.connect(\"songs.db\") #создали локальную БД\n",
        "\n",
        "cur = con.cursor() \n",
        "cur.execute(\"CREATE TABLE text_songs(author, text, url)\")\n",
        "# res = cur.execute(\"Select name FROM sqlite_master\")\n",
        "\n",
        "for k, v in parsed_songs.items():\n",
        "    sql_insert = \"\"\"\n",
        "    INSERT INTO text_songs (author, text, url)\n",
        "    VALUES ('{}', '{}', '{}');\n",
        "    \"\"\".format('Григорий Лепс', v, k)\n",
        "    print(sql_insert)\n",
        "    \n",
        "    res = cur.execute(sql_insert)\n",
        "    con.commit()"
      ]
    },
    {
      "cell_type": "code",
      "execution_count": 30,
      "id": "47e23c07",
      "metadata": {
        "id": "47e23c07"
      },
      "outputs": [],
      "source": [
        "res = cur.execute(\"Select * from text_songs\")\n",
        "result = res.fetchall() # все строки"
      ]
    },
    {
      "cell_type": "code",
      "execution_count": 31,
      "id": "6cb63d00",
      "metadata": {
        "colab": {
          "base_uri": "https://localhost:8080/"
        },
        "id": "6cb63d00",
        "outputId": "fa0d6b74-6425-4f0b-e7ff-26264c093fc9"
      },
      "outputs": [
        {
          "output_type": "execute_result",
          "data": {
            "text/plain": [
              "54"
            ]
          },
          "metadata": {},
          "execution_count": 31
        }
      ],
      "source": [
        "len(result)"
      ]
    },
    {
      "cell_type": "code",
      "execution_count": 32,
      "id": "8cde57d1",
      "metadata": {
        "colab": {
          "base_uri": "https://localhost:8080/"
        },
        "id": "8cde57d1",
        "outputId": "02ed2fda-2723-47c3-8d6c-6b66e67f1224"
      },
      "outputs": [
        {
          "output_type": "execute_result",
          "data": {
            "text/plain": [
              "[('Григорий Лепс',\n",
              "  'В старом парке пахнет хвойной тишиной,  И качаются на ветках облака.  Сколько времени не виделись с тобой,  Может год, а может целые века?   Ни за что теперь не отыскать следов  В дальний край, где мы друг друга не нашли.  Я пришёл к тебе из позабытых снов,  Как приходят в свою гавань корабли   Натали утоли мои печали, Натали!  Натали я прошёл пустынью грусти пол-земли!  Натали я вернулся, чтоб сказать тебе прости  Натали от судьбы и от тебя мне не уйти!  Утоли мои печали, Натали!  Натали! Натали!   Потерял я где-то в бездорожье лет  Безоглядную влюблённость и покой.  Брал от женщин всё, что мог, и не секрет,  Я не свят, я виноват перед тобой!  Целовал я струи многих родников  И томился одиночеством вдали.  Мои волосы от зноя и ветров  Побелели, как степные ковыли.   Натали утоли мои печали, Натали!  Натали я прошёл пустынью грусти пол-земли!  Натали я вернулся, чтоб сказать тебе прости  Натали от судьбы и от тебя мне не уйти!  Утоли мои печали, Натали!  Натали! Натали!   Я проделал долгий путь,  Только время обмануть невозможно Натали и и  И хоть я другим не стал,  Но с дороги я устал и душа моя в пыли.   Натали утоли мои печали, Натали!  Натали я прошёл пустынью грусти пол-земли!  Натали я вернулся, чтоб сказать тебе прости  Натали от судьбы и от тебя мне не уйти!  Утоли мои печали, Натали!  Натали! Натали! Натали!  Натали  я вернулся, чтоб сказать тебе прости  Натали от судьбы и от тебя мне не уйти!  Утоли мои печали, Натали!  Натали! Натали!/ 5 августа 2010 ',\n",
              "  'https://text-you.ru//rus_text_pesni/4557-grigorijj-leps-natali.html'),\n",
              " ('Григорий Лепс',\n",
              "  'Я давно уже читаю по слогам./ 30 октября 2015 ',\n",
              "  'https://text-you.ru//rus_text_pesni/38642-grigorijj-leps-ja-podnimaju-ruki.html'),\n",
              " ('Григорий Лепс',\n",
              "  'Сталь ярким крылом рвёт облака пополам Ты где-то внизу и светит звезда не нам А нам нужно успеть что-то сказать, знать бы что Но мой горизонт сольётся с твоим и ты узнаешь.  Припев: Согревая наши души, выкупая наши клятвы Жизнь входит в берега Незаметно и неслышно после бури как в затишье Жизнь входит в берега.  Разрывая наши цепи, наполняя наши мели Жизнь входит в берега Заставляя думать прежде, чем оставить все надежды Жизнь входит в берега.  Тень выльет в окно счастье двоих, тайну их Спрячь шторами звук, желание рук о них Но ждать чувствуя свет чьих-то побед и наград Тень - это пятно, это рассвет но бьётся в капле.  Припев./ 6 августа 2010 ',\n",
              "  'https://text-you.ru//rus_text_pesni/4563-grigorijj-leps-berega.html'),\n",
              " ('Григорий Лепс',\n",
              "  'Первый Куплет: Григорий Лепс Лучше никогда не думать о плохом - это всё пройдёт. Но в твоей душе звучит так глубоко радостная музыка. И пока живёшь ты, слушая её - музыка не врёт. Как бы что-то не пугало, всё равно двигайся вперёд!  Переход: Музыка в тебе сама меняет мир, она не подведёт - Только ни на миг не предавай музыку в тебе.  Припев: Ты просто жжёшь, как волшебник из сказки - В мире твоём просыпается красота. Ты создаёшь этой музыки краски - Чтобы люди могли и любить, и мечтать!  Второй Куплет: Григорий Лепс В мире никогда нам не было легко - это грустный факт. Но его спасала горстка чудаков и радостная музыка. Люди понимали, слушая её - страшное пройдёт. Музыка им помогала дальше жить и двигаться вперёд.  Переход: Музыка в тебе сама меняет мир, она не подведёт - Только ни на миг не предавай музыку в тебе.  Припев: Ты просто жжёшь, как волшебник из сказки - В мире твоём просыпается красота. Ты создаёшь этой музыки краски - Чтобы люди могли и любить, и мечтать!  Ты просто жжёшь, разве это возможно? В сердце огонь - ты вокруг освещаешь всё! Жаль только, что в нашем мире всё сложно - Просто гори, пока в сердце огонь!/ 16 ноября 2017 ',\n",
              "  'https://text-you.ru//rus_text_pesni/46779-grigorijj-leps-ty-prosto-zhzhjosh-posvjashhenie.html'),\n",
              " ('Григорий Лепс',\n",
              "  'Куплет 1:/ 7 сентября 2016 ',\n",
              "  'https://text-you.ru//rus_text_pesni/40960-grigorijj-leps-kriminal.html'),\n",
              " ('Григорий Лепс',\n",
              "  'Смотри, что в моём сердце: Меняем местами чувства, лечим раны. Ещё немного в гору, и будет легче Бежать от веры и от правды. Смотри, что будет после...  Ещё немного дальше, и будет поздно. А так хотелось любви и ласки.  Улицы города словно артерии, Чаще дыхание, выше давление. Лечу в самое сердце, Где ночи ярче, чем дни, Где диджей крутит винил, Где не остаться в тени, И где нам было хорошо, Где небо падает вниз, Где не подарок, а приз, Где ошибусь этажом, И будет, и будет хорошо Без тебя!  Смотри, что в твоём сердце: Лужи превратились в океаны. Ещё немного позже мне будет легче, Я утоплю наши идеалы. Помнишь, как было раньше: Над головою звезды, внутри торнадо. Коварно и так просто, без злат и фальши, Золото – координата страха./ 16 ноября 2017 ',\n",
              "  'https://text-you.ru//rus_text_pesni/46765-grigorijj-leps-bez-tebja.html'),\n",
              " ('Григорий Лепс',\n",
              "  'Кажется мне, что мы с тобою одно./ 4 января 2017 ',\n",
              "  'https://text-you.ru//rus_text_pesni/44645-grigorijj-leps-snega.html'),\n",
              " ('Григорий Лепс',\n",
              "  'Господи, дай мне сил -/ 16 февраля 2014 ',\n",
              "  'https://text-you.ru//rus_text_pesni/27924-grigorijj-leps-gospodi-dajj-mne-sil.html'),\n",
              " ('Григорий Лепс',\n",
              "  'Нет проигранных битв, нет нарушенных клятв Он уверенно мчит за собою свой верный отряд Пусть теряется след где-то ниже ноля Бренны все острова к юго-западу от корабля.  С ним так много надежд среди прочих вершин Он надежен как холод как пламя он не сокрушим Он идет напрямик воем сумрачным льдов Из обветренной памятью вечно седых городов.  Припев: Если б можно бы взять повернуть время вспять Вот это романтика, чудеса навигации Но маяк не горит, тишина говорит Капитан Арктика, капитан Арктика.  Да, все мысли полны кровоточащих ран Каждый сам как умеет проходит свой меридиан О, так сладко мечтать о других полюсах Ослепленная светом я гасну в его парусах.  И послушен штурвал и не дрогнет рука Сто ветров завернуть в драгоценные эти шелка Так высок горизонт меж плакучих орбит Там, где новых паломников ждет семисолнечный скит.  Припев./ 18 ноября 2012 ',\n",
              "  'https://text-you.ru//rus_text_pesni/21319-grigorijj-leps-kapitan-arktika.html'),\n",
              " ('Григорий Лепс',\n",
              "  'Вспоминая тихо о былом, сидя у могилы, Говорят мужчины...их морщины, Помнят поминутно всё о том, Как в одно мгновенье, без предупреждения, утром грянул гром...  И вспорхнули птицы к огненной границе, думая что сон... Но безумный гром в черной колеснице, Он им будет сниться...всю их жизнь потом... ..вся их жизнь о том...  Припев: Спасибо, ребята! За то, что вы с отчизной были рядом... Спасибо, герои! За то, что, заслонив собой, стояли крепкою стеной!..  Спасибо, ребята! Всем тем, кто был России старшим братом... За то, что не могло бы быть без вас, Но вы сумели победить... завещав нам жить, завещав нам жить...  В теплом свете вечного огня, Страшные мгновенья неповиновения, Поколения... Мы должны их помнить имена  Чтоб однажды утром, если будет нужно, Мы могли б всегда полететь, как птицы, В дальние станицы или города...  Видела звезда, как отцы и деды делали победы, Мы запомним это, это навсегда.. С нами навсегда!..  Припев./ 8 августа 2011 ',\n",
              "  'https://text-you.ru//rus_text_pesni/14487-grigorijj-leps-spasibo-rebjata.html'),\n",
              " ('Григорий Лепс',\n",
              "  'Я интересуюсь тобой, но не глубоко Иногда проводим вдвоём с тобой денёк-другой А потом ты пропадаешь, только донесёт молва Что встречали тебя в Париже, на Гоа.  Сто забот ты приводишь за собой Постоянно думая что С тобой я б уже с ума сошёл Но мне всё-равно.  Припев: Я тебя не люблю, это главный мой плюс Я на это кино не куплюсь Даже лучше, что я тебя не люблю.  Мне не надо звонить и не надо лгать Но когда весь мир надоест, то есть куда бежать То на парочку дней, а то - на полчаса А кто я в жизни твоей, зачем мне это знать.  Сто забот ты приводишь за собой Постоянно думая что С тобой я б уже с ума сошёл Но мне всё-равно.  Припев: Я тебя не люблю, это главный мой плюс Я на это кино не куплюсь Переделать тебя я не стремлюсь. Я тебя не люблю, это я так решил А не то бы никто не жил Даже лучше, что я тебя не люблю./ 5 августа 2010 ',\n",
              "  'https://text-you.ru//rus_text_pesni/4558-grigorijj-leps-ja-tebja-ne-ljublju.html'),\n",
              " ('Григорий Лепс',\n",
              "  'Золотится в бокале вино  В сигаретном дыму ностальгии.  Мы с тобою, мой друг, так давно  Не бывали в далекой России.  Где-то там, за этапами дней  Наша юность с тобой отсмеялась.  В бесприютном раю лагерей,  Как заложница, память осталась.   Сколько дней и воды утекло,  И дождями мечты отшумели.  Но живем, несмотря ни на что,  Только волосы вот побелели.  За туманами дальних морей,  Где и люди, и песни другие,  Бросив якорь, мы пьем за друзей  В сигаретном дыму ностальгии.   Не забыть Богом проклятых мест,  Без веселого солнца и лета,  Где несли мы нелегкий свой крест  За чертой тишины и рассвета.  Боль под сердцем сжималась в кулак  От прикладов, побоев и мата.  Снится нам вой конвойных собак  И свинцовая трель автомата.   Сколько дней и воды утекло,  И дождями мечты отшумели.  Но живем, несмотря ни на что,  Только волосы вот побелели.  За туманами дальних морей,  Где и люди, и песни другие,  Бросив якорь, мы пьем за друзей  В сигаретном дыму ностальгии.   Но однажды билеты возьмем  И вернемся в далекие годы,  Где простуженный гул поездов  Замерзает на рельсах свободы.  Там осталось немало друзей,  С кем мы горечь и радость делили.  И где-то там, за этапами дней  Мы такими счастливыми были.   Сколько дней и воды утекло,  И дождями мечты отшумели.  Но живем, несмотря ни на что,  Только волосы вот побелели.  За туманами дальних морей,  Где и люди, и песни другие,  Бросив якорь, мы пьем за друзей  В сигаретном дыму ностальгии./ 6 августа 2010 ',\n",
              "  'https://text-you.ru//rus_text_pesni/4567-grigorijj-leps-nostalgija.html'),\n",
              " ('Григорий Лепс',\n",
              "  'Стою я на перроне, фонарик как лампада  Февральский ветер ловит твой взгляд за снегопадом  Иду к тебе навстречу, а вдруг ещё не поздно,  А вдруг ещё не вечер, ты мне нужна как воздух   До станции «Зима» пешком почти полгода  До станции «Зима» другой дороги нет  На станции «Зима» до пояса сугробы  До станции «Зима» в один конец билет  До станции «Зима» в один конец билет   Оставлю ссоры в прошлом, кому нужны потери!?  Ты думаешь, что плачу (мне жгут глаза метели)  Сжимается подковой моя душа на стуже  Скажи всего два слова и я пойму, что нужен   До станции «Зима» пешком почти полгода  До станции «Зима» другой дороги нет  На станции «Зима» до пояса сугробы  До станции «Зима» в один конец билет  До станции «Зима» в один конец билет   Проигрыш ….(модуляция)   До станции «Зима» пешком почти полгода  До станции «Зима» другой дороги нет  На станции «Зима» до пояса сугробы  До станции «Зима» в один конец билет  До станции «Зима» в один конец билет/ 9 марта 2011 ',\n",
              "  'https://text-you.ru//rus_text_pesni/11733-grigorijj-leps-zima.html'),\n",
              " ('Григорий Лепс',\n",
              "  'Она была чиста как снег зимой.  В грязь - соболя,- иди по ним - по праву...  Но вот мне руки жжет ея письмо -  Я узнаю мучительную правду...   Не ведал я: страданье - только маска,  И маскарад закончится сейчас,-  Да, в этот раз я потерпел фиаско -  Надеюсь, это был последний раз.   Подумал я: дни сочтены мои,  Дурная кровь в мои проникла вены,-  Я сжал письмо как голову змеи -  Сквозь пальцы просочился яд измены.   Не ведать мне страданий и агоний,  Мне встречный ветер слезы оботрет,  Моих коней обида не нагонит,  Моих следов метель не заметет.   Итак, я оставляю позади,  Под этим серым неприглядным небом,  Дурман фиалок, наготу гвоздик  И слезы вперемешку с талым снегом.   Москва слезам не верит и слезинкам -  И взять мне нечего, но нечего и дать,-  Спешу навстречу новым поединкам -  И, как всегда, намерен побеждать!/ 6 августа 2010 ',\n",
              "  'https://text-you.ru//rus_text_pesni/4568-grigorijj-leps-ona-byla-chista-kak-sneg-zimojj.html'),\n",
              " ('Григорий Лепс',\n",
              "  'Куплет 1:/ 23 ноября 2016 ',\n",
              "  'https://text-you.ru//rus_text_pesni/44133-grigorijj-leps-ja-tebe-verju-ost-sofija.html'),\n",
              " ('Григорий Лепс',\n",
              "  'Ох, не спится мне, не спится.  У тебя снег на ресницах,  Глаз озера голубые.  У меня виски седые.   Ночи напролет не сплю я.  Девочку мою такую  Встретил - вот Амур-кудесник! -  Младший сын мой ей ровесник.   Ты, наверное, от скуки  Гладишь старческие руки,  А при встрече у аллеи  Поправляешь шарф на шее.   Ты не плачь, когда ревную:  Поругаю - поцелую.  Хорошо, что ты такая  Ласковая и родная.   Мне теперь совсем не страшно  Встретить смерть свою однажды.  А она уже заочно  Помахала мне платочком.   Ой, не спится мне, не спится, не спится.  Глаз озера голубые.  У меня виски седые.  Ох, не спится мне, не спится, не спится./ 6 августа 2010 ',\n",
              "  'https://text-you.ru//rus_text_pesni/4566-grigorijj-leps-ne-spitsja.html'),\n",
              " ('Григорий Лепс',\n",
              "  'Я так устал бродить Среди высоких стен, Где каждый шаг к тебе подобен пытке.... Я так хотел тебя Навеки взять в свой плен, Но сам пленён огнём твоей улыбки.... Огнём твоей улыбки.....  В глухую полночь Манит этот свет Кто был со мною, Все меня покиньте..... Я заблудился,выхода мне нет... В тебе брожу я словно в лабиринте Я заблудился,выхода мне нет.... В тебе брожу я словно в лабиринте...  Куда ведёт меня Очередной зигзаг твоей души, Неведомо мне ныне.... На полпути к тебе, Умолк последний шаг... И я один,я в каменной пустыне... Я в каменной пустыне.../ 5 августа 2010 ',\n",
              "  'https://text-you.ru//rus_text_pesni/4560-grigorijj-leps-labirint.html'),\n",
              " ('Григорий Лепс',\n",
              "  'Первый срок, нечаянная ходка, пацана ментовка замела! Забывай-бывай меня, молодка, и живи, как раньше ты жила. Первый срок, он шел за мной по следу, мы же знали это все с тобой! Я еще прие-прие-приеду и еще почти что молодой.  Припев: А воровской припев такой - семь лет - не вышка! Не суетись, когда на кичу заметут! Не верь, не бойся, не проси - такая фишка, не верь, не бойся, не проси - такая фишка, иначе схавают и рта не оботрут!  Первый срок и я приду не скоро, у тебя появятся друзья! Все ж таки семе-семе-семера - столько лет без шалости нельзя. Первый срок, нечаянная ходка, пацана ментовка замела! Забывай-бывай меня, молодка, и живи, как раньше ты жила.  Припев: А воровской припев такой - семь лет - не вышка! Не суетись, когда на кичу заметут! Не верь, не бойся, не проси - такая фишка, не верь, не бойся, не проси - такая фишка, иначе схавают и рта не оботрут! А воровской припев такой - семь лет - не вышка! Не суетись, когда на кичу заметут! Не верь, не бойся, не проси - такая фишка, не верь, не бойся, не проси - такая фишка, иначе схавают и рта не оботрут! Иначе схавают и рта не оботрут/ 4 апреля 2020 ',\n",
              "  'https://text-you.ru//rus_text_pesni/63822-grigorijj-leps-mojj-pervyjj-srok.html'),\n",
              " ('Григорий Лепс',\n",
              "  'То хочу, то не хочу Кажется, что это игрой Ты преднамеренно сводишь с ума Но в тебе паника чувств Тянут на грех, минус и плюс Не понимая, что хочешь сама  Ты настоящая женщина Больше добавить мне нечего Нежная, глупая, грешная И с ангельским лицом  Ты настоящая женщина И от судьбы обеспеченной Рвёшься и рвёшься доверчиво В сказку с плохим концом  Что в тебе дразнит меня То, что в любви, как и в войне Ты отдаёшься до самого дна Но тебя надо бы знать Ты разобьёшь много сердец И вот тогда наступает конец  Ты настоящая женщина Больше добавить мне нечего Нежная, глупая, грешная И с ангельским лицом  Ты настоящая женщина И от судьбы обеспеченной Рвёшься и рвёшься доверчиво В сказку с плохим концом  Ты настоящая женщина Больше добавить мне нечего Нежная, глупая, грешная И с ангельским лицом  Ты настоящая женщина И от судьбы обеспеченной Рвёшься и рвёшься доверчиво В сказку с плохим концом  В сказку с плохим концом В сказку с плохим концом/ 20 февраля 2011 ',\n",
              "  'https://text-you.ru//rus_text_pesni/11557-grigorijj-leps-nastojashhaja-zhenshhina.html'),\n",
              " ('Григорий Лепс',\n",
              "  '[Куплет 1, Григорий Лепс]: Как-будто сразу после боя, как раскалившись до красна Остались нам вдвоём с тобою любви просроченой слова. Потом банально хлопнув дверью, не оглянувшись,  Ты пошла ходить другою параллелью одна!  Припев: Что ж ты натворила! Ну как же ты могла? Закончилась весна и всё запорошило. Что ж ты натворила! Решай теперь сама, Как все забыть слова; и всё, что с нами было Разрушила сама!  [Куплет 2, Григорий Лепс]: Навеет запах на постели, что где-то рядом бродишь ты. И без тебя осиротели мои наивные мечты. Сольются в месяцы недели; и если не вернешься ты, Пока не будем ставить точки над i.  Припев: Что ж ты натворила! Ну как же ты могла? Закончилась весна и всё запорошило. Что ж ты натворила! Решай теперь сама, Как все забыть слова; и всё, что с нами было Разрушила!  Припев: Что ж ты натворила! Ну как же ты могла? Закончилась весна и всё запорошило. Что ж ты натворила! Решай теперь сама, Как все забыть слова; и всё, что с нами было!  Что ж ты натворила! Ну как же ты могла? Закончилась весна и всё запорошило. Что ж ты натворила! Решай теперь сама, Как все забыть слова; и всё, что с нами было Разрушила сама!/ 2 июня 2017 ',\n",
              "  'https://text-you.ru//rus_text_pesni/45757-grigorijj-leps-chto-zh-ty-natvorila.html'),\n",
              " ('Григорий Лепс',\n",
              "  'Снег под ногами, сделанный на заказ, Что будет с нами, узнаем через несколько фраз. Слова как иголки, предложения как ножи, Поцелуев осколки - прошлое не сложить. Мы теперь об этом знаем всё...  Я стану водопадом, падением с высоты. И все твои вина из винограда для меня уже слишком просты. В тебе больше нет хмеля, и крепость твоя не та. Нам оставалась всего неделя, и она уже прожита. Ла-ла -ла -ла....  Я мог бы остаться, и уже ни каких перемен, Я мог бы сдаваться, но что мы получили в замен. Холодные ночи, одинокие вечера, Давай все закончим, давай забывать номера. Мы теперь об этом знаем всё...  Я стану водопадом, падением с высоты. И все твои вина из винограда для меня уже слишком просты. В тебе больше нет хмеля, и крепость твоя не та. Нам оставалась всего неделя, и она уже прожита. Ла-ла -ла -ла....  Мы теперь об этом знаем всё... Я стану водопадом, падением с высоты. И все твои вина из винограда для меня уже слишком просты. В тебе больше нет хмеля, и крепость твоя не та. Нам оставалась всего неделя, и она... Ла-ла-ла-ла.. соло саксофон))  В тебе больше нет хмеля, и крепость твоя не та. Нам оставалась всего неделя, и она..уже прожита. Ла-ла-ла-ла.../ 21 февраля 2012 ',\n",
              "  'https://text-you.ru//rus_text_pesni/17682-grigorijj-leps-ja-stanu-vodopadom.html'),\n",
              " ('Григорий Лепс',\n",
              "  'Сколько лет и сколько дней,ты жил в мечте своей. Жил и вдруг почти что умер,да и по вине своей. Целый год тебя тащили,мы подняли всех. Чтобы ты остался с нами,не ушел на век. И теперь одна надежда,мир любя. Тридцать лет осталось где-то,делай вывод для себя. Бог и мать,работа,дети,дом,семья. Чтож,совсем не плохо,для тебя.   Расскажи мне,что ты знаешь. Расскажи,куда взлетаешь. Расскажи мне ,расскажи мне,не томи. С кем там виделся,о чем беседы шли.   Расскажи мне,что ты знаешь. Расскажи,куда взлетаешь. Расскажи,как жить то будешь. Как однажды умер,знаю не забудешь.   Расскажи мне,что ты знаешь. Расскажи,куда взлетаешь. Расскажи,как жить то будешь. Теперь... Теперь...   Расскажи мне,что ты знаешь. Расскажи,куда взлетаешь. Расскажи,как жить то будешь. Теперь.../ 5 августа 2010 ',\n",
              "  'https://text-you.ru//rus_text_pesni/4556-grigorijj-leps-rasskazhi.html'),\n",
              " ('Григорий Лепс',\n",
              "  'Нет числа, этим нелепым дням/ 16 марта 2013 ',\n",
              "  'https://text-you.ru//rus_text_pesni/22663-grigorijj-leps-ja-vernu-tebja.html'),\n",
              " ('Григорий Лепс',\n",
              "  'Первый Куплет: Григорий Лепс Я пройдусь по комнатам пустым, Здесь еще вчера была империя. Мир казался светлым и таким большим, А потом затмение, а теперь - измены дым.  Припев: Я объявлю войну своим мечтам, И память торопя, расставлю вещи в доме по местам, Как было до тебя.  Завтра я смогу опять дышать, и трогать неба синь. А ты - история, теперь ты лишь история. Ну все, Аминь!  Второй Куплет: Григорий Лепс Я не дам тебе бродить во снах, Чувства все остались за пределами. От любви до безразличия только шаг, И его мы сделали, и назад уже никак.  Припев: Я объявлю войну своим мечтам, И память торопя, расставлю вещи в доме по местам, Как было до тебя.  Завтра я смогу опять бежать, и трогать неба синь. А ты - история, теперь ты лишь история. Ну все, Аминь!/ 16 ноября 2017 ',\n",
              "  'https://text-you.ru//rus_text_pesni/46767-grigorijj-leps-amin.html'),\n",
              " ('Григорий Лепс',\n",
              "  'Первый Куплет: Григорий Лепс В сон мне - желтые огни, И хриплю во сне я: - Повремени, повремени,- Утро мудренее! Но и утром всё не так, Нет того веселья: Либо куришь да натощак, Или пьешь с похмелья.  Припев: Да эгэЭх раз! Да еще раз! Да еще много-много-много-много-много раз! Да что ты?! Да еще раз! Или пьешь с похмелья?  Второй Куплет: Григорий Лепс В кабаках - зеленый штоф, Белые салфетки. Рай для нищих и шутов, Мне ж - как птице в клетке! В церкви смрад и полумрак, Дьяки, дьяки курят ладан. Нет! И в церкви все не так, Все не так, все не так,как надо.  Припев: Да эгэЭх раз! Да еще раз! Да еще много-много-много-много-много раз! Да что ты?! Да еще раз! Или пьешь с похмелья?  Третий Куплет: Григорий Лепс Я та на гору впопыхах, Чтоб чего не вышло. А на горе стоит ольха, А под горою вишня. Хоть бы склон увить плющом, Да мне б и то отрада, Хоть бы что-нибудь еще... Все не так, как надо!  Припев: Да эгэЭх раз! Да еще раз! Да еще много-много-много-много-много раз! Да что ты?! Да еще раз! Или пьешь с похмелья?  Четвертый Куплет: Григорий Лепс Я тогда по полю, вдоль реки. Света - тьма, нет бога! А в чистом поле да васильки, Дальняя дорога. Вдоль дороги - лес густой С Бабами-Ягами, А в конце дороги той - Плаха с топорами.  Где-то кони пляшут в такт, Нехотя и плавно. Вдоль дороги все не так, А в конце - подавно. И ни церковь, да ни кабак - Да ничего не свято! Нет, ребята, все не так, Все не так, ребята!  Припев: Эх раз! Да еще раз! Да еще много-много-много-много-много раз! Да что ты?! Да еще раз! Все не так, ребята!/ 25 июля 2020 ',\n",
              "  'https://text-you.ru//rus_text_pesni/65638-grigorijj-leps-moja-cyganskaja.html'),\n",
              " ('Григорий Лепс',\n",
              "  'Она скинет пальто, выпьет вина, чтобы согреться. Она, просто никто, но отчего так бьется сердце? Душа моя на замки закрыта от всех людей и на миллионы дней. Душа моя к небесам пришита, ну что я нашел в ней?  Припев Она умеет делать мне любовь, Может выпить без остатка мне всю кровь, Может быть со мной холодной, как зима, И опять сведет, сведет меня с ума.  Она знает мужчин, я это все чувствую кожей. Она - мой кокаин, мой ЛСД и даже больше. Душа моя на замки закрыта от всех людей и на миллионы дней. Душа моя к небесам пришита, ну что я нашел в ней?  Припев Она умеет делать мне любовь, Может выпить без остатка мне всю кровь, Может быть со мной холодной, как зима, И опять сведет, сведет меня с ума.(2раза) И опять сведет, сведет меня с ума. И опять сведет, сведет меня с ума. Сведет меня с ума. Сведет меня с ума./ 1 января 2011 ',\n",
              "  'https://text-you.ru//rus_text_pesni/10162-grigorijj-leps-ona.html'),\n",
              " ('Григорий Лепс',\n",
              "  'Месяц назад любовался тобой, словно, я сам тебя создал. Месяц назад, как русалку из волн, ласково, ласково звал. Я разбудил проливные дожди, плакал растроганный воздух, Но ничего я не мог изменить в этих наивных глазах.  Припев: Боже, как долго, долго, Как долго думала ты! Боже, как долго, долго, Как долго думала ты! Цветы все увяли, в моем сердце, Просто увяли!  Кажеться, я - в твоих детских руках - сложная слишком игрушка, Вертишь ее, и не можешь понять, что тебе делать теперь. Я же просил: Просто реши: нужен я или не нужен!!! Этот вопрос удивительно прост, на не по силам тебе!!!  Припев: Боже, как долго, долго, Как долго думала ты! Боже, как долго, долго, Как долго думала ты! Цветы все увяли, в моем сердце, Просто увяли!  Боже, как долго, долго, Как долго думала ты! (4 раза)  Цветы все увяли, в моем сердце, Просто увяли!/ 1 января 2011 ',\n",
              "  'https://text-you.ru//rus_text_pesni/10159-grigorijj-leps-bozhe-kak-dolgo.html'),\n",
              " ('Григорий Лепс',\n",
              "  'Расскажи мне старый черт/ 15 июня 2013 ',\n",
              "  'https://text-you.ru//rus_text_pesni/23848-grigorijj-leps-staryjj-chjort.html'),\n",
              " ('Григорий Лепс',\n",
              "  'Настроение на \"нет\",  И везде погашен свет, Все равно здесь не на что смотреть. В клетке заперт я, как зверь И, хотя, я вижу дверь,  Но, кто знает, может это смерть? То ли сердце дало сбой, То ли я пленен тобой? Где то рядом поселилась ложь. Есть предание одно: \"Если в мире все вверх дном, Из небес польется черный дождь\"  Припев Черный дождь стучит по крыше, Льет коварно и не слышно. И за шторы проникает медленно. Черный дождь стучит по стеклам  Так упорно и жестоко Шепчет, а душа не верит, бедная!  Из твоих невнятных слов Про любовь и нелюбовь, Я, прости, не понял ничего. Но сомнений не унять, Стал смотреть я на тебя, Словно, я нашел в тебе жучок! Без доверья жить нельзя, Мир накренился скользя - Ты была в нем очень важный гвоздь. Есть поверие одно: \"В день, когда умрет любовь, Из небес польется черный дождь\"  Припев Черный дождь стучит по крыше, Льет коварно и не слышно. И за шторы проникает медленно. Черный дождь стучит по стеклам  Так упорно и жестоко Шепчет, а душа не верит, бедная!(3раза)/ 1 января 2011 ',\n",
              "  'https://text-you.ru//rus_text_pesni/10161-grigorijj-leps-chernyjj-dozhd.html'),\n",
              " ('Григорий Лепс',\n",
              "  'Припев: Life Is Good Life Is Good Life Is Good Life Is Good Life Is Good Life Is Good Life Is Good Life Is Good  Первый Куплет: Григорий Лепс Время - ветер и песок. Дни сливаются в года. Но ты всю жизнь искал момент. В плену надежд, ошибок страсть. Я беру от жизни всё. Нету завтра, есть сейчас. Эта жизнь - водоворот. И падение и взлет. До мечты один лишь шаг.  Припев: [x4] Life Is Good Life - скажем вместе! Life Is Good Life - этой песней! Life Is Good Life - жизнь прекрасна! Life Is Good Life…  Второй Куплет: Григорий Лепс Объединяться, что бы жить. В надеждах встречи и мечты. Но я хочу здесь и сейчас. Жизнь, она для нас. Ведь мы для счастья рождены!  Припев: [x2] Life Is Good Life - скажем вместе! Life Is Good Life - этой песней! Life Is Good Life - жизнь прекрасна! Life Is Good Life…/ 15 января 2019 ',\n",
              "  'https://text-you.ru//rus_text_pesni/55326-grigorijj-leps-life-is-good.html'),\n",
              " ('Григорий Лепс',\n",
              "  '[Куплет 1]: Пред тем, как я предстану идиотом, Я попрошу пред образом: \"Подайте...\" При нём не надо думать об исходе, Он любит нас — добавит день к расплате.  Из ничего в ничто бросая семя, Живу себе, себя воображая, Моя надежда сильно поседела И с каждым годом просто никакая.  [Припев]: Не троньте душу грязными руками! Не надо врать, что нет пути другого. Я на задворках мёртвыми губами… Искал поддержки я у чужих пророков.  [Куплет 2]: Сквозь время память обладает силой. Забыв про боль обид и гиблые трясины, Стучится в сердце птицей синекрылой, Твердит, что верность и любовь едины.   [Припев]: Не троньте душу грязными руками! Не надо врать, что нет пути другого. Я на задворках мёртвыми губами… Искал поддержки я у чужих пророков.  [Припев]: Не троньте душу грязными руками! Не надо врать, что нет пути другого. Я на задворках мёртвыми губами… Искал поддержки я у чужих пророков.  Я на задворках мёртвыми губами… Искал поддержки я у чужих пророков. У чужих пророков. У чужих пророков./ 25 декабря 2020 ',\n",
              "  'https://text-you.ru//rus_text_pesni/67188-grigorijj-leps-ne-tronte-dushu-grjaznymi-rukami.html'),\n",
              " ('Григорий Лепс',\n",
              "  'По пустым проспектам неба Одиноко бродит солнце, То беспечно улыбнётся, То о чём то загрустит. Всех теплом своим согреет, Жить иначе просто не умеет.  А-а-а...может быть такая доля, Одинокого светила Не смотря на всё что было, Всё равно любить весь мир. Только мир собою занят, Просто так, в ответ, любить не станет.  А-а-а...там высоко-о-о-о, Там далеко-о-о-о, Там в небесах, без любви, Замерзает солнце.  Там высоко-о-о-о, Там далеко-о-о-о, Там в небесах, без любви, Замерзает солнце.   Все свои печали солнце, За изнанкой ночи прячет. И беззвучно, тихо плачет, Чтобы не тревожить нас. Но никто не обернётся, Не увидит эти слёзы солнца.  Там высоко-о-о-о, Там далеко-о-о-о, Там в небесах, без любви, Замерзает солнце.  Там высоко-о-о-о, Там далеко-о-о-о, Пряча печали свои, Замерзает солнце.   Там высоко-о-о-о, Там далеко-о-о-о, Там в небесах, без любви, Замерзает солнце.  Там высоко-о-о-о, Там далеко-о-о-о, Пряча печали свои, Замерзает солнце./ 1 января 2011 ',\n",
              "  'https://text-you.ru//rus_text_pesni/10160-grigorijj-leps-zamerzaet-solnce.html'),\n",
              " ('Григорий Лепс',\n",
              "  'Я горящие угли бросаю в лед Я уже такой как есть – другим не стать Прожигая на огне за годом год Мне в душе всего лишь лет 25…  Она меня балует, она меня чувствует Зависну на паузе, над водами грустными Зависну на паузе, над черною Яузой Над водами талыми Она меня балует  По секундам собираю каждый миг Все отношения людей – лишь игра Но я не лодка, что бы по теченью плыть Раньше плыл, ну а теперь не для меня  Она меня балует, она меня чувствует Зависну на паузе, над водами грустными Зависну на паузе, над черною Яузой Над водами талыми Она меня балует/ 25 июня 2021 ',\n",
              "  'https://text-you.ru//rus_text_pesni/70691-grigorijj-leps-ona-menja-baluet.html'),\n",
              " ('Григорий Лепс',\n",
              "  'Я пришёл издалека, стала вдруг крылом рука Я взлетел под облака словно птица И смотрю я с высоты, мир небесной красоты Понимая что увы, всё мне снится.  Припев: Мне снится, мне снится водопад Мне снится, мне снится водопад.  Вдаль свободную маня, разбивая брызги дня Свет холодного огня серебрится Звёзды льются с высоты, мир небесной красоты Я взлетаю, но увы, всё мне снится./ 29 сентября 2013 ',\n",
              "  'https://text-you.ru//rus_text_pesni/25163-grigorijj-leps-mne-snitsja-vodopad.html'),\n",
              " ('Григорий Лепс',\n",
              "  'Нарисуй весну, потом сотри Ночи без любви не нужны они Нарисуй луну, оставь её Изменилось всё, я ушёл давно.  Припев: Ты опоздала, здесь нет меня Ты не узнаешь как мог быть счастлив я Сметает ливнем мои следы Он мог бы повенчать нас, только опоздала ты.  Нарисованы твои глаза В них одна слеза ждёт ещё тепла Мне за это можно всё отдать Но должна ты знать, поздно всё менять./ 6 августа 2010 ',\n",
              "  'https://text-you.ru//rus_text_pesni/4571-grigorijj-leps-ty-opozdala.html'),\n",
              " ('Григорий Лепс',\n",
              "  'F В голове сколько мыслей, кому их рассказать? Ты и я здесь один лучше их записать A# Нужно продолжать двигаться, а не бежать От себя не убежишь в тридцать это надо знать Взято с сайта http://hm6.ru  C Ты можешь поменять страну и континент Ты можешь сорвать куш и упустить момент F Жить, будто бы границ нет C Уходя, после себя оставить след  Меня уносит с собой ветер перемен Мимо крыш домов, мимо кремлевских стен Я парю над городом, как супермен Покидая его душный плен  Ещё один раз здесь только я и ты Последний звонок и горят мосты Из под ног ушла земля Я давно отпустил, но я всё ещё люблю тебя/ 18 ноября 2012 ',\n",
              "  'https://text-you.ru//rus_text_pesni/21320-grigorijj-leps-london.html'),\n",
              " ('Григорий Лепс',\n",
              "  'Жизнь я рисовал с линейкою прямой, Я разрубал узлы и не терял покой-ой. Унизиться боясь, я женщин унижал, И знал я, что так надо, и не переживал, Но звери дикие мне в душу ворвались И хлест утратил свой простой волшебный смысл. Перед женщиной, вдруг, беззащитен я И солнце вольное погасло для меня.  Как она опасна, как она нежна! Кошачья грация и хищная душа! И что нибудь решить нет права у меня. Быть или не быть, скажет мне она.  Припев Медленно, медленно прорастает слово - \"опасная\", \"роковая\" -  Это последнее слово, словно прыжок с небоскреба в дождь. Медленно, медленно вырастает эта волна моя роковая. Девять-девятых валов. Кто то сказал:\"Роковая любовь\".  И что же делать мне теперь, что же делать мне теперь? Я понял, что всю жизнь ходил я по воде, эй. Не знаю, был ли прав я, обижая тех, Но кошечка сполна мне отомстит за всех.  Как она открыта, как она смела! Ласково убьет, быстрее, чем игла! И я хочу погибнуть жизнь мне не мила! Мой ли это выбор, скажет мне она!  Припев Медленно, медленно прорастает слово - \"опасная\", \"роковая\" -  Это последнее слово, словно прыжок с небоскреба в дождь. Медленно, медленно вырастает эта волна моя роковая. Девять-девятых валов. Кто то сказал:\"Роковая любовь\".(2раза)/ 2 января 2011 ',\n",
              "  'https://text-you.ru//rus_text_pesni/10167-grigorijj-leps-rokovaja-ljubov.html'),\n",
              " ('Григорий Лепс',\n",
              "  'Как засмотрится мне нынче, как задышится?  Воздух крут перед грозой, крут да вязок.  Что споется мне сегодня, что услышится?  Птицы вещие поют - да все из сказок.   Птица Сирин мне радостно скалится -  Веселит, зазывает из гнезд,  А напротив - тоскует-печалится,  Травит душу чудной Алконост.   Словно семь заветных струн  Зазвенели в свой черед -  Это птица Гамаюн  Надежду подает!   В синем небе, колокольнями проколотом,-  Медный колокол, медный колокол -  То ль возрадовался, то ли осерчал...  Купола в России кроют чистым золотом -  Чтобы чаще Господь замечал.   Я стою, как перед вечною загадкою,  Пред великою да сказочной страною -  Перед солоно - да горько-кисло-сладкою,  Голубою, родниковою, ржаною.   Грязью чавкая жирной да ржавою,  Вязнут лошади по стремена,  Но влекут меня сонной державою,  Что раскисла, опухла от сна.   Словно семь богатых лун  На пути моем встает -  То птица Гамаюн  Надежду подает!   Душу, сбитую утратами да тратами,  Душу, стертую перекатами,-  Если до крови лоскут истончал,-  Залатаю золотыми я заплатами -  Чтобы чаще Господь замечал!/ 6 августа 2010 ',\n",
              "  'https://text-you.ru//rus_text_pesni/4565-grigorijj-leps-kupola.html'),\n",
              " ('Григорий Лепс',\n",
              "  'Весна в Москву приходит незаметно/ 17 октября 2013 ',\n",
              "  'https://text-you.ru//rus_text_pesni/25286-grigorijj-leps-moskovskaja-pesnja.html'),\n",
              " ('Григорий Лепс',\n",
              "  'Припев:\\r\\nСамый лучший день заходил вчера\\r\\nНочью ехать лень, пробыл до утра\\r\\nНо пришла пора и собрался в путь\\r\\n\"Ну и ладно, будь!\".\\r\\n\\r\\nТриста тысяч часов за спиною\\r\\nТриста тысяч планет надо мною\\r\\nНе устал ли Создатель их в небе кружить?\\r\\n\\r\\nКаждый раз просыпаясь с рассветом\\r\\nНеспроста вспоминаешь об этом:\\r\\n\"Очень здорово всё-таки жить!\".\\r\\n\\r\\nПроигрыш.\\r\\n\\r\\nПрипев:\\r\\nСамый лучший день заходил вчера\\r\\nНочью ехать лень, пробыл до утра\\r\\nНо пришла пора и собрался в путь\\r\\n\"Ну и ладно, будь!\".\\r\\n\\r\\nСамый лучший день заходил вчера\\r\\nНочью ехать лень, пробыл до утра\\r\\nНо пришла пора и собрался в путь\\r\\n\"Ну и ладно, будь!\".\\r\\n\\r\\nЧто-то главное вышло из моды\\r\\nА мы согласно законам природы\\r\\nВсё вгрызаемся в мир будто рыба-пила.\\r\\n\\r\\nОстаётся лишь тонкая нам нить\\r\\nКак по-русски уже не упомнить\\r\\nА по Английски стало быть: \"Love\".\\r\\n\\r\\nПроигрыш.\\r\\n\\r\\nПрипев:\\r\\nСамый лучший день заходил вчера\\r\\nНочью ехать лень, пробыл до утра\\r\\nНо пришла пора и собрался в путь\\r\\n\"Ну и ладно, будь!\".\\r\\n\\r\\nСамый лучший день заходил вчера\\r\\nНочью ехать лень, пробыл до утра\\r\\nНо пришла пора и собрался в путь\\r\\n\"Ну и ладно, будь!\".\\r\\n\\r\\nСоло.\\r\\n\\r\\nПрипев:\\r\\nСамый лучший день заходил вчера\\r\\nНочью ехать лень, пробыл до утра\\r\\nНо пришла пора и собрался в путь\\r\\n\"Ну и ладно, будь!\".\\r\\n\\r\\nСамый лучший день заходил вчера\\r\\nНочью ехать лень, пробыл до утра\\r\\nНо пришла пора и собрался в путь\\r\\n\"Ну и ладно, будь!\".\\r\\n\\r\\n\"Ну и ладно, будь!\"./ 5 июня 2020 ',\n",
              "  'https://text-you.ru//rus_text_pesni/64878-grigorijj-leps-samyjj-luchshijj-den.html'),\n",
              " ('Григорий Лепс',\n",
              "  'Где-то там/ 5 августа 2010 ',\n",
              "  'https://text-you.ru//rus_text_pesni/4559-grigorijj-leps-vjuga.html'),\n",
              " ('Григорий Лепс',\n",
              "  'Ты мне говоришь что совсем разбил я жизнь твою Всё этот так сложно, начинать снова, но я тебе подпою Как было трудно тебе, сколько лет нервы трепать мне Дам совет, лишь совет, в нём негатива поверь нет-нет.  Припев: Уходи красиво и живи счастливо У кого есть сила запретить тебе Если надоело, если надоело Уходи красиво, мой тебе совет.  Не такой? Иди! найди где такой! Всё-равно людей сменить легко но не изменить их  Так чего ты ждёшь? Ты ждёшь чтоб я изменился Прямо здесь чтобы я, чтобы я  вдруг стал прекрасным принцем.  Припев.   Но ты же ищешь виноватых А я пока что под рукой Но я же вижу что не я так Найдётся кто-нибудь другой.  Припев./ 5 августа 2010 ',\n",
              "  'https://text-you.ru//rus_text_pesni/4562-grigorijj-leps-ukhodi-krasivo.html'),\n",
              " ('Григорий Лепс',\n",
              "  'Первый Куплет: Григорий Лепс Казалось мне, бежали улицы вдаль и уводили тебя за собой. Казалось мне, небо - холодная сталь, сверкала и вызывала на бой. Казалось мне, каждый хотел дать совет, но я просил не лезть их. На самом деле уходил я, а ты стояла на месте.  Припев: Время бить стёкла, время пить виски, Рука уже в небе и стакан близко. В глубине сердца затаился крик: \"Хоть плачь, хоть пой - один фиг!\"  Второй Куплет: Григорий Лепс Казалось мне, так просто взять и уйти, и не терять себя в этой дыре. Но касание твоих обманчивых рук - и понимаю, что снова в игре. Ты сказала мне: \"Если тянуть до конца, любые струны рвутся.\" На самом деле уходил я, чтобы не вернуться.  Припев: Время бить стёкла, время пить виски, Рука уже в небе и стакан близко. В глубине сердца затаился крик: \"Хоть плачь, хоть пой - один фиг!\"/ 16 ноября 2017 ',\n",
              "  'https://text-you.ru//rus_text_pesni/46766-grigorijj-leps-odin-fig.html'),\n",
              " ('Григорий Лепс',\n",
              "  'Первый Куплет: Григорий Лепс Вдоль обрыва, по-над пропастью, по самому по краю Я коней своих нагайкою стегаю, погоняю... Что-то воздуху мне мало - ветер пью, туман глотаю... Чую с гибельным восторгом: пропадаю, пропадаю!  Чуть помедленнее, кони, чуть помедленнее! Вы тугую не слушайте плеть! Но что-то кони мне попались привередливые - И дожить не успел, мне допеть не успеть.  Припев: Я коней напою, Я куплет допою - Хоть немного ещё постою На краю...  Второй Куплет: Григорий Лепс Сгину я - меня пушинкой ураган сметёт с ладони, И в санях меня галопом повлекут по снегу утром... Вы на шаг неторопливый перейдите, мои кони, Хоть немного, но продлите путь к последнему приюту!  Чуть помедленнее, кони, чуть помедленнее! Не указчики вам кнут и плеть! Но что-за кони мне попались привередливые - И дожить не успел, мне допеть не успеть.  Припев: Я коней напою, Я куплет допою - Хоть немного ещё постою На краю...  Третий Куплет: Григорий Лепс Мы успели: в гости к Богу не бывает опозданий. Так что ж там ангелы поют такими злыми голосами?! Или это колокольчик весь зашёлся от рыданий, Или я кричу коням, чтоб не несли так быстро сани?!  Чуть помедленнее, кони, чуть помедленнее! Умоляю вас вскачь не лететь! Но что-за кони мне попались привередливые... Коль дожить не успел, так хотя бы - допеть!  Припев: Я коней напою, Я куплет допою - Хоть мгновенье ещё постою На краю.../ 25 июля 2020 ',\n",
              "  'https://text-you.ru//rus_text_pesni/65636-grigorijj-leps-koni-priveredlivye.html'),\n",
              " ('Григорий Лепс',\n",
              "  'Куплеты: Григорий Лепс Я когда-то умру - мы когда-то всегда умираем,- Как бы так угадать, чтоб не сам - чтобы в спину ножом: Убиенных щадят, отпевают и балуют раем,- Не скажу про живых, а покойников мы бережем.  В грязь ударю лицом, завалюсь покрасивее набок, И ударит душа на ворованных клячах в галоп. В дивных райских садах наберу бледно-розовых яблок. Жаль, сады сторожат и стреляют без промаха в лоб.  Прискакали - гляжу - пред очами не райское что-то: Неродящий пустырь и сплошное ничто - беспредел. И среди ничего возвышались литые ворота, И огромный этап - тысяч пять - на коленях сидел.  Как ржанет коренной! Я смирил его ласковым словом, Да репьи из мочал еле выдрал и гриву заплел. Седовласый старик слишком долго возился с засовом - И кряхтел и ворчал, и не смог отворить - и ушел.  И измученный люд не издал ни единого стона, Лишь на корточки вдруг с онемевших колен пересел. Здесь малина, братва,- нас встречают малиновым звоном! Все вернулось на круг, и распятый над кругом висел.  Всем нам блага подай, да и много ли требовал я благ? Мне - чтоб были друзья, да жена - чтобы пала на гроб,- Ну а я уж для них наберу бледно-розовых яблок. Жаль, сады сторожат и стреляют без промаха в лоб.  Я узнал старика по слезам на щеках его дряблых: Это Петр Святой - он апостол, а я - остолоп. Вот и кущи-сады, в коих прорва мороженных яблок. Но сады сторожат - и убит я без промаха в лоб.  И погнал я коней прочь от мест этих гнилых и зяблых,- Кони просят овсу, но и я закусил удила. Вдоль обрыва с кнутом по-над пропастью пазуху яблок Для тебя привезу: ты меня и из рая ждала!/ 25 июля 2020 ',\n",
              "  'https://text-you.ru//rus_text_pesni/65634-grigorijj-leps-rajjskie-jabloki.html'),\n",
              " ('Григорий Лепс',\n",
              "  'Первый Куплет: Григорий Лепс Если я богат, как царь морской, Крикни только мне: \"Лови блесну!\"- Мир подводный и надводный свой, Не задумываясь, выплесну!  Припев: Дом хрустальный на горе для нее. Сам, как пес бы, так и рос в цепи. Родники мои серебрянные, Золотые мои россыпи! Родники мои серебрянные, Золотые мои россыпи!  Проигрыш.  Второй Куплет: Григорий Лепс Если беден я, как пес, один, И в дому моем шаром кати - Ведь поможешь ты мне, Господи! Не позволишь жизнь скомкати...  Припев: Дом хрустальный на горе для нее. Сам, как пес бы, так и рос в цепи. Родники мои серебрянные, Золотые мои россыпи! Родники мои серебрянные, Золотые мои россыпи!  Проигрыш.  Третий Куплет: Григорий Лепс Не сравнил бы я любую с тобой, Хоть казни меня, расстреливай. Посмотри, как я любуюсь тобой,- Как Мадонной Рафаэлевой!  Припев: Дом хрустальный на горе для нее. Сам, как пес бы, так и рос в цепи. Родники мои серебрянные, Золотые мои россыпи! Родники мои серебрянные, Золотые мои россыпи! Россыпи!/ 25 июля 2020 ',\n",
              "  'https://text-you.ru//rus_text_pesni/65632-grigorijj-leps-dom-khrustalnyjj.html'),\n",
              " ('Григорий Лепс',\n",
              "  'Первый Куплет: Григорий Лепс Ты думала ничего не случится Бери река, душа — птица. Что заблудившись в поисках рая. Края где уже не летаю.  Ты думала ничего не случится Время летя, душа — птица. Но по законам людской природы, И у терпения есть горизонты. Хватит, кто заварил, тот платит.  Припев: Закрой двери, закрась окна. Там под сердцем душа мокнет. Там под небом белые полосы Ангелы делят.  Замри солнце, усни в прошлом. Любовь — жребий, кто кем брошен. Да, ты можешь остановить часы, Но не остановишь время. Но не остановишь время.  Второй Куплет: Григорий Лепс Ты думала ничего не проверить, И постоянно меняла берег, Но оставалось пустынно небо. Пока доверие было слепо  Ты выбирала другую свободу, Но она падала камнем в воду. Пока на дно опускались чувства, Река свое изменяла русло. Хватит, кто заварил, тот платит.  Припев: Закрой двери, закрась окна. Там под сердцем душа мокнет. Там под небом белые полосы Ангелы делят.  Замри солнце, усни в прошлом. Любовь — жребий, кто кем брошен. Да, ты можешь остановить часы, Но не остановишь время. Но не остановишь время.  Хватит, кто заварил, тот платит. Закрой двери, закрась окна. Там под сердцем душа мокнет. Там под небом белые полосы Ангелы делят.  Замри солнце, усни в прошлом. Любовь — жребий, кто кем брошен. Да, ты можешь остановить часы, Но не остановишь время. Но не остановишь время./ 18 ноября 2017 ',\n",
              "  'https://text-you.ru//rus_text_pesni/46827-grigorijj-leps-vremja.html'),\n",
              " ('Григорий Лепс',\n",
              "  'А у дельфина взрезано брюхо винтом. Выстрела в спину не ожидает никто. На батарее нету снарядов уже. Надо быстрее на вираже.  Парус! Порвали парус! Каюсь, каюсь, каюсь...  Даже в дозоре можешь не встретить врага. Это не горе, если болит нога. Петли дверные многим скрипят, многим поют: - Кто вы такие? Вас здесь не ждут!  Но парус! Порвали парус! Каюсь, каюсь, каюсь...  Многие лета - тем, кто поет во сне. Все части света могут лежать на дне, Все континенты могут гореть в огне, Только все это не по мне.  Но парус! Порвали парус! Каюсь, каюсь, каюсь.../ 5 августа 2010 ',\n",
              "  'https://text-you.ru//rus_text_pesni/4561-grigorijj-leps-parus.html'),\n",
              " ('Григорий Лепс',\n",
              "  'Припев: Знай, время не остановить, В прошлое не возвратиться, Мне уже довольно, но Стучит в окно Черно-белая печаль И в небо улетает птицей, Как последнее прощай.  Куплет: Григорий Лепс Разбитая любовь, тонкие нити, Мы хотели вновь соединить их, Тяжело дышать, но уже не больно, Все, моя душа парализована. Разбитая любовь, белые пятна, Разбитая любовь, а может, обратно, Тяжело дышать, но уже не больно, Все, моя душа парализована.  Припев: Знай, ничего не изменить, Ни к чему искать причины, Мне уже довольно фраз. Как в первый раз, Нам уже не полюбить, Наши души излечимы, Но запомним, как сейчас.  Переход: Разбитая любовь, тонкие нити, Мы хотели вновь соединить их, Тяжело дышать, но уже не больно, Все, моя душа парализована. Разбитая любовь, белые пятна, Разбитая любовь, а может, обратно, Тяжело дышать, но уже не больно, Все, моя душа парализована.  Парализована! (Х6)  Разбитая любовь, тонкие нити, Мы хотели вновь соединить их, Тяжело дышать, но уже не больно, Все, моя душа парализована. Разбитая любовь, белые пятна, Разбитая любовь, а может, обратно, Тяжело дышать, но уже не больно, Все, моя душа парализована.  Разбитая любовь… Парализована! (Х4)  Разбитая любовь, белые пятна, Разбитая любовь, а может, обратно, Тяжело дышать, но уже не больно, Все, моя душа парализована.  Знай…/ 16 ноября 2017 ',\n",
              "  'https://text-you.ru//rus_text_pesni/46768-grigorijj-leps-razbitaja-ljubov.html'),\n",
              " ('Григорий Лепс',\n",
              "  'Чем меньше знаешь, лучше спишь -  Теперь я на себе проверил.  Кто это выдумал, конечно,  Был мудрый черт,  Он знал потери.  Куда луна с небес ушла?  Ушла сиять в чужой постели.  И крови требует душа,  А разум возразить не смеет.  И эта боль дает мне власть,  И я парю на черных крыльях,  Как будто сердце из стекла  Дракона кровью вдруг налилось.  Я так хочу спасти тебя,  Но защищаю неумело.  В мозгу пульсируют слова:  Как ты могла?  Как ты посмела??   Поселилась и пригрелась  В моем сердце крыса-ревность.  Гложет сердце крыса-ревность.  Я могу убить ее,  Но вместе с ней убью и сердце я.   Запущен дом, в пыли мозги.  Я, как лимон на рыбу, выжат.  Я пью водяру от тоски,  И наяву чертей я вижу.  Себе не в силах отказать  В слюнявой, слабенькой надежде,  Что ты придешь в мою кровать  Так нежно, нежно -  Все, как прежде.  И эта боль дает мне власть,  Рука сильна и поступь смела,  Но сердце не дает понять:  \"Как ты могла? Как ты посмела?\".  Не может все, как прежде, быть -  Измена: нет живучей слова.  Не сможем мы ее забыть.  И все по кругу:  Снова, снова, снова.   Поселилась и пригрелась  В моем сердце крыса-ревность.  Гложет сердце крыса-ревность.  Я могу убить ее,  Но вместе с ней убью и сердце я./ 6 августа 2010 ',\n",
              "  'https://text-you.ru//rus_text_pesni/4564-grigorijj-leps-krysa-revnost.html'),\n",
              " ('Григорий Лепс',\n",
              "  'Душа и мысль - единый вздох Не жди меня, нет больше слов Не будет больше снов  Простужен день, он льёт дожди И в каждой капле меня не жди Холодно и безразлично так Нас осень обняла  Серыми буднями - не разбудить огня Не заставить сердце биться чаще, если нет Если нет причин для счастья мне Не хочется смотреть, как мы с тобой Убиваем свою любовь  Закрыть глаза и сделать шаг Покажется, что жизнь - пустяк Пусть в парке листья жгут А мы сожжём мосты  Серыми буднями - не разбудить огня Не заставить сердце биться чаще, если нет Если нет причин для счастья мне Не хочется смотреть, как мы с тобой Убиваем свою любовь  Серыми буднями - не разбудить огня Не заставить сердце биться чаще, счастья нет  Простужен день, он льёт дожди И в каждой капле, меня не жди Холодно и безразлично так Нас осень обняла/ 5 августа 2010 ',\n",
              "  'https://text-you.ru//rus_text_pesni/4555-grigorijj-leps-ne-zhdi-menja-i-slava.html'),\n",
              " ('Григорий Лепс',\n",
              "  'Ночь по улицам пошла звездной поступью цариц.  Слов и чисел простота у небесного моста.  Раскидала перья птиц.  Не забудутся никем праздник губ, обиды глаз.  Забери меня в свой плен.  Эту линию колен целовать последний раз.   Припев:  Только рюмка водки на столе, ветер плачет за окном.  Тихо болью отзываются во мне этой молодой луны крики.   Не легко тебя отдать парусам ветров и птиц.  Может, даже, не понять, может, даже, не узнать  среди тысяч женских лиц.  Пусть глаза мои молчат. Молча смотрят на луну.  Если кто поймает взгляд, поторопится назад, сам не знаю почему.   Припев:  Только рюмка водки на столе, ветер плачет за окном.  Тихо болью отзываются во мне этой молодой луны крики.   Припев:  Только рюмка водки на столе, ветер плачет за окном.  Тихо болью отзываются во мне этой молодой луны крики./ 6 августа 2010 ',\n",
              "  'https://text-you.ru//rus_text_pesni/4569-grigorijj-leps-rjumka-vodki-na-stole.html'),\n",
              " ('Григорий Лепс',\n",
              "  'Тихо капает вода, я боюсь услышать \"да\", Ты уходишь и уходишь навсегда. Трудно говорить, и что-то объяснить Может быть я научусь по-новой жить. Шаг за дверь сейчас, сердца стон, Всё-равно я только с тобой!  Припев: Не прощали мы друг другу наших измен, И не знали что отдать друг-другу взамен. Но любовь из раны просочится, Крыльями о стёкла буду биться к тебе. Но любовь из раны просочится, Крыльями о стёкла буду биться к тебе.  Белый дым от сигарет и глаза меняют цвет, Времени в разбитой чашке больше нет. Позже всё пройдёт, любовь моя плывёт, Где-то в небе, кто поймать её рискнёт. Правда в тишине, сердца стон, Я останусь, но я с тобой.  Припев: Не прощали мы друг другу наших измен, И не знали что отдать друг-другу взамен. Но любовь из раны просочится, Крыльями о стёкла буду биться к тебе. Но любовь из раны просочится, Крыльями о стёкла буду биться к тебе./ 6 августа 2010 ',\n",
              "  'https://text-you.ru//rus_text_pesni/4570-grigorijj-leps-izmeny-i-viktorija-ilinskaja.html'),\n",
              " ('Григорий Лепс',\n",
              "  'Кто поверит, я и сам не верю - Толь на счастье, то ли на беду, У меня семь пятниц на неделе  И тринадцать месяцев в году.   Моё небо - синее, в алмазах. Что-то мне по-жизни принесет. Я крещен, а может быт помазан, В общем, я - счастливый, вот и все!   Припев:  Я - счастливый, как никто! Я счастливый лет уж 100. Я - счастливый! Я - не вру! Так счастливым и уйду! Я - счастливый, как никто! Я счастливый лет на 100. Я - счастливый! Я - не лгу! Так счастливым и уйду!   Кто-то знает, я и сам не знаю, Где финал тот, где та полоса. За которой лишь ворота Рая, А за ними просто Небеса.   А пока все небо только в звездах. Не во сне причем, а на яву. Что скажу за жизнь свою я просто - Я счастливый тем, что я живу.   Припев:  Я - счастливый, как никто! Я счастливый лет уж 100. Я - счастливый! Я - не вру! Так счастливым и уйду! Я - счастливый, как никто! Я счастливый лет на 100. Я - счастливый! Я - не лгу! Так счастливым и уйду!   [Solo]   Я - счастливый, как никто! Я счастливый лет уж 100. Я - счастливый! Я - не вру! Так счастливым и уйду! Я - счастливый, как никто! Я счастливый лет на 100. Я - счастливый! Я - не лгу! Так счастливым и уйду!   Cчастливый, как никто! Cчастливым и уйду! Cчастливый, как никто! Cчастливым и уйду!/ 7 декабря 2012 ',\n",
              "  'https://text-you.ru//rus_text_pesni/21665-grigorijj-leps-ja-schastlivyjj.html')]"
            ]
          },
          "metadata": {},
          "execution_count": 32
        }
      ],
      "source": [
        "result"
      ]
    },
    {
      "cell_type": "code",
      "execution_count": null,
      "id": "a5b6d732",
      "metadata": {
        "id": "a5b6d732"
      },
      "outputs": [],
      "source": []
    },
    {
      "cell_type": "markdown",
      "source": [
        "Задания:\n",
        "- Скачайте своего исполнителя\n",
        "- Добавьте в БД - поле с датой записи \n",
        "- Добавьте в БД имена артистов и ссылки на них на \n",
        "сайте через таблицу\n",
        "\n",
        "\n",
        "Задание со звездочкой:\n",
        "- Спарсить песни с другого сайта"
      ],
      "metadata": {
        "id": "Tk5eqKfv3usU"
      },
      "id": "Tk5eqKfv3usU"
    },
    {
      "cell_type": "code",
      "execution_count": null,
      "id": "1cf97c71",
      "metadata": {
        "id": "1cf97c71"
      },
      "outputs": [],
      "source": []
    },
    {
      "cell_type": "code",
      "execution_count": null,
      "id": "92022ea0",
      "metadata": {
        "id": "92022ea0"
      },
      "outputs": [],
      "source": []
    }
  ],
  "metadata": {
    "kernelspec": {
      "display_name": "DS_venv",
      "language": "python",
      "name": "ds_venv"
    },
    "language_info": {
      "codemirror_mode": {
        "name": "ipython",
        "version": 3
      },
      "file_extension": ".py",
      "mimetype": "text/x-python",
      "name": "python",
      "nbconvert_exporter": "python",
      "pygments_lexer": "ipython3",
      "version": "3.8.5"
    },
    "colab": {
      "provenance": [],
      "include_colab_link": true
    }
  },
  "nbformat": 4,
  "nbformat_minor": 5
}