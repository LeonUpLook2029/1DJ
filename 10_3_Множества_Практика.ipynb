{
  "nbformat": 4,
  "nbformat_minor": 0,
  "metadata": {
    "colab": {
      "provenance": [],
      "include_colab_link": true
    },
    "kernelspec": {
      "name": "python3",
      "display_name": "Python 3"
    },
    "language_info": {
      "name": "python"
    }
  },
  "cells": [
    {
      "cell_type": "markdown",
      "metadata": {
        "id": "view-in-github",
        "colab_type": "text"
      },
      "source": [
        "<a href=\"https://colab.research.google.com/github/LeonUpLook2029/1DJ/blob/master/10_3_%D0%9C%D0%BD%D0%BE%D0%B6%D0%B5%D1%81%D1%82%D0%B2%D0%B0_%D0%9F%D1%80%D0%B0%D0%BA%D1%82%D0%B8%D0%BA%D0%B0.ipynb\" target=\"_parent\"><img src=\"https://colab.research.google.com/assets/colab-badge.svg\" alt=\"Open In Colab\"/></a>"
      ]
    },
    {
      "cell_type": "markdown",
      "metadata": {
        "id": "1N627HauDORH"
      },
      "source": [
        "# Множества. Практическое задание\n",
        "\n",
        "В этом практическом задании две обязательные и одна дополнительная задача.\n",
        "\n",
        "*Обязательные задачи* нужно сделать, чтобы проверить, что вы действительно усвоили материал урока. Если у вас всё получилось, вы можете переходить к следующему уроку.\n",
        "\n",
        "*Дополнительные задачи* для тех, кто чувствует, что нужно ещё немного потренироваться и порешать задачки по программированию.\n",
        "\n",
        "Удачи!\n"
      ]
    },
    {
      "cell_type": "markdown",
      "metadata": {
        "id": "d_lOky2oDSS6"
      },
      "source": [
        "**Цели практического задания:**\n",
        "\n",
        "\n",
        "1.   Попрактиковать работу с типом данных set в Python.\n",
        "2.   Отработать операции над множествами: пересечение, объединение, вычитание.\n",
        "\n"
      ]
    },
    {
      "cell_type": "markdown",
      "metadata": {
        "id": "kSuS0M15DguK"
      },
      "source": [
        "\n",
        "\n",
        "---\n",
        "\n",
        "\n",
        "---\n",
        "\n"
      ]
    },
    {
      "cell_type": "markdown",
      "metadata": {
        "id": "rZW1xr_ODhmX"
      },
      "source": [
        "**Обязательные задачи**"
      ]
    },
    {
      "cell_type": "markdown",
      "metadata": {
        "id": "EkIeM_8MDjms"
      },
      "source": [
        "*Задача 1. Операции над множествами*\n",
        "\n",
        "Есть два списка. В списке `opened` лежат все ID договоров, открытых за прошлую неделю. В списке `closed` лежат все ID договоров, закрытых за прошлую неделю. \n",
        "\n",
        "Найдите с помощью множеств следующие значения:\n",
        "1. ID договоров, которые были открыты, а затем закрыты на прошлой неделе.\n",
        "2. ID договоров, которые были закрыты на прошлой неделе, но открыты ранее прошлой недели.\n",
        "3. ID договоров, которые были открыты на прошлой неделе, но пока не закрылись.\n",
        "4. Все ID договоров, с которыми производили операции закрытия или открытия на прошлой неделе.\n",
        "5. Проверьте, что сумма элементов из 1, 2, 3 равна 4.\n",
        "\n",
        "Проверьте работоспособность программы на разных значениях `opened`, `closed`.\n",
        "\n",
        "\n",
        "\n",
        "\n"
      ]
    },
    {
      "cell_type": "code",
      "metadata": {
        "id": "hAxIBXUr0Sh7"
      },
      "source": [
        "opened = ['123', '156', '189', '201', '222', '256', '266', '287', '289', '300']\n",
        "closed = ['20', '78', '85', '123', '222', '256', '287', '289']"
      ],
      "execution_count": 1,
      "outputs": []
    },
    {
      "cell_type": "code",
      "metadata": {
        "id": "0FZ4VRVv1eRd",
        "colab": {
          "base_uri": "https://localhost:8080/"
        },
        "outputId": "c81ebef9-bae9-4436-8c0a-dd522d60c593"
      },
      "source": [
        "op_set = set(opened)\n",
        "cl_set = set(closed)\n",
        "# ID договоров, которые были открыты, а затем закрыты на прошлой неделе.\n",
        "ID_o_c1 = op_set & cl_set\n",
        "# ID договоров, которые были закрыты на прошлой неделе, но открыты ранее прошлой недели.\n",
        "ID_o_c2 = cl_set - op_set \n",
        "# ID договоров, которые были открыты на прошлой неделе, но пока не закрылись.\n",
        "ID_o_c3 = op_set - cl_set\n",
        "# Все ID договоров, с которыми производили операции закрытия или открытия на прошлой неделе.\n",
        "ID_o_c4 = op_set | cl_set\n",
        "# Проверьте, что сумма элементов из 1, 2, 3 равна 4\n",
        "\n",
        "print(f'{ID_o_c1} - {len(ID_o_c1)}, {ID_o_c2} - {len(ID_o_c2)}, {ID_o_c3} - {len(ID_o_c3)}')\n",
        "print(len(ID_o_c4))\n",
        "print(len(ID_o_c1) + len(ID_o_c2) + len(ID_o_c3) == len(ID_o_c4))\n",
        "print(ID_o_c4)"
      ],
      "execution_count": 15,
      "outputs": [
        {
          "output_type": "stream",
          "name": "stdout",
          "text": [
            "{'256', '289', '287', '222', '123'} - 5, {'20', '78', '85'} - 3, {'156', '201', '189', '300', '266'} - 5\n",
            "13\n",
            "True\n",
            "{'78', '156', '201', '189', '256', '289', '20', '287', '300', '85', '222', '123', '266'}\n"
          ]
        }
      ]
    },
    {
      "cell_type": "markdown",
      "metadata": {
        "id": "kLOK1abacrz5"
      },
      "source": [
        "*Задача 2. Проверка на дубли*\n",
        "\n",
        "Дан список `numbers`. Для каждого элемента выведите, встречался он до этого в списке или нет. Используйте множества для решения этой задачи.\n",
        "\n",
        "Проверьте работоспособность программы на разных значениях `numbers`.\n"
      ]
    },
    {
      "cell_type": "markdown",
      "metadata": {
        "id": "H3kfzVSjBmok"
      },
      "source": [
        "Пример: \n",
        "<br>\n",
        "Input: `numbers = [1, 2, 1, 3, 2]` \n",
        "<br>\n",
        "Output: \n",
        "\n",
        "`1 - не встречалось`\n",
        "\n",
        "`2 - не встречалось`\n",
        "\n",
        "`1 - дубль`\n",
        "\n",
        "`3 - не встречалось`\n",
        "\n",
        "`2 - дубль`"
      ]
    },
    {
      "cell_type": "code",
      "metadata": {
        "id": "VwSgUEvECK8z"
      },
      "source": [
        "numbers = [1, 2, 1, 3, 2, 3, 1]"
      ],
      "execution_count": 18,
      "outputs": []
    },
    {
      "cell_type": "code",
      "metadata": {
        "id": "nwpN2SXnDRlg",
        "colab": {
          "base_uri": "https://localhost:8080/"
        },
        "outputId": "c91d958f-195f-4e1b-831e-80a468e9ca62"
      },
      "source": [
        "set_numbers = set()\n",
        "for el in numbers:\n",
        "    if el in set_numbers:\n",
        "        print(el, '- дубль')\n",
        "    else:\n",
        "        print(el, '- не встречалось')\n",
        "        set_numbers.add(el)"
      ],
      "execution_count": 19,
      "outputs": [
        {
          "output_type": "stream",
          "name": "stdout",
          "text": [
            "1 - не встречалось\n",
            "2 - не встречалось\n",
            "1 - дубль\n",
            "3 - не встречалось\n",
            "2 - дубль\n",
            "3 - дубль\n",
            "1 - дубль\n"
          ]
        }
      ]
    },
    {
      "cell_type": "markdown",
      "metadata": {
        "id": "PG32wmrtCDUI"
      },
      "source": [
        "\n",
        "\n",
        "---\n",
        "\n",
        "\n",
        "---\n",
        "\n"
      ]
    },
    {
      "cell_type": "markdown",
      "metadata": {
        "id": "3R_pNvq8CGVe"
      },
      "source": [
        "**Дополнительные задачи**"
      ]
    },
    {
      "cell_type": "markdown",
      "metadata": {
        "id": "r5RHqRY-Ngxj"
      },
      "source": [
        "*Задача 3. Проверка на плагиат*\n",
        "\n",
        "Даны два текста, которые лежат в переменных `text1` и  `text2` соответственно. Найдите схожесть данных текстов. Давайте считать схожестью процент, который можно найти по следующей формуле:\n",
        "\n",
        "схожесть = (количество уникальных одинаковых слов / общее число уникальных слов в двух текстах) * 100%\n",
        "\n",
        "\n",
        "В этом задании слова не нужно приводить в начальную форму. Так, \"цены\" и \"цен\" в текстах ниже мы будем считать разными словами."
      ]
    },
    {
      "cell_type": "markdown",
      "metadata": {
        "id": "0h844tl-PBPZ"
      },
      "source": [
        "Подсказка:\n",
        "1. От нежелательных знаков препинания можно избавиться с помощью `replace`.\n",
        "2. Символ `\\` удалять не нужно, он позволяет описывать строковую переменную в несколько строк в коде.\n"
      ]
    },
    {
      "cell_type": "code",
      "metadata": {
        "id": "ocdGf-RcCEOL"
      },
      "source": [
        "text1 = 'В первом квартале года отмечался рост цен практически на все сырьевые товары, что отражало сохранение тенденции к заметному росту цен, начавшемуся в середине 2020 года.\\\n",
        " Больше всего подорожали энергоресурсы, что имеет особое значение для российского экспорта топливо-энергетических товаров.'\n",
        "\n",
        "text2 = 'Цены на неэнергетические сырьевые товары в третьем квартале года в среднем выросли на 10% и по итогам года они покажут незначительный рост по сравнению с 2020. \\\n",
        "Это приведет к заметному росту цен на другие ресурсы.'"
      ],
      "execution_count": 20,
      "outputs": []
    },
    {
      "cell_type": "code",
      "metadata": {
        "colab": {
          "base_uri": "https://localhost:8080/",
          "height": 52
        },
        "id": "onIqVKnhPmIL",
        "outputId": "d2dcfe8c-25ae-476d-c0e1-045f1efd8295"
      },
      "source": [
        "text1"
      ],
      "execution_count": 21,
      "outputs": [
        {
          "output_type": "execute_result",
          "data": {
            "text/plain": [
              "'В первом квартале года отмечался рост цен практически на все сырьевые товары, что отражало сохранение тенденции к заметному росту цен, начавшемуся в середине 2020 года. Больше всего подорожали энергоресурсы, что имеет особое значение для российского экспорта топливо-энергетических товаров.'"
            ],
            "application/vnd.google.colaboratory.intrinsic+json": {
              "type": "string"
            }
          },
          "metadata": {},
          "execution_count": 21
        }
      ]
    },
    {
      "cell_type": "code",
      "metadata": {
        "colab": {
          "base_uri": "https://localhost:8080/",
          "height": 52
        },
        "id": "h15ANBaQPmQS",
        "outputId": "46981755-38ba-4f19-fef4-dea7ec17e638"
      },
      "source": [
        "text2"
      ],
      "execution_count": 22,
      "outputs": [
        {
          "output_type": "execute_result",
          "data": {
            "text/plain": [
              "'Цены на неэнергетические сырьевые товары в третьем квартале года в среднем выросли на 10% и по итогам года они покажут незначительный рост по сравнению с 2020. Это приведет к заметному росту цен на другие ресурсы.'"
            ],
            "application/vnd.google.colaboratory.intrinsic+json": {
              "type": "string"
            }
          },
          "metadata": {},
          "execution_count": 22
        }
      ]
    },
    {
      "cell_type": "code",
      "metadata": {
        "id": "-cPD4lxpPPQC",
        "colab": {
          "base_uri": "https://localhost:8080/"
        },
        "outputId": "befa7aca-00d0-4420-b454-eaf2261f11f9"
      },
      "source": [
        "set1 = set(text1.replace(',', '').replace('.', '').lower().split())\n",
        "set2 = set(text2.replace(',', '').replace('.', '').lower().split())\n",
        "print(f'Схожесть двух текстов — {len(set1 & set2) / len(set1 | set2) * 100}%')"
      ],
      "execution_count": 24,
      "outputs": [
        {
          "output_type": "stream",
          "name": "stdout",
          "text": [
            "Схожесть двух текстов — 23.076923076923077%\n"
          ]
        }
      ]
    },
    {
      "cell_type": "markdown",
      "source": [
        "| \n",
        "\n",
        "|\n",
        "\n",
        "|\n",
        "\n",
        "|\n",
        "\n",
        "|\n",
        "\n",
        "|\n",
        "\n",
        "|\n",
        "\n",
        "|\n",
        "\n",
        "|\n",
        "\n",
        "|\n",
        "\n",
        "|\n",
        "\n",
        "|\n",
        "\n",
        "# Решения"
      ],
      "metadata": {
        "id": "OOjqsb-Rox0R"
      }
    },
    {
      "cell_type": "markdown",
      "metadata": {
        "id": "MgP27BJbowdF"
      },
      "source": [
        "**Обязательные задачи**"
      ]
    },
    {
      "cell_type": "markdown",
      "metadata": {
        "id": "TxIkVxRqowdI"
      },
      "source": [
        "*Задача 1. Операции над множествами*\n",
        "\n",
        "Есть два списка. В списке `opened` лежат все ID договоров, открытых за прошлую неделю. В списке `closed` лежат все ID договоров, закрытых за прошлую неделю. \n",
        "\n",
        "Найдите с помощью множеств следующие значения:\n",
        "1. ID договоров, которые были открыты, а затем закрыты на прошлой неделе.\n",
        "2. ID договоров, которые были закрыты на прошлой неделе, но открыты ранее прошлой недели.\n",
        "3. ID договоров, которые были открыты на прошлой неделе, но пока не закрылись.\n",
        "4. Все ID договоров, с которыми производили операции закрытия или открытия на прошлой неделе.\n",
        "5. Проверьте, что сумма элементов из 1, 2, 3 равна 4.\n",
        "\n",
        "Проверьте работоспособность программы на разных значениях `opened`, `closed`.\n",
        "\n",
        "\n",
        "\n",
        "\n"
      ]
    },
    {
      "cell_type": "code",
      "metadata": {
        "id": "HIYRCStRowdI"
      },
      "source": [
        "opened = ['123', '156', '189', '201', '222', '256', '266', '287', '289', '300']\n",
        "closed = ['20', '78', '85', '123', '222', '256', '287', '289']"
      ],
      "execution_count": null,
      "outputs": []
    },
    {
      "cell_type": "code",
      "metadata": {
        "colab": {
          "base_uri": "https://localhost:8080/"
        },
        "id": "-_D9yDodowdJ",
        "outputId": "5f5fb4ae-69c4-4dcc-8727-2ecb078918f8"
      },
      "source": [
        "#1\n",
        "set1 = set(opened) & set(closed)\n",
        "set1"
      ],
      "execution_count": null,
      "outputs": [
        {
          "output_type": "execute_result",
          "data": {
            "text/plain": [
              "{'123', '222', '256', '287', '289'}"
            ]
          },
          "metadata": {},
          "execution_count": 8
        }
      ]
    },
    {
      "cell_type": "code",
      "source": [
        "#2\n",
        "set2 = set(closed) - set(opened)\n",
        "set2"
      ],
      "metadata": {
        "colab": {
          "base_uri": "https://localhost:8080/"
        },
        "id": "0JDCH7gnpRJN",
        "outputId": "f9a1e387-d113-4c1d-9ce7-e458f3e7acc3"
      },
      "execution_count": null,
      "outputs": [
        {
          "output_type": "execute_result",
          "data": {
            "text/plain": [
              "{'20', '78', '85'}"
            ]
          },
          "metadata": {},
          "execution_count": 9
        }
      ]
    },
    {
      "cell_type": "code",
      "source": [
        "#3\n",
        "set3 = set(opened) - set(closed)\n",
        "set3"
      ],
      "metadata": {
        "colab": {
          "base_uri": "https://localhost:8080/"
        },
        "id": "w4Q63fuApRFX",
        "outputId": "6ec950d7-b6f7-422e-a7e9-50bcfff2f507"
      },
      "execution_count": null,
      "outputs": [
        {
          "output_type": "execute_result",
          "data": {
            "text/plain": [
              "{'156', '189', '201', '266', '300'}"
            ]
          },
          "metadata": {},
          "execution_count": 11
        }
      ]
    },
    {
      "cell_type": "code",
      "source": [
        "#4\n",
        "set4 = set(opened) | set(closed)\n",
        "set4"
      ],
      "metadata": {
        "colab": {
          "base_uri": "https://localhost:8080/"
        },
        "id": "2WiIXm_9pQ6_",
        "outputId": "0e80b47b-3626-4d01-e38c-9a0273569307"
      },
      "execution_count": null,
      "outputs": [
        {
          "output_type": "execute_result",
          "data": {
            "text/plain": [
              "{'123',\n",
              " '156',\n",
              " '189',\n",
              " '20',\n",
              " '201',\n",
              " '222',\n",
              " '256',\n",
              " '266',\n",
              " '287',\n",
              " '289',\n",
              " '300',\n",
              " '78',\n",
              " '85'}"
            ]
          },
          "metadata": {},
          "execution_count": 12
        }
      ]
    },
    {
      "cell_type": "code",
      "source": [
        "len(set1) + len(set2) + len(set3) == len(set4)"
      ],
      "metadata": {
        "colab": {
          "base_uri": "https://localhost:8080/"
        },
        "id": "af-iFpb-psli",
        "outputId": "df599f46-21ab-4524-ff28-86d6b1056c7b"
      },
      "execution_count": null,
      "outputs": [
        {
          "output_type": "execute_result",
          "data": {
            "text/plain": [
              "True"
            ]
          },
          "metadata": {},
          "execution_count": 13
        }
      ]
    },
    {
      "cell_type": "markdown",
      "metadata": {
        "id": "8A0vK417owdJ"
      },
      "source": [
        "*Задача 2. Проверка на дубли*\n",
        "\n",
        "Дан список `numbers`. Для каждого элемента выведите, встречался он до этого в списке или нет. Используйте множества для решения этой задачи.\n",
        "\n",
        "Проверьте работоспособность программы на разных значениях `numbers`.\n"
      ]
    },
    {
      "cell_type": "markdown",
      "metadata": {
        "id": "eUdwqUQlowdJ"
      },
      "source": [
        "Пример: \n",
        "<br>\n",
        "Input: `numbers = [1, 2, 1, 3, 2]` \n",
        "<br>\n",
        "Output: \n",
        "\n",
        "`1 - не встречалось`\n",
        "\n",
        "`2 - не встречалось`\n",
        "\n",
        "`1 - дубль`\n",
        "\n",
        "`3 - не встречалось`\n",
        "\n",
        "`2 - дубль`"
      ]
    },
    {
      "cell_type": "code",
      "metadata": {
        "id": "yN4L3xF-owdJ"
      },
      "source": [
        "numbers = [1, 2, 1, 3, 2]"
      ],
      "execution_count": null,
      "outputs": []
    },
    {
      "cell_type": "code",
      "metadata": {
        "colab": {
          "base_uri": "https://localhost:8080/"
        },
        "id": "9RS8tmztowdK",
        "outputId": "4f52b5f0-59bb-47d8-a7e3-1a8747cbd412"
      },
      "source": [
        "set_numbers = set()\n",
        "for el in numbers:\n",
        "    if el in set_numbers:\n",
        "        print(el, '- дубль')\n",
        "    else:\n",
        "        print(el, '- не встречалось')\n",
        "        set_numbers.add(el)"
      ],
      "execution_count": null,
      "outputs": [
        {
          "output_type": "stream",
          "name": "stdout",
          "text": [
            "1 - не встречалось\n",
            "2 - не встречалось\n",
            "1 - дубль\n",
            "3 - не встречалось\n",
            "2 - дубль\n"
          ]
        }
      ]
    },
    {
      "cell_type": "markdown",
      "metadata": {
        "id": "KQlXsWJJowdK"
      },
      "source": [
        "\n",
        "\n",
        "---\n",
        "\n",
        "\n",
        "---\n",
        "\n"
      ]
    },
    {
      "cell_type": "markdown",
      "metadata": {
        "id": "yfqXpEKOowdK"
      },
      "source": [
        "**Дополнительные задачи**"
      ]
    },
    {
      "cell_type": "markdown",
      "metadata": {
        "id": "4--C7-voowdK"
      },
      "source": [
        "*Задача 3. Проверка на плагиат*\n",
        "\n",
        "Даны два текста, которые лежат в переменных `text1` и  `text2` соответственно. Найдите схожесть данных текстов. Давайте считать схожестью процент, который можно найти по следующей формуле:\n",
        "\n",
        "схожесть = (количество уникальных одинаковых слов / общее число уникальных слов в двух текстах) * 100%\n",
        "\n",
        "\n",
        "В этом задании слова не нужно приводить в начальную форму. Так, \"цены\" и \"цен\" в текстах ниже мы будем считать разными словами."
      ]
    },
    {
      "cell_type": "markdown",
      "metadata": {
        "id": "bvDt-90KowdK"
      },
      "source": [
        "Подсказка:\n",
        "1. От нежелательных знаков препинания можно избавиться с помощью `replace`.\n",
        "2. Символ `\\` удалять не нужно, он позволяет описывать строковую переменную в несколько строк в коде.\n"
      ]
    },
    {
      "cell_type": "code",
      "metadata": {
        "id": "c6bpdVIKowdK"
      },
      "source": [
        "text1 = 'В первом квартале года отмечался рост цен практически на все сырьевые товары, что отражало сохранение тенденции к заметному росту цен, начавшемуся в середине 2020 года.\\\n",
        " Больше всего подорожали энергоресурсы, что имеет особое значение для российского экспорта топливо-энергетических товаров.'\n",
        "\n",
        "text2 = 'Цены на неэнергетические сырьевые товары в третьем квартале года в среднем выросли на 10% и по итогам года они покажут незначительный рост по сравнению с 2020. \\\n",
        "Это приведет к заметному росту цен на другие ресурсы.'"
      ],
      "execution_count": null,
      "outputs": []
    },
    {
      "cell_type": "code",
      "metadata": {
        "colab": {
          "base_uri": "https://localhost:8080/",
          "height": 53
        },
        "outputId": "8b4ff4fa-7301-4182-9fb7-e8ddf77d87f5",
        "id": "CU009iaoowdL"
      },
      "source": [
        "text1"
      ],
      "execution_count": null,
      "outputs": [
        {
          "output_type": "execute_result",
          "data": {
            "application/vnd.google.colaboratory.intrinsic+json": {
              "type": "string"
            },
            "text/plain": [
              "'В первом квартале года отмечался рост цен практически на все сырьевые товары, что отражало сохранение тенденции к заметному росту цен, начавшемуся в середине 2020 года. Больше всего подорожали энергоресурсы, что имеет особое значение для российского экспорта топливо-энергетических товаров.'"
            ]
          },
          "metadata": {},
          "execution_count": 18
        }
      ]
    },
    {
      "cell_type": "code",
      "metadata": {
        "colab": {
          "base_uri": "https://localhost:8080/",
          "height": 52
        },
        "outputId": "62838b16-7555-4a3d-d731-c00d829096d7",
        "id": "CWJNA0e4owdL"
      },
      "source": [
        "text2"
      ],
      "execution_count": null,
      "outputs": [
        {
          "output_type": "execute_result",
          "data": {
            "application/vnd.google.colaboratory.intrinsic+json": {
              "type": "string"
            },
            "text/plain": [
              "'Цены на неэнергетические сырьевые товары в третьем квартале года в среднем выросли на 10% и по итогам года они покажут незначительный рост по сравнению с 2020. Это приведет к заметному росту цен на другие ресурсы.'"
            ]
          },
          "metadata": {},
          "execution_count": 19
        }
      ]
    },
    {
      "cell_type": "code",
      "metadata": {
        "id": "w85dmwGDowdL"
      },
      "source": [
        "set1 = set(text1.replace(',', '').replace('.', '').lower().split())\n",
        "set2 = set(text2.replace(',', '').replace('.', '').lower().split())"
      ],
      "execution_count": null,
      "outputs": []
    },
    {
      "cell_type": "code",
      "source": [
        "set1"
      ],
      "metadata": {
        "colab": {
          "base_uri": "https://localhost:8080/"
        },
        "id": "PD9tBNARrqcC",
        "outputId": "6c151c6a-1aa1-4abe-dd16-7e8a928a0c11"
      },
      "execution_count": null,
      "outputs": [
        {
          "output_type": "execute_result",
          "data": {
            "text/plain": [
              "{'2020',\n",
              " 'больше',\n",
              " 'в',\n",
              " 'все',\n",
              " 'всего',\n",
              " 'года',\n",
              " 'для',\n",
              " 'заметному',\n",
              " 'значение',\n",
              " 'имеет',\n",
              " 'к',\n",
              " 'квартале',\n",
              " 'на',\n",
              " 'начавшемуся',\n",
              " 'особое',\n",
              " 'отмечался',\n",
              " 'отражало',\n",
              " 'первом',\n",
              " 'подорожали',\n",
              " 'практически',\n",
              " 'российского',\n",
              " 'рост',\n",
              " 'росту',\n",
              " 'середине',\n",
              " 'сохранение',\n",
              " 'сырьевые',\n",
              " 'тенденции',\n",
              " 'товаров',\n",
              " 'товары',\n",
              " 'топливо-энергетических',\n",
              " 'цен',\n",
              " 'что',\n",
              " 'экспорта',\n",
              " 'энергоресурсы'}"
            ]
          },
          "metadata": {},
          "execution_count": 24
        }
      ]
    },
    {
      "cell_type": "code",
      "source": [
        "set2"
      ],
      "metadata": {
        "colab": {
          "base_uri": "https://localhost:8080/"
        },
        "id": "ziZZZDNfrrRY",
        "outputId": "f2cb26a2-6668-4bc6-f401-e4e93b3f6642"
      },
      "execution_count": null,
      "outputs": [
        {
          "output_type": "execute_result",
          "data": {
            "text/plain": [
              "{'10%',\n",
              " '2020',\n",
              " 'в',\n",
              " 'выросли',\n",
              " 'года',\n",
              " 'другие',\n",
              " 'заметному',\n",
              " 'и',\n",
              " 'итогам',\n",
              " 'к',\n",
              " 'квартале',\n",
              " 'на',\n",
              " 'незначительный',\n",
              " 'неэнергетические',\n",
              " 'они',\n",
              " 'по',\n",
              " 'покажут',\n",
              " 'приведет',\n",
              " 'ресурсы',\n",
              " 'рост',\n",
              " 'росту',\n",
              " 'с',\n",
              " 'сравнению',\n",
              " 'среднем',\n",
              " 'сырьевые',\n",
              " 'товары',\n",
              " 'третьем',\n",
              " 'цен',\n",
              " 'цены',\n",
              " 'это'}"
            ]
          },
          "metadata": {},
          "execution_count": 25
        }
      ]
    },
    {
      "cell_type": "code",
      "source": [
        "print(f'Схожесть двух текстов — {len(set1 & set2) / len(set1 | set2) * 100}%')"
      ],
      "metadata": {
        "colab": {
          "base_uri": "https://localhost:8080/"
        },
        "id": "ESXhqo5rrsTG",
        "outputId": "9c4c0549-79b2-493d-ebce-cecb20e6e800"
      },
      "execution_count": null,
      "outputs": [
        {
          "output_type": "stream",
          "name": "stdout",
          "text": [
            "Схожесть двух текстов — 23.076923076923077%\n"
          ]
        }
      ]
    },
    {
      "cell_type": "code",
      "source": [],
      "metadata": {
        "id": "nu56WK43sciV"
      },
      "execution_count": null,
      "outputs": []
    }
  ]
}